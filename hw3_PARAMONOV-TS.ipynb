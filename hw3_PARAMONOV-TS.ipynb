{
 "cells": [
  {
   "attachments": {},
   "cell_type": "markdown",
   "metadata": {},
   "source": [
    "# Домашнее задание 3"
   ]
  },
  {
   "attachments": {},
   "cell_type": "markdown",
   "metadata": {},
   "source": [
    "# 1. Введение."
   ]
  },
  {
   "attachments": {},
   "cell_type": "markdown",
   "metadata": {},
   "source": [
    "В этом разделе нам необходимо построить прогнозные модели для курсов валют. На семинарах мы обсуждали, что прогнозировать цены котировок стандартными линейными моделями довольно бесперспективно. Так как такие данные близки к модели случайного блуждания, оптимальным прогнозом для них часто оказывается наивный. Однако если перейти к более низкой частоте (например, к месячным данным), то некоторого превосходства над наивной всё же можно добиться.\n",
    "\n",
    "В приложенном датасете currencies.csv находятся следующие величины:\n",
    "1.  Курсы ряда валют по отношению к доллару. \n",
    "\n",
    "    Курс EUR/USD - Евро Доллар США\n",
    "    \n",
    "    Курс CNY/USD - Китайский юань Доллар США\n",
    "    \n",
    "    Курс INR/USD - Индийская рупия Доллар США\n",
    "    \n",
    "    Курс JPY/USD - Японская йена Доллар США\n",
    "    \n",
    "    Курс GBR/USD - Британский фунт Доллар США\n",
    "    \n",
    "    Курс CHF/USD - Швейцарский франк Доллар США\n",
    "    \n",
    "    Курс BRL/USD - Бразильский реал Доллар США\n",
    "    \n",
    "    Курс IDR/USD - Индонезийская рупия Доллар США\n",
    "\n",
    "2. Цена нефти BRENT за баррель и цена газа в Европе за mmbtu (Британская тепловая единица)\n",
    "3. ff_rate -- ставка ФРС США\n",
    "\n",
    "Нашей задачей будет построить прогнозную модель для всех курсов валют из пункта 1. Цены нефти, газа и ставка ФРС даны дополнительно, можете использовать их если посчитаете необходимым, но в базовой версии можно использовать только временные ряды курсов валют."
   ]
  },
  {
   "attachments": {},
   "cell_type": "markdown",
   "metadata": {},
   "source": [
    "### Импорт данных\n",
    "\n",
    "Импортируйте данные из файла. Приведите информацию о датах в один столбец типа datetime. Например, чтобы каждая точка отображала дату начала месяца. "
   ]
  },
  {
   "cell_type": "code",
   "execution_count": 27,
   "metadata": {},
   "outputs": [
    {
     "data": {
      "text/html": [
       "<div>\n",
       "<style scoped>\n",
       "    .dataframe tbody tr th:only-of-type {\n",
       "        vertical-align: middle;\n",
       "    }\n",
       "\n",
       "    .dataframe tbody tr th {\n",
       "        vertical-align: top;\n",
       "    }\n",
       "\n",
       "    .dataframe thead th {\n",
       "        text-align: right;\n",
       "    }\n",
       "</style>\n",
       "<table border=\"1\" class=\"dataframe\">\n",
       "  <thead>\n",
       "    <tr style=\"text-align: right;\">\n",
       "      <th></th>\n",
       "      <th>Год</th>\n",
       "      <th>Квартал</th>\n",
       "      <th>Месяц</th>\n",
       "      <th>brent</th>\n",
       "      <th>gas</th>\n",
       "      <th>eur_usd</th>\n",
       "      <th>cny_usd</th>\n",
       "      <th>inr_usd</th>\n",
       "      <th>jpy_usd</th>\n",
       "      <th>gbr_usd</th>\n",
       "      <th>chf_usd</th>\n",
       "      <th>brl_usd</th>\n",
       "      <th>idr_usd</th>\n",
       "      <th>ff_rate</th>\n",
       "      <th>date</th>\n",
       "    </tr>\n",
       "  </thead>\n",
       "  <tbody>\n",
       "    <tr>\n",
       "      <th>0</th>\n",
       "      <td>2000</td>\n",
       "      <td>1</td>\n",
       "      <td>1.0</td>\n",
       "      <td>25.3800</td>\n",
       "      <td>3.360000</td>\n",
       "      <td>1.013610</td>\n",
       "      <td>0.120784</td>\n",
       "      <td>0.022243</td>\n",
       "      <td>0.949539</td>\n",
       "      <td>1.640095</td>\n",
       "      <td>0.629500</td>\n",
       "      <td>0.554614</td>\n",
       "      <td>0.000137</td>\n",
       "      <td>5.45</td>\n",
       "      <td>2000-01-01</td>\n",
       "    </tr>\n",
       "    <tr>\n",
       "      <th>1</th>\n",
       "      <td>2000</td>\n",
       "      <td>1</td>\n",
       "      <td>2.0</td>\n",
       "      <td>27.7048</td>\n",
       "      <td>3.460000</td>\n",
       "      <td>0.984514</td>\n",
       "      <td>0.120801</td>\n",
       "      <td>0.022340</td>\n",
       "      <td>0.913322</td>\n",
       "      <td>1.601462</td>\n",
       "      <td>0.612571</td>\n",
       "      <td>0.563276</td>\n",
       "      <td>0.000135</td>\n",
       "      <td>5.73</td>\n",
       "      <td>2000-01-02</td>\n",
       "    </tr>\n",
       "    <tr>\n",
       "      <th>2</th>\n",
       "      <td>2000</td>\n",
       "      <td>1</td>\n",
       "      <td>3.0</td>\n",
       "      <td>27.4700</td>\n",
       "      <td>3.510000</td>\n",
       "      <td>0.965026</td>\n",
       "      <td>0.120794</td>\n",
       "      <td>0.022483</td>\n",
       "      <td>0.940342</td>\n",
       "      <td>1.581504</td>\n",
       "      <td>0.601583</td>\n",
       "      <td>0.574004</td>\n",
       "      <td>0.000134</td>\n",
       "      <td>5.85</td>\n",
       "      <td>2000-01-03</td>\n",
       "    </tr>\n",
       "    <tr>\n",
       "      <th>3</th>\n",
       "      <td>2000</td>\n",
       "      <td>2</td>\n",
       "      <td>4.0</td>\n",
       "      <td>22.5400</td>\n",
       "      <td>3.680000</td>\n",
       "      <td>0.945325</td>\n",
       "      <td>0.120783</td>\n",
       "      <td>0.022347</td>\n",
       "      <td>0.946392</td>\n",
       "      <td>1.581220</td>\n",
       "      <td>0.601190</td>\n",
       "      <td>0.565205</td>\n",
       "      <td>0.000128</td>\n",
       "      <td>6.02</td>\n",
       "      <td>2000-01-04</td>\n",
       "    </tr>\n",
       "    <tr>\n",
       "      <th>4</th>\n",
       "      <td>2000</td>\n",
       "      <td>2</td>\n",
       "      <td>5.0</td>\n",
       "      <td>27.3400</td>\n",
       "      <td>3.550000</td>\n",
       "      <td>0.908461</td>\n",
       "      <td>0.120801</td>\n",
       "      <td>0.022323</td>\n",
       "      <td>0.924374</td>\n",
       "      <td>1.509061</td>\n",
       "      <td>0.583104</td>\n",
       "      <td>0.547661</td>\n",
       "      <td>0.000120</td>\n",
       "      <td>6.27</td>\n",
       "      <td>2000-01-05</td>\n",
       "    </tr>\n",
       "    <tr>\n",
       "      <th>...</th>\n",
       "      <td>...</td>\n",
       "      <td>...</td>\n",
       "      <td>...</td>\n",
       "      <td>...</td>\n",
       "      <td>...</td>\n",
       "      <td>...</td>\n",
       "      <td>...</td>\n",
       "      <td>...</td>\n",
       "      <td>...</td>\n",
       "      <td>...</td>\n",
       "      <td>...</td>\n",
       "      <td>...</td>\n",
       "      <td>...</td>\n",
       "      <td>...</td>\n",
       "      <td>...</td>\n",
       "    </tr>\n",
       "    <tr>\n",
       "      <th>278</th>\n",
       "      <td>2023</td>\n",
       "      <td>1</td>\n",
       "      <td>3.0</td>\n",
       "      <td>78.5300</td>\n",
       "      <td>13.812077</td>\n",
       "      <td>1.071061</td>\n",
       "      <td>0.145039</td>\n",
       "      <td>0.012120</td>\n",
       "      <td>0.748226</td>\n",
       "      <td>1.214527</td>\n",
       "      <td>1.080700</td>\n",
       "      <td>0.192174</td>\n",
       "      <td>0.000065</td>\n",
       "      <td>4.65</td>\n",
       "      <td>2023-01-03</td>\n",
       "    </tr>\n",
       "    <tr>\n",
       "      <th>279</th>\n",
       "      <td>2023</td>\n",
       "      <td>2</td>\n",
       "      <td>4.0</td>\n",
       "      <td>84.1100</td>\n",
       "      <td>13.520530</td>\n",
       "      <td>1.096370</td>\n",
       "      <td>0.145155</td>\n",
       "      <td>0.012110</td>\n",
       "      <td>0.749125</td>\n",
       "      <td>1.245177</td>\n",
       "      <td>1.113580</td>\n",
       "      <td>0.199370</td>\n",
       "      <td>0.000067</td>\n",
       "      <td>4.83</td>\n",
       "      <td>2023-01-04</td>\n",
       "    </tr>\n",
       "    <tr>\n",
       "      <th>280</th>\n",
       "      <td>2023</td>\n",
       "      <td>2</td>\n",
       "      <td>5.0</td>\n",
       "      <td>75.7000</td>\n",
       "      <td>10.108756</td>\n",
       "      <td>1.086113</td>\n",
       "      <td>0.143078</td>\n",
       "      <td>0.012118</td>\n",
       "      <td>0.728717</td>\n",
       "      <td>1.248080</td>\n",
       "      <td>1.114409</td>\n",
       "      <td>0.200783</td>\n",
       "      <td>0.000067</td>\n",
       "      <td>5.06</td>\n",
       "      <td>2023-01-05</td>\n",
       "    </tr>\n",
       "    <tr>\n",
       "      <th>281</th>\n",
       "      <td>2023</td>\n",
       "      <td>2</td>\n",
       "      <td>6.0</td>\n",
       "      <td>74.8900</td>\n",
       "      <td>10.350625</td>\n",
       "      <td>1.084395</td>\n",
       "      <td>0.139595</td>\n",
       "      <td>0.012094</td>\n",
       "      <td>0.707077</td>\n",
       "      <td>1.263834</td>\n",
       "      <td>1.111168</td>\n",
       "      <td>0.206236</td>\n",
       "      <td>0.000067</td>\n",
       "      <td>5.08</td>\n",
       "      <td>2023-01-06</td>\n",
       "    </tr>\n",
       "    <tr>\n",
       "      <th>282</th>\n",
       "      <td>2023</td>\n",
       "      <td>3</td>\n",
       "      <td>7.0</td>\n",
       "      <td>80.1000</td>\n",
       "      <td>9.545284</td>\n",
       "      <td>1.105548</td>\n",
       "      <td>0.139100</td>\n",
       "      <td>0.012101</td>\n",
       "      <td>0.709176</td>\n",
       "      <td>1.288881</td>\n",
       "      <td>1.145330</td>\n",
       "      <td>0.208195</td>\n",
       "      <td>0.000066</td>\n",
       "      <td>5.12</td>\n",
       "      <td>2023-01-07</td>\n",
       "    </tr>\n",
       "  </tbody>\n",
       "</table>\n",
       "<p>283 rows × 15 columns</p>\n",
       "</div>"
      ],
      "text/plain": [
       "      Год  Квартал  Месяц    brent        gas   eur_usd   cny_usd   inr_usd  \\\n",
       "0    2000        1    1.0  25.3800   3.360000  1.013610  0.120784  0.022243   \n",
       "1    2000        1    2.0  27.7048   3.460000  0.984514  0.120801  0.022340   \n",
       "2    2000        1    3.0  27.4700   3.510000  0.965026  0.120794  0.022483   \n",
       "3    2000        2    4.0  22.5400   3.680000  0.945325  0.120783  0.022347   \n",
       "4    2000        2    5.0  27.3400   3.550000  0.908461  0.120801  0.022323   \n",
       "..    ...      ...    ...      ...        ...       ...       ...       ...   \n",
       "278  2023        1    3.0  78.5300  13.812077  1.071061  0.145039  0.012120   \n",
       "279  2023        2    4.0  84.1100  13.520530  1.096370  0.145155  0.012110   \n",
       "280  2023        2    5.0  75.7000  10.108756  1.086113  0.143078  0.012118   \n",
       "281  2023        2    6.0  74.8900  10.350625  1.084395  0.139595  0.012094   \n",
       "282  2023        3    7.0  80.1000   9.545284  1.105548  0.139100  0.012101   \n",
       "\n",
       "      jpy_usd   gbr_usd   chf_usd   brl_usd   idr_usd  ff_rate       date  \n",
       "0    0.949539  1.640095  0.629500  0.554614  0.000137     5.45 2000-01-01  \n",
       "1    0.913322  1.601462  0.612571  0.563276  0.000135     5.73 2000-01-02  \n",
       "2    0.940342  1.581504  0.601583  0.574004  0.000134     5.85 2000-01-03  \n",
       "3    0.946392  1.581220  0.601190  0.565205  0.000128     6.02 2000-01-04  \n",
       "4    0.924374  1.509061  0.583104  0.547661  0.000120     6.27 2000-01-05  \n",
       "..        ...       ...       ...       ...       ...      ...        ...  \n",
       "278  0.748226  1.214527  1.080700  0.192174  0.000065     4.65 2023-01-03  \n",
       "279  0.749125  1.245177  1.113580  0.199370  0.000067     4.83 2023-01-04  \n",
       "280  0.728717  1.248080  1.114409  0.200783  0.000067     5.06 2023-01-05  \n",
       "281  0.707077  1.263834  1.111168  0.206236  0.000067     5.08 2023-01-06  \n",
       "282  0.709176  1.288881  1.145330  0.208195  0.000066     5.12 2023-01-07  \n",
       "\n",
       "[283 rows x 15 columns]"
      ]
     },
     "execution_count": 27,
     "metadata": {},
     "output_type": "execute_result"
    }
   ],
   "source": [
    "import pandas as pd\n",
    "import warnings\n",
    "\n",
    "warnings.filterwarnings('ignore')\n",
    "\n",
    "df = pd.read_csv('/Users/vsevolodparamonov/Downloads/currencies.csv', sep=';')\n",
    "df = df.replace(',', '.', regex=True)\n",
    "\n",
    "df['Месяц'] = df['Месяц'].apply(lambda x: '0' + str(x) if x < 10 else x)\n",
    "\n",
    "df['date'] = pd.to_datetime(df['Год'].astype(str) + '-01-' + df['Месяц'].astype(str))\n",
    "\n",
    "df[df.columns[2:-1]] = df[df.columns[2:-1]].astype(float)\n",
    "df"
   ]
  },
  {
   "attachments": {},
   "cell_type": "markdown",
   "metadata": {},
   "source": [
    "Писать для каждого ряда одномерную модель несколько расточительно, хотя и не лишено смысла. Этот процесс необходимо автоматизировать. В простом для понимания варианте можно свести прогноз каждой валюты к табличной задаче и подобрать регрессоры из остальных рядов. Мы таким уже занимались, поэтому попробуем зайти с немного другой стороны.\n",
    "\n",
    "Весь рынок и в частности рынок валют -- единый механизм, находящийся в некотором равновесии и иногда от него отклоняющийся. Значит, у рядов должен быть общий тренд. Формально такая ситуация называется коинтеграцией и это тема отдельной лекции, нам она будет нужна только для идеи. Более подробно про коинтеграцию можно почитать вот в этом [конспекте](https://vk.com/doc126754362_567660819?hash=AvDGHaO92KX7exjBCleLZsEGHPPX2iZfCqae2Fijkng). \n",
    "\n",
    "### 1. (0.5 балла) Визуализация\n",
    "\n",
    "Давайте увидим это явно. Возьмите все курсы валют, отнормируйте их c помощью StandardScaler из sklearn и изобразите результат на одном графике. \n",
    "\n",
    "График будет немного шумный, но вы должны заметить что в целом валюты движутся по схожим траекториям, а некоторые группируются."
   ]
  },
  {
   "cell_type": "code",
   "execution_count": 28,
   "metadata": {},
   "outputs": [
    {
     "data": {
      "image/png": "[encoded data removed]",
      "text/plain": [
       "<Figure size 640x480 with 1 Axes>"
      ]
     },
     "metadata": {},
     "output_type": "display_data"
    }
   ],
   "source": [
    "import matplotlib.pyplot as plt\n",
    "from sklearn.preprocessing import StandardScaler\n",
    "\n",
    "scaler = StandardScaler()\n",
    "\n",
    "feats = 'brent\tgas\teur_usd\tcny_usd\tinr_usd\tjpy_usd\tgbr_usd\tchf_usd\tbrl_usd\tidr_usd\tff_rate'.split('\\t')\n",
    "\n",
    "df_scaled = df.copy()\n",
    "\n",
    "df_scaled.loc[:, feats] = scaler.fit_transform(df_scaled.loc[:, feats])\n",
    "df_scaled.set_index('date', inplace=True)\n",
    "\n",
    "currency = 'eur_usd\tcny_usd\tinr_usd\tjpy_usd\tgbr_usd\tchf_usd\tbrl_usd\tidr_usd'.split('\\t')\n",
    "\n",
    "for cur in currency:\n",
    "\n",
    "    plt.plot(df_scaled[cur].values, label=cur)\n",
    "\n",
    "plt.xlabel('Время')\n",
    "plt.ylabel('Цена')\n",
    "plt.title('График динамики цен на валюты')\n",
    "plt.legend();"
   ]
  },
  {
   "attachments": {},
   "cell_type": "markdown",
   "metadata": {},
   "source": [
    "Можно ли выделить эти общие тренды на рынке? Да! Можно просто рассмотреть все валюты как один многомерный вектор и понизить его размерность.\n",
    "\n",
    "Конечно, для временных рядов существуют специфические методы понижения размерности, но они выходят за рамки нашего курса. Поэтому мы воспользуемся не слишком подходящим, но зато простым и знакомым методом главных компонент (PCA). PCA никак не учитывает временную зависимость точек, но мы позволим себе пренебречь этим.\n",
    "\n",
    "### 2. (0.5 балла) Визуализация главных компонент\n",
    "\n",
    "Примените PCA на рядах из восьми валют и отберите три первые главные компоненты. Изобразите их на одном графике. Сравните с предыдущим графиком. Компоненты будут примерно похожи на тренды нескольких разных групп валют."
   ]
  },
  {
   "cell_type": "code",
   "execution_count": 29,
   "metadata": {},
   "outputs": [
    {
     "data": {
      "image/png": "[encoded data removed]",
      "text/plain": [
       "<Figure size 640x480 with 1 Axes>"
      ]
     },
     "metadata": {},
     "output_type": "display_data"
    }
   ],
   "source": [
    "from sklearn.decomposition import PCA\n",
    "\n",
    "pca = PCA(n_components = 3)\n",
    "\n",
    "df_pca = pd.DataFrame(pca.fit_transform(df_scaled[currency]))\n",
    "\n",
    "plt.xlabel('Время')\n",
    "plt.ylabel('Значение компонент')\n",
    "plt.title('График главных компонент')\n",
    "plt.plot(df_pca);"
   ]
  },
  {
   "attachments": {},
   "cell_type": "markdown",
   "metadata": {},
   "source": [
    "# 2. VAR для каждой валюты"
   ]
  },
  {
   "attachments": {},
   "cell_type": "markdown",
   "metadata": {},
   "source": [
    "Хочется построить какую-то общую модель, которая учтёт эти тренды на рынке и позволит с её помощью прогнозирвать отдельные валюты. Мы проходили только VAR(p) из прогнозирующих моделей, но её достаточно в большинстве случаев. Также мы обсуждали, что количество параметров в VAR(p)-модели равно \n",
    "\n",
    "$$n^2 p + n + \\frac{n(n+1)}{2},$$\n",
    "\n",
    "где n число уравнений системы. Данное выражение растёт квадратично по n. Значит, количество уравнений нам бы хотелось минимизировать. У нас в наличии 8 валют и ещё потенциально 3 дополнительных переменных. Это слишком много для стандартной VAR-модели, необходимо сократить размерность.\n",
    "\n",
    "Будем для каждой валюты строить VAR(p) модель со следующими рядами: ряд этой валюты + из всех остальных рядов выделим PCA-компоненты. Дальнейшие шаги необходимо будет сделать для каждой из валют в списке, поэтому рекомендуется заранее писать код так, чтобы его было легко встроить в цикл. Например, разбивать код на функции и т.п. В качестве референса предлагается заполнить класс PartialForecaster. Это будет класс для прогнозирвоания одной валюты на основе всех остальных. Ваша реализация может отличаться, меняйте параметры или добавляйте свои методы в класс если необходимо."
   ]
  },
  {
   "attachments": {},
   "cell_type": "markdown",
   "metadata": {},
   "source": [
    "1. (0.5 балла) Реализуйте метод fit_pca, который вычисляет главные компоненты от фичей и сохраняет их. Компоненты должны покрывать 95% дисперсии оригинальных данных. Не добавьте в вычисление PCA целевую фичу, это будет сильная утечка!\n",
    "\n",
    "2. (0.5 балла) Реализуйте метод fit_var. В нём необходимо склеить целевую переменную и полученные главные компоненты в один датасет и обучить на этом VAR(p)-модель.\n",
    "\n",
    "    Важное замечание. По-хорошему нужно оценивать модель на стационарных данных. Если бы мы оценивали модель методом максимального правдоподобия с ограничениями на стационарность, то ничего хорошего бы не вышло, коэффициенты бы сели на границу этого ограничения. Но так как в statsmodels (да и в целом чаще всего) модель оценивается методом наименьших квадратов и без ограничений на параметры, это можно проигнорировать в нашем случае. Для прогнозирования особой разницы не будет, но часть статистических тестов работать перестанет из-за возможных смещений в распределениях оценок параметров.\n",
    "\n",
    "3. (0.5 балла) Реализуйте метод forecast. По сути нужно просто спрогнозировать VAR и достать из прогноза только один ряд для нужной валюты.\n",
    "\n"
   ]
  },
  {
   "cell_type": "code",
   "execution_count": 30,
   "metadata": {},
   "outputs": [],
   "source": [
    "from statsmodels.tsa.api import VAR\n",
    "import pandas as pd\n",
    "import numpy as np\n",
    "\n",
    "class PartialForecaster:\n",
    "    \n",
    "    def __init__(self, data:pd.DataFrame, target_feature: str, p: int | None = None):\n",
    "        \"\"\"\n",
    "        __init__ Initializing forecaster class\n",
    "\n",
    "        Arguments:\n",
    "            data {pd.DataFrame} -- Dataframe of all data\n",
    "            target_feature {str} -- Target feature of dataframe. Other features in dataframe will be regressors\n",
    "            p {int} -- Order of VAR model\n",
    "        \"\"\"\n",
    "        self.is_pca_fitted = False\n",
    "        self.is_var_fitted = False\n",
    "\n",
    "        assert target_feature in data.columns\n",
    "\n",
    "        self.data = data \n",
    "        self.target_feature = target_feature\n",
    "        self.p = p\n",
    "        \n",
    "        \n",
    "    def fit_pca(self, covered_variance=0.95) -> pd.DataFrame:\n",
    "        \"\"\"\n",
    "        fit_pca _summary_\n",
    "\n",
    "        Arguments:\n",
    "            features {pd.DataFrame} -- Dataframe of features\n",
    "\n",
    "        Keyword Arguments:\n",
    "            covered_variance {float} -- Share of variance, covered by PCA from original data. (default: {0.95})\n",
    "\n",
    "        Returns:\n",
    "            pd.DataFrame -- Dataframe of principal components\n",
    "        \"\"\"\n",
    "\n",
    "        pca = PCA()\n",
    "\n",
    "        data_pca = pca.fit_transform(self.data.drop(self.target_feature, axis=1))\n",
    "\n",
    "        exp_var = np.argmax(np.cumsum(pca.explained_variance_ratio_) >= covered_variance)\n",
    "\n",
    "        self.is_pca_fitted = True\n",
    "\n",
    "        return pd.DataFrame(data_pca).loc[:, :exp_var + 1]\n",
    "\n",
    "\n",
    "\n",
    "    def fit_var(self):\n",
    "\n",
    "        \"\"\"\n",
    "         Fitting var on results of PCA\n",
    "        \"\"\"\n",
    "\n",
    "        assert self.is_pca_fitted\n",
    "\n",
    "        data = pd.concat([self.fit_pca(), self.data[self.target_feature].reset_index(drop=True)], axis = 1)\n",
    "\n",
    "        self.model = VAR(data).fit(**({'maxlags': self.p} if self.p is not None else {'maxlags': 10, 'ic': 'aic'}))\n",
    "        self.p = self.model.k_ar\n",
    "\n",
    "        self.is_var_fitted = True\n",
    "\n",
    "\n",
    "    def forecast(self, h: int = 12) -> pd.Series:\n",
    "        \"\"\"\n",
    "        forecast Forecast the entire model from the end of training data h steps forward\n",
    "\n",
    "        Keyword Arguments:\n",
    "            h {int} -- Forecasting horizon (default: {1})\n",
    "\n",
    "        Returns:\n",
    "            pd.Series -- Forecast of target_feature\n",
    "        \"\"\"\n",
    "\n",
    "        assert self.is_pca_fitted and self.is_var_fitted \n",
    "\n",
    "\n",
    "        data = pd.concat([self.fit_pca(), self.data[self.target_feature].reset_index(drop=True)], axis = 1)\n",
    "\n",
    "        forecast = pd.Series(self.model.forecast(y = data.values[:,: ], steps = h)[:, -1])\n",
    "        \n",
    "        assert type(forecast) is pd.Series\n",
    "\n",
    "        return forecast"
   ]
  },
  {
   "attachments": {},
   "cell_type": "markdown",
   "metadata": {},
   "source": [
    "5. (1 балл) Отберите параметр p и посчитайте прогнозную ошибку такого метода для каждой валюты. \n",
    "\n",
    "    Предлагается следующая процедура.\n",
    "\n",
    "    1. Выбираем некоторое стартовое окно. У нас 283 точки. 36 (12*3) последних точек выделим на тестовую часть, остальное на тренировочную.\n",
    "    2. На тренировочной части выбираем p по информационному критерию. В классе выше это означает p = None\n",
    "\n",
    "    Далее попробуем получить наиболее репрезентативную оценку ошибки для такого p. Мы будем сразу считать относительную ошибку в сравнении с наивной моделью, так как на котировках часто нельзя построить статистическую модель лучше наивной. \n",
    "\n",
    "    1. Прогнозируем полученной моделью на 12 шагов вперёд.\n",
    "    2. Считаем абсолютную ошибку прогноза (вектор длины 12)\n",
    "    3. Строим наивный прогноз\n",
    "    4. Считаем абсолютную ошибку наивного прогноза\n",
    "    5. Считаем отношение ошибки нашего прогноза к наивной ошибке, сохраняем этот вектор длины 12\n",
    "    7. Увеличиваем тренировочную выборку на 6 наблюдений. Переоцениваем всю модель на новых данных, но уже при фиксированном p. В классе выше это будет p={некоторое число}\n",
    "\n",
    "    Повторяем эту процедуру пока не закончатся данные. При текущих параметрах получится 4 итерации. Усредняем вектора ошибок по всем итерациям. Итого получаем усреднённый вектор длины 12. Параметры можете поменять по собственным соображениям, но поясните логику.\n"
   ]
  },
  {
   "cell_type": "code",
   "execution_count": 31,
   "metadata": {},
   "outputs": [],
   "source": [
    "def relative_score_partial(data, currency, class_func, initial_window_size: int = 247, step: int = 5, horizon: int = 12) -> pd.Series:\n",
    "\n",
    "    \"\"\"\n",
    "    cross_val_score Estimating MAE cross-val score on a fitted model. Needed to get more sustainable MAE estimation\n",
    "\n",
    "    Arguments:\n",
    "        initial_window_size {int} -- Initial size of expanding window\n",
    "        step {int} -- Step size of expanding window\n",
    "        horizon {int} -- Forecasting horizon of cross-validation score\n",
    "        p {int} -- order of VAR model\n",
    "    Returns:\n",
    "        pd.Series -- Vector of absolute error by each horizon, averaged by several folds\n",
    "    \"\"\"\n",
    "\n",
    "    start_point = 0\n",
    "    losses = np.zeros(12)\n",
    "\n",
    "    iws_fixed = initial_window_size\n",
    "    p = None\n",
    "\n",
    "    while initial_window_size <= data.shape[0] - 12:\n",
    "\n",
    "        df_train, df_test = data.iloc[start_point:initial_window_size, :], data.iloc[initial_window_size:, :]\n",
    "\n",
    "        pf = class_func(df_train, currency, p)\n",
    "        pf.fit_pca()\n",
    "        pf.fit_var()\n",
    "\n",
    "        p = pf.model.k_ar\n",
    "\n",
    "        naive_loss = abs(np.full(12, df_train[currency].values[-1]) - df_test.iloc[:12][currency].values)\n",
    "        forecast_loss = abs(pf.forecast().values - df_test.iloc[:12][currency].values)\n",
    "\n",
    "        score = forecast_loss / naive_loss\n",
    "\n",
    "        losses = np.vstack((losses, score))\n",
    "\n",
    "        initial_window_size += 6\n",
    "\n",
    "\n",
    "    return losses.mean(axis=0)\n"
   ]
  },
  {
   "attachments": {},
   "cell_type": "markdown",
   "metadata": {},
   "source": [
    "6. (0.5 балла) Постройте линейный график скоров. Можно строить любой другой график кроме линейного, если он будет более интерпретируем. Простор для творчества!\n",
    "\n",
    "    1.  Каждая валюта представлена линией на графике\n",
    "    2.  По оси абсцисс идёт горизонт прогнозирования (от 1 до 12)\n",
    "    3.  По оси ординат отношение ошибки VAR-модели к ошибке наивной модели\n",
    "\n",
    "Получилось ли по какой-то валюте стабильно предсказывать лучше наивной на всех горизонтах. По каким валютам получилось лучше, по каким хуже?\n",
    "\n",
    "У нас получалось, что на сильно зарегулированных экономиках (например, Китай) прогнозы близки к наивным, так как курс валюты сильнее зависит от решений партии, а не внешней обстановки. Но в целом у вас может получиться и другой результат."
   ]
  },
  {
   "cell_type": "code",
   "execution_count": 32,
   "metadata": {},
   "outputs": [
    {
     "data": {
      "application/vnd.plotly.v1+json": {
       "config": {
        "plotlyServerURL": "https://plot.ly"
       },
       "data": [
        {
         "marker": {
          "size": 10
         },
         "mode": "lines+markers",
         "name": "eur_usd",
         "showlegend": true,
         "type": "scatter",
         "x": [
          1,
          2,
          3,
          4,
          5,
          6,
          7,
          8,
          9,
          10,
          11,
          12
         ],
         "y": [
          0.7904929759928406,
          0.5800221580862593,
          0.6576702953490784,
          3.592371648310099,
          1.180410907522804,
          1.0265529139584322,
          1.0437858326955551,
          0.9888935622994128,
          0.9310849929305322,
          0.9632343438590852,
          0.9541773279867175,
          0.9751813030827109
         ]
        },
        {
         "marker": {
          "size": 10
         },
         "mode": "lines+markers",
         "name": "cny_usd",
         "showlegend": true,
         "type": "scatter",
         "x": [
          1,
          2,
          3,
          4,
          5,
          6,
          7,
          8,
          9,
          10,
          11,
          12
         ],
         "y": [
          5.842830414857541,
          1.5991567371276145,
          1.0980838682802048,
          0.7675831646775958,
          0.7089533596787896,
          2.936678750884946,
          2.4199536740200736,
          0.9541381148218924,
          0.934342284435585,
          0.579598017244695,
          0.6037326393909778,
          0.6023665301610455
         ]
        },
        {
         "marker": {
          "size": 10
         },
         "mode": "lines+markers",
         "name": "inr_usd",
         "showlegend": true,
         "type": "scatter",
         "x": [
          1,
          2,
          3,
          4,
          5,
          6,
          7,
          8,
          9,
          10,
          11,
          12
         ],
         "y": [
          2.7596202781272052,
          64.46472307958386,
          39.20001351059314,
          null,
          6.237492739308689,
          4.158089740827628,
          3.0778678154991392,
          3.7994753401518024,
          4.652037218713679,
          6.608135893318546,
          5.049857807301827,
          3.2846767531732994
         ]
        },
        {
         "marker": {
          "size": 10
         },
         "mode": "lines+markers",
         "name": "jpy_usd",
         "showlegend": true,
         "type": "scatter",
         "x": [
          1,
          2,
          3,
          4,
          5,
          6,
          7,
          8,
          9,
          10,
          11,
          12
         ],
         "y": [
          0.854203843822245,
          1.1572222224318105,
          0.8665028276040534,
          0.8660881483994128,
          0.6641117216874514,
          0.7713333257921385,
          0.8694521153378547,
          0.4799150434767729,
          0.506666957474699,
          1.0226277092339584,
          0.6382602644004496,
          0.6242125006105058
         ]
        },
        {
         "marker": {
          "size": 10
         },
         "mode": "lines+markers",
         "name": "gbr_usd",
         "showlegend": true,
         "type": "scatter",
         "x": [
          1,
          2,
          3,
          4,
          5,
          6,
          7,
          8,
          9,
          10,
          11,
          12
         ],
         "y": [
          3.073319725417271,
          0.5097896442533202,
          0.4940290776845377,
          0.6686053513198377,
          1.1555172040149955,
          1.1208144126509973,
          1.9311319881652587,
          1.7966358229171604,
          2.078877441666735,
          1.3666631793721769,
          1.1801084173391099,
          1.8182242216194835
         ]
        },
        {
         "marker": {
          "size": 10
         },
         "mode": "lines+markers",
         "name": "chf_usd",
         "showlegend": true,
         "type": "scatter",
         "x": [
          1,
          2,
          3,
          4,
          5,
          6,
          7,
          8,
          9,
          10,
          11,
          12
         ],
         "y": [
          0.9014990559073723,
          0.7246573104604166,
          0.7171051873282509,
          1.121191584444926,
          0.9816945878638924,
          1.1120950523909894,
          0.9607470650338955,
          1.4265471460554744,
          0.8619991860698866,
          0.8169773546519291,
          0.7756512564505226,
          0.7599802771933369
         ]
        },
        {
         "marker": {
          "size": 10
         },
         "mode": "lines+markers",
         "name": "brl_usd",
         "showlegend": true,
         "type": "scatter",
         "x": [
          1,
          2,
          3,
          4,
          5,
          6,
          7,
          8,
          9,
          10,
          11,
          12
         ],
         "y": [
          1.0671551279274774,
          1.97487162162896,
          2.59802241991832,
          4.231734041923745,
          3.060727042507929,
          4.125992559568519,
          5.525049809687562,
          4.62466918778496,
          3.0927062213432475,
          12.13697459390868,
          2.826175870342117,
          4.044494280751476
         ]
        },
        {
         "marker": {
          "size": 10
         },
         "mode": "lines+markers",
         "name": "idr_usd",
         "showlegend": true,
         "type": "scatter",
         "x": [
          1,
          2,
          3,
          4,
          5,
          6,
          7,
          8,
          9,
          10,
          11,
          12
         ],
         "y": [
          1.3209761124960169,
          14.120968729519817,
          0.9122549929275577,
          0.6729597599489701,
          0.7310051743284354,
          1.2160575851285484,
          1.7100672050626373,
          1.3172013093213513,
          3.590313505041245,
          3.4945938701117805,
          6.846347052796111,
          5.691552022267757
         ]
        }
       ],
       "layout": {
        "template": {
         "data": {
          "bar": [
           {
            "error_x": {
             "color": "#2a3f5f"
            },
            "error_y": {
             "color": "#2a3f5f"
            },
            "marker": {
             "line": {
              "color": "#E5ECF6",
              "width": 0.5
             },
             "pattern": {
              "fillmode": "overlay",
              "size": 10,
              "solidity": 0.2
             }
            },
            "type": "bar"
           }
          ],
          "barpolar": [
           {
            "marker": {
             "line": {
              "color": "#E5ECF6",
              "width": 0.5
             },
             "pattern": {
              "fillmode": "overlay",
              "size": 10,
              "solidity": 0.2
             }
            },
            "type": "barpolar"
           }
          ],
          "carpet": [
           {
            "aaxis": {
             "endlinecolor": "#2a3f5f",
             "gridcolor": "white",
             "linecolor": "white",
             "minorgridcolor": "white",
             "startlinecolor": "#2a3f5f"
            },
            "baxis": {
             "endlinecolor": "#2a3f5f",
             "gridcolor": "white",
             "linecolor": "white",
             "minorgridcolor": "white",
             "startlinecolor": "#2a3f5f"
            },
            "type": "carpet"
           }
          ],
          "choropleth": [
           {
            "colorbar": {
             "outlinewidth": 0,
             "ticks": ""
            },
            "type": "choropleth"
           }
          ],
          "contour": [
           {
            "colorbar": {
             "outlinewidth": 0,
             "ticks": ""
            },
            "colorscale": [
             [
              0,
              "#0d0887"
             ],
             [
              0.1111111111111111,
              "#46039f"
             ],
             [
              0.2222222222222222,
              "#7201a8"
             ],
             [
              0.3333333333333333,
              "#9c179e"
             ],
             [
              0.4444444444444444,
              "#bd3786"
             ],
             [
              0.5555555555555556,
              "#d8576b"
             ],
             [
              0.6666666666666666,
              "#ed7953"
             ],
             [
              0.7777777777777778,
              "#fb9f3a"
             ],
             [
              0.8888888888888888,
              "#fdca26"
             ],
             [
              1,
              "#f0f921"
             ]
            ],
            "type": "contour"
           }
          ],
          "contourcarpet": [
           {
            "colorbar": {
             "outlinewidth": 0,
             "ticks": ""
            },
            "type": "contourcarpet"
           }
          ],
          "heatmap": [
           {
            "colorbar": {
             "outlinewidth": 0,
             "ticks": ""
            },
            "colorscale": [
             [
              0,
              "#0d0887"
             ],
             [
              0.1111111111111111,
              "#46039f"
             ],
             [
              0.2222222222222222,
              "#7201a8"
             ],
             [
              0.3333333333333333,
              "#9c179e"
             ],
             [
              0.4444444444444444,
              "#bd3786"
             ],
             [
              0.5555555555555556,
              "#d8576b"
             ],
             [
              0.6666666666666666,
              "#ed7953"
             ],
             [
              0.7777777777777778,
              "#fb9f3a"
             ],
             [
              0.8888888888888888,
              "#fdca26"
             ],
             [
              1,
              "#f0f921"
             ]
            ],
            "type": "heatmap"
           }
          ],
          "heatmapgl": [
           {
            "colorbar": {
             "outlinewidth": 0,
             "ticks": ""
            },
            "colorscale": [
             [
              0,
              "#0d0887"
             ],
             [
              0.1111111111111111,
              "#46039f"
             ],
             [
              0.2222222222222222,
              "#7201a8"
             ],
             [
              0.3333333333333333,
              "#9c179e"
             ],
             [
              0.4444444444444444,
              "#bd3786"
             ],
             [
              0.5555555555555556,
              "#d8576b"
             ],
             [
              0.6666666666666666,
              "#ed7953"
             ],
             [
              0.7777777777777778,
              "#fb9f3a"
             ],
             [
              0.8888888888888888,
              "#fdca26"
             ],
             [
              1,
              "#f0f921"
             ]
            ],
            "type": "heatmapgl"
           }
          ],
          "histogram": [
           {
            "marker": {
             "pattern": {
              "fillmode": "overlay",
              "size": 10,
              "solidity": 0.2
             }
            },
            "type": "histogram"
           }
          ],
          "histogram2d": [
           {
            "colorbar": {
             "outlinewidth": 0,
             "ticks": ""
            },
            "colorscale": [
             [
              0,
              "#0d0887"
             ],
             [
              0.1111111111111111,
              "#46039f"
             ],
             [
              0.2222222222222222,
              "#7201a8"
             ],
             [
              0.3333333333333333,
              "#9c179e"
             ],
             [
              0.4444444444444444,
              "#bd3786"
             ],
             [
              0.5555555555555556,
              "#d8576b"
             ],
             [
              0.6666666666666666,
              "#ed7953"
             ],
             [
              0.7777777777777778,
              "#fb9f3a"
             ],
             [
              0.8888888888888888,
              "#fdca26"
             ],
             [
              1,
              "#f0f921"
             ]
            ],
            "type": "histogram2d"
           }
          ],
          "histogram2dcontour": [
           {
            "colorbar": {
             "outlinewidth": 0,
             "ticks": ""
            },
            "colorscale": [
             [
              0,
              "#0d0887"
             ],
             [
              0.1111111111111111,
              "#46039f"
             ],
             [
              0.2222222222222222,
              "#7201a8"
             ],
             [
              0.3333333333333333,
              "#9c179e"
             ],
             [
              0.4444444444444444,
              "#bd3786"
             ],
             [
              0.5555555555555556,
              "#d8576b"
             ],
             [
              0.6666666666666666,
              "#ed7953"
             ],
             [
              0.7777777777777778,
              "#fb9f3a"
             ],
             [
              0.8888888888888888,
              "#fdca26"
             ],
             [
              1,
              "#f0f921"
             ]
            ],
            "type": "histogram2dcontour"
           }
          ],
          "mesh3d": [
           {
            "colorbar": {
             "outlinewidth": 0,
             "ticks": ""
            },
            "type": "mesh3d"
           }
          ],
          "parcoords": [
           {
            "line": {
             "colorbar": {
              "outlinewidth": 0,
              "ticks": ""
             }
            },
            "type": "parcoords"
           }
          ],
          "pie": [
           {
            "automargin": true,
            "type": "pie"
           }
          ],
          "scatter": [
           {
            "fillpattern": {
             "fillmode": "overlay",
             "size": 10,
             "solidity": 0.2
            },
            "type": "scatter"
           }
          ],
          "scatter3d": [
           {
            "line": {
             "colorbar": {
              "outlinewidth": 0,
              "ticks": ""
             }
            },
            "marker": {
             "colorbar": {
              "outlinewidth": 0,
              "ticks": ""
             }
            },
            "type": "scatter3d"
           }
          ],
          "scattercarpet": [
           {
            "marker": {
             "colorbar": {
              "outlinewidth": 0,
              "ticks": ""
             }
            },
            "type": "scattercarpet"
           }
          ],
          "scattergeo": [
           {
            "marker": {
             "colorbar": {
              "outlinewidth": 0,
              "ticks": ""
             }
            },
            "type": "scattergeo"
           }
          ],
          "scattergl": [
           {
            "marker": {
             "colorbar": {
              "outlinewidth": 0,
              "ticks": ""
             }
            },
            "type": "scattergl"
           }
          ],
          "scattermapbox": [
           {
            "marker": {
             "colorbar": {
              "outlinewidth": 0,
              "ticks": ""
             }
            },
            "type": "scattermapbox"
           }
          ],
          "scatterpolar": [
           {
            "marker": {
             "colorbar": {
              "outlinewidth": 0,
              "ticks": ""
             }
            },
            "type": "scatterpolar"
           }
          ],
          "scatterpolargl": [
           {
            "marker": {
             "colorbar": {
              "outlinewidth": 0,
              "ticks": ""
             }
            },
            "type": "scatterpolargl"
           }
          ],
          "scatterternary": [
           {
            "marker": {
             "colorbar": {
              "outlinewidth": 0,
              "ticks": ""
             }
            },
            "type": "scatterternary"
           }
          ],
          "surface": [
           {
            "colorbar": {
             "outlinewidth": 0,
             "ticks": ""
            },
            "colorscale": [
             [
              0,
              "#0d0887"
             ],
             [
              0.1111111111111111,
              "#46039f"
             ],
             [
              0.2222222222222222,
              "#7201a8"
             ],
             [
              0.3333333333333333,
              "#9c179e"
             ],
             [
              0.4444444444444444,
              "#bd3786"
             ],
             [
              0.5555555555555556,
              "#d8576b"
             ],
             [
              0.6666666666666666,
              "#ed7953"
             ],
             [
              0.7777777777777778,
              "#fb9f3a"
             ],
             [
              0.8888888888888888,
              "#fdca26"
             ],
             [
              1,
              "#f0f921"
             ]
            ],
            "type": "surface"
           }
          ],
          "table": [
           {
            "cells": {
             "fill": {
              "color": "#EBF0F8"
             },
             "line": {
              "color": "white"
             }
            },
            "header": {
             "fill": {
              "color": "#C8D4E3"
             },
             "line": {
              "color": "white"
             }
            },
            "type": "table"
           }
          ]
         },
         "layout": {
          "annotationdefaults": {
           "arrowcolor": "#2a3f5f",
           "arrowhead": 0,
           "arrowwidth": 1
          },
          "autotypenumbers": "strict",
          "coloraxis": {
           "colorbar": {
            "outlinewidth": 0,
            "ticks": ""
           }
          },
          "colorscale": {
           "diverging": [
            [
             0,
             "#8e0152"
            ],
            [
             0.1,
             "#c51b7d"
            ],
            [
             0.2,
             "#de77ae"
            ],
            [
             0.3,
             "#f1b6da"
            ],
            [
             0.4,
             "#fde0ef"
            ],
            [
             0.5,
             "#f7f7f7"
            ],
            [
             0.6,
             "#e6f5d0"
            ],
            [
             0.7,
             "#b8e186"
            ],
            [
             0.8,
             "#7fbc41"
            ],
            [
             0.9,
             "#4d9221"
            ],
            [
             1,
             "#276419"
            ]
           ],
           "sequential": [
            [
             0,
             "#0d0887"
            ],
            [
             0.1111111111111111,
             "#46039f"
            ],
            [
             0.2222222222222222,
             "#7201a8"
            ],
            [
             0.3333333333333333,
             "#9c179e"
            ],
            [
             0.4444444444444444,
             "#bd3786"
            ],
            [
             0.5555555555555556,
             "#d8576b"
            ],
            [
             0.6666666666666666,
             "#ed7953"
            ],
            [
             0.7777777777777778,
             "#fb9f3a"
            ],
            [
             0.8888888888888888,
             "#fdca26"
            ],
            [
             1,
             "#f0f921"
            ]
           ],
           "sequentialminus": [
            [
             0,
             "#0d0887"
            ],
            [
             0.1111111111111111,
             "#46039f"
            ],
            [
             0.2222222222222222,
             "#7201a8"
            ],
            [
             0.3333333333333333,
             "#9c179e"
            ],
            [
             0.4444444444444444,
             "#bd3786"
            ],
            [
             0.5555555555555556,
             "#d8576b"
            ],
            [
             0.6666666666666666,
             "#ed7953"
            ],
            [
             0.7777777777777778,
             "#fb9f3a"
            ],
            [
             0.8888888888888888,
             "#fdca26"
            ],
            [
             1,
             "#f0f921"
            ]
           ]
          },
          "colorway": [
           "#636efa",
           "#EF553B",
           "#00cc96",
           "#ab63fa",
           "#FFA15A",
           "#19d3f3",
           "#FF6692",
           "#B6E880",
           "#FF97FF",
           "#FECB52"
          ],
          "font": {
           "color": "#2a3f5f"
          },
          "geo": {
           "bgcolor": "white",
           "lakecolor": "white",
           "landcolor": "#E5ECF6",
           "showlakes": true,
           "showland": true,
           "subunitcolor": "white"
          },
          "hoverlabel": {
           "align": "left"
          },
          "hovermode": "closest",
          "mapbox": {
           "style": "light"
          },
          "paper_bgcolor": "white",
          "plot_bgcolor": "#E5ECF6",
          "polar": {
           "angularaxis": {
            "gridcolor": "white",
            "linecolor": "white",
            "ticks": ""
           },
           "bgcolor": "#E5ECF6",
           "radialaxis": {
            "gridcolor": "white",
            "linecolor": "white",
            "ticks": ""
           }
          },
          "scene": {
           "xaxis": {
            "backgroundcolor": "#E5ECF6",
            "gridcolor": "white",
            "gridwidth": 2,
            "linecolor": "white",
            "showbackground": true,
            "ticks": "",
            "zerolinecolor": "white"
           },
           "yaxis": {
            "backgroundcolor": "#E5ECF6",
            "gridcolor": "white",
            "gridwidth": 2,
            "linecolor": "white",
            "showbackground": true,
            "ticks": "",
            "zerolinecolor": "white"
           },
           "zaxis": {
            "backgroundcolor": "#E5ECF6",
            "gridcolor": "white",
            "gridwidth": 2,
            "linecolor": "white",
            "showbackground": true,
            "ticks": "",
            "zerolinecolor": "white"
           }
          },
          "shapedefaults": {
           "line": {
            "color": "#2a3f5f"
           }
          },
          "ternary": {
           "aaxis": {
            "gridcolor": "white",
            "linecolor": "white",
            "ticks": ""
           },
           "baxis": {
            "gridcolor": "white",
            "linecolor": "white",
            "ticks": ""
           },
           "bgcolor": "#E5ECF6",
           "caxis": {
            "gridcolor": "white",
            "linecolor": "white",
            "ticks": ""
           }
          },
          "title": {
           "x": 0.05
          },
          "xaxis": {
           "automargin": true,
           "gridcolor": "white",
           "linecolor": "white",
           "ticks": "",
           "title": {
            "standoff": 15
           },
           "zerolinecolor": "white",
           "zerolinewidth": 2
          },
          "yaxis": {
           "automargin": true,
           "gridcolor": "white",
           "linecolor": "white",
           "ticks": "",
           "title": {
            "standoff": 15
           },
           "zerolinecolor": "white",
           "zerolinewidth": 2
          }
         }
        },
        "title": {
         "text": "Отношение MAE модели к MAE наивного прогноза"
        },
        "xaxis": {
         "title": {
          "text": "Временной горизонт прогноза"
         }
        },
        "yaxis": {
         "title": {
          "text": "Значение метрики"
         }
        }
       }
      }
     },
     "metadata": {},
     "output_type": "display_data"
    }
   ],
   "source": [
    "import plotly.graph_objects as go\n",
    "\n",
    "fig = go.Figure()\n",
    "\n",
    "metrics_1 = pd.DataFrame()\n",
    "\n",
    "for cur in currency:\n",
    "\n",
    "    line = relative_score_partial(df[currency], cur, PartialForecaster)\n",
    "    y = np.arange(1, len(line) + 1)\n",
    "\n",
    "    metrics_1.loc[0, cur] = sum(line < 1)\n",
    "\n",
    "    fig.add_trace(go.Scatter(x=y, y=line, mode='lines+markers', name=cur, showlegend=True, marker=dict(size=10)))\n",
    "\n",
    "fig.update_layout(\n",
    "    title='Отношение MAE модели к MAE наивного прогноза',\n",
    "    xaxis_title='Временной горизонт прогноза',\n",
    "    yaxis_title='Значение метрики'\n",
    ")\n",
    "\n",
    "fig.show()\n"
   ]
  },
  {
   "attachments": {},
   "cell_type": "markdown",
   "metadata": {},
   "source": [
    "# 3. Автокодировщик на стероидах"
   ]
  },
  {
   "attachments": {},
   "cell_type": "markdown",
   "metadata": {},
   "source": [
    "Можно построить альтернативный вариант.\n",
    "\n",
    "1. Энкодер. Строим PCA на всех валютах (и доп фичах, если хотите) сразу, выделяем главные компоненты.\n",
    "2. Декодер. PCA не обратим в стандартном понимании, нельзя аналитически получить из главных компонент обратно исходные ряды. Для каждой валюты обучаем регрессионную модель, предсказывающую курс валюты по главным компонентам. Если у нас 8 валют, здесь получится 8 моделей. Модели можно взять любые (линрег, бустинг, ...). Не мучайтесь с подбором гиперпараметров, бустинга из коробки хватит.\n",
    "2. Строим VAR(p)-модель только на главных компонентах, отобрав p\n",
    "4. Прогнозируем главные компоненты вперёд\n",
    "5. Применяем модели-декодеры, чтобы получить из прогнозов главных компоненты прогнозы валют\n"
   ]
  },
  {
   "attachments": {},
   "cell_type": "markdown",
   "metadata": {},
   "source": [
    "1. (0.5 балла) Реализуйте метод fit_pca, который вычисляет главные компоненты от фичей и сохраняет их. Компоненты должны покрывать 95% дисперсии оригинальных данных. В этот раз нужно взять в вычисление все доступные ряды\n",
    "\n",
    "2. (0.5 балла) Реализуйте метод fit_var. В нём необходимо склеить целевую переменную и полученные главные компоненты в один датасет и обучить на этом VAR(p)-модель.\n",
    "\n",
    "3. (1 балл) Реализуйте метод fit_decoders. Необходимо оценить ряд регрессий, восстанавливающих валюты из главных компонент. Восстанавливать дополнительные переменные не нужно. Заморачиваться с отбором параметров этих моделей не нужно (только при большом желании). Бустинга из коробки должно хватить.\n",
    "\n",
    "4. (0.5 балла) Реализуйте метод forecast. VAR прогнозируют главные компоненты, а модели-декодеры восстанавливают из этих прогнозов валюты. Функция должна возвращать датафрейм прогнозов всех валют на 12 шагов. По колонкам идут валюты, по строкам горизонты."
   ]
  },
  {
   "cell_type": "code",
   "execution_count": 33,
   "metadata": {},
   "outputs": [],
   "source": [
    "from statsmodels.tsa.api import VAR\n",
    "import pandas as pd\n",
    "from catboost import CatBoostRegressor\n",
    "from sklearn.ensemble import GradientBoostingRegressor\n",
    "\n",
    "class EncoderDecoderForecaster:\n",
    "    \n",
    "    def __init__(self, data:pd.DataFrame, p: int|None = None):\n",
    "        \"\"\"\n",
    "        __init__ Initializing forecaster class\n",
    "\n",
    "        Arguments:\n",
    "            data {pd.DataFrame} -- Dataframe of all data\n",
    "            target_feature {str} -- Target feature of dataframe. Other features in dataframe will be regressors\n",
    "            p {int} -- Order of VAR model\n",
    "        \"\"\"\n",
    "        self.is_pca_fitted = False\n",
    "        self.is_var_fitted = False\n",
    "\n",
    "        # assert target_feature in data.columns\n",
    "\n",
    "        self.data = data \n",
    "        # self.target_feature = target_feature\n",
    "        self.p = p\n",
    "\n",
    "        self.decoders = dict()\n",
    "        \n",
    "        \n",
    "    def fit_pca(self, covered_variance=0.95) -> pd.DataFrame:\n",
    "        \"\"\"\n",
    "        fit_pca Fitting PCA on a bunch of currencies\n",
    "\n",
    "        Arguments:\n",
    "            features {pd.DataFrame} -- Dataframe of features\n",
    "\n",
    "        Keyword Arguments:\n",
    "            covered_variance {float} -- Share of variance, covered by PCA from original data. (default: {0.95})\n",
    "\n",
    "        Returns:\n",
    "            pd.DataFrame -- Dataframe of principal components\n",
    "        \"\"\"\n",
    "\n",
    "\n",
    "        pca = PCA()\n",
    "\n",
    "        data_pca = pca.fit_transform(self.data)\n",
    "\n",
    "        exp_var = np.argmax(np.cumsum(pca.explained_variance_ratio_) >= covered_variance)\n",
    "\n",
    "        self.is_pca_fitted = True\n",
    "\n",
    "        return pd.DataFrame(data_pca).loc[:, :exp_var + 1]\n",
    "\n",
    "\n",
    "    def fit_var(self):\n",
    "\n",
    "        \"\"\"\n",
    "         Fitting var on results of PCA\n",
    "        \"\"\"\n",
    "\n",
    "        assert self.is_pca_fitted\n",
    "\n",
    "        # data = pd.concat([self.fit_pca(), self.data[self.target_feature].reset_index(drop=True)], axis = 1)\n",
    "\n",
    "        self.model = VAR(self.fit_pca()).fit(**({'maxlags': self.p} if self.p is not None else {'ic': 'aic'}))\n",
    "\n",
    "        self.p = self.model.k_ar\n",
    "\n",
    "        self.is_var_fitted = True\n",
    "\n",
    "    def fit_decoders(self):\n",
    "\n",
    "        pcas = self.fit_pca()\n",
    "\n",
    "        for i in range(self.data.shape[1]):\n",
    "\n",
    "            self.decoders[self.data.columns[i]] = CatBoostRegressor(verbose=False).fit(pcas, self.data.iloc[:, i])\n",
    "\n",
    "        # assert len(self.decoders) > 0\n",
    "        self.is_decoder_fitted = True\n",
    "\n",
    "\n",
    "    def forecast(self, h: int = 12) -> pd.Series:\n",
    "        \"\"\"\n",
    "        forecast Forecast VAR and decode it's forecasts with decoder-models.\n",
    "\n",
    "        Keyword Arguments:\n",
    "            h {int} -- Forecasting horizon (default: {1})\n",
    "\n",
    "        Returns:\n",
    "            pd.DataFrame -- Forecasts of all currencies. Horizon by rows. Currencies by columns.\n",
    "        \"\"\"\n",
    "\n",
    "        assert self.is_pca_fitted and self.is_var_fitted and self.is_decoder_fitted\n",
    "\n",
    "        output = pd.DataFrame()\n",
    "\n",
    "        forecast = self.model.forecast(y = self.fit_pca().values[-self.p:, :], steps = h)\n",
    "\n",
    "        for col in range(self.data.shape[1]):\n",
    "\n",
    "            pred = pd.DataFrame(self.decoders[self.data.columns[col]].predict(forecast))\n",
    "\n",
    "            output = pd.concat([output, pred], axis=1)\n",
    "\n",
    "        output.columns = self.data.columns\n",
    "\n",
    "        return output"
   ]
  },
  {
   "attachments": {},
   "cell_type": "markdown",
   "metadata": {},
   "source": [
    "5. (1 балл) Аналогично предыдущей части, подсчитайте относительную ошибку по всем валютам. Отличие будет только в том, что в этот раз класс EncoderDecoderForecaster возвращает прогнозы по всем валютам сразу. В данном случае итог будет сразу датафреймом. По колонкам будут валюты, по строкам горизонты. Параметр p отберите на тренировочной выборке и усредните относительную ошибку прогноза (усреднить датафреймы поэлементно) по всем окнам."
   ]
  },
  {
   "cell_type": "code",
   "execution_count": 34,
   "metadata": {},
   "outputs": [],
   "source": [
    "def count_mean(dfs, col_name):\n",
    "\n",
    "    pdpd = pd.DataFrame()\n",
    "\n",
    "    for i in dfs:\n",
    "\n",
    "        pdpd = pd.concat([pdpd, i[col_name]], axis=1)\n",
    "\n",
    "    return pdpd.mean(axis=1)\n",
    "\n",
    "def relative_cross_val_score_encoder_decoder(data: pd.DataFrame, class_func, initial_window_size: int = 247, step: int = 5, horizon: int = 12) -> pd.Series:\n",
    "    \"\"\"\n",
    "    cross_val_score Estimating MAE cross-val score on a fitted model. Needed to get more sustainable MAE estimation\n",
    "\n",
    "    Arguments:\n",
    "        initial_window_size {int} -- Initial size of expanding window\n",
    "        step {int} -- Step size of expanding window\n",
    "        horizon {int} -- Forecasting horizon of cross-validation score\n",
    "        p {int} -- order of VAR model\n",
    "    Returns:\n",
    "        pd.DataFrame -- Frame of absolute error by each horizon and each currency, averaged by several folds\n",
    "    \"\"\"\n",
    "\n",
    "    start_point = 0\n",
    "    dfs = []\n",
    "\n",
    "    p = None\n",
    "\n",
    "    outp = pd.DataFrame()\n",
    "\n",
    "    while initial_window_size <= data.shape[0] - 12:\n",
    "\n",
    "        df_train, df_test = data.iloc[start_point:initial_window_size, :], data.iloc[initial_window_size:, :]\n",
    "\n",
    "        pf = class_func(df_train, p)\n",
    "        pf.fit_pca()\n",
    "        pf.fit_var()\n",
    "        pf.fit_decoders()\n",
    "\n",
    "        p = pf.model.k_ar\n",
    "\n",
    "        forecast_loss = abs(pf.forecast() - df_test.iloc[:12].reset_index(drop=True))\n",
    "        naive_loss = abs(pd.concat([df_train.iloc[-1:, :]] * 12, axis=0).reset_index(drop=True) - df_test.iloc[:12].reset_index(drop=True))\n",
    "\n",
    "        score = forecast_loss / naive_loss\n",
    "\n",
    "        dfs.append(score)\n",
    "        \n",
    "\n",
    "        initial_window_size += 6\n",
    "\n",
    "    for col in data.columns:\n",
    "    \n",
    "        outp = pd.concat([outp, count_mean(dfs, col)], axis=1)\n",
    "\n",
    "    outp.columns = data.columns\n",
    "\n",
    "    return outp\n",
    "\n",
    "relative_cross_val_score = relative_cross_val_score_encoder_decoder(df[currency], EncoderDecoderForecaster)"
   ]
  },
  {
   "attachments": {},
   "cell_type": "markdown",
   "metadata": {},
   "source": [
    "6. (0.5 балла) Постройте график относительных ошибок аналогично предыдущей части. Получилось ли добиться улучшения относительно предыдущей модели? Результат здесь не очевиден, метод может оказаться как лучше, так и хуже."
   ]
  },
  {
   "cell_type": "code",
   "execution_count": 35,
   "metadata": {},
   "outputs": [
    {
     "data": {
      "application/vnd.plotly.v1+json": {
       "config": {
        "plotlyServerURL": "https://plot.ly"
       },
       "data": [
        {
         "marker": {
          "size": 10
         },
         "mode": "lines+markers",
         "name": "eur_usd",
         "showlegend": true,
         "type": "scatter",
         "x": [
          1,
          2,
          3,
          4,
          5,
          6,
          7,
          8,
          9,
          10,
          11,
          12
         ],
         "y": [
          2.246186550748616,
          1.2442992733904965,
          1.1374833011848111,
          3.4193156298819978,
          0.8589498777332155,
          0.9367667840333199,
          0.9631364002990187,
          0.974767458907575,
          0.9961518219974254,
          0.9655848391007649,
          0.9869597603140177,
          1.099252362312597
         ]
        },
        {
         "marker": {
          "size": 10
         },
         "mode": "lines+markers",
         "name": "cny_usd",
         "showlegend": true,
         "type": "scatter",
         "x": [
          1,
          2,
          3,
          4,
          5,
          6,
          7,
          8,
          9,
          10,
          11,
          12
         ],
         "y": [
          8.293287903970544,
          3.5444152129759594,
          0.9466390811115823,
          1.0023574524620171,
          1.0249787969679094,
          2.8920531243282617,
          2.182003474478914,
          1.4327837729139428,
          1.0694945802166038,
          1.236426478785798,
          1.1345122208209297,
          1.0634722677741189
         ]
        },
        {
         "marker": {
          "size": 10
         },
         "mode": "lines+markers",
         "name": "inr_usd",
         "showlegend": true,
         "type": "scatter",
         "x": [
          1,
          2,
          3,
          4,
          5,
          6,
          7,
          8,
          9,
          10,
          11,
          12
         ],
         "y": [
          18.59421219370462,
          44.45747389006177,
          122.50102306016917,
          null,
          21.16300801365088,
          11.170097284145163,
          10.952799094489684,
          11.247488027658232,
          16.88425758681515,
          20.938085757764924,
          14.636869272592815,
          6.48780313761186
         ]
        },
        {
         "marker": {
          "size": 10
         },
         "mode": "lines+markers",
         "name": "jpy_usd",
         "showlegend": true,
         "type": "scatter",
         "x": [
          1,
          2,
          3,
          4,
          5,
          6,
          7,
          8,
          9,
          10,
          11,
          12
         ],
         "y": [
          1.3740518670677186,
          2.8512553048101816,
          1.3280614764004615,
          1.3868233593809438,
          1.4417344176110345,
          0.8502892250826963,
          1.2159184942808912,
          0.8567799232147684,
          0.8965278351742484,
          4.030452255405772,
          1.2662527618894814,
          1.368540378812111
         ]
        },
        {
         "marker": {
          "size": 10
         },
         "mode": "lines+markers",
         "name": "gbr_usd",
         "showlegend": true,
         "type": "scatter",
         "x": [
          1,
          2,
          3,
          4,
          5,
          6,
          7,
          8,
          9,
          10,
          11,
          12
         ],
         "y": [
          5.5434406276692245,
          0.9103471387669106,
          0.9609985314049629,
          1.1895888608889786,
          0.9931354616634914,
          0.9155825364315842,
          2.149065766497813,
          2.246743216568029,
          2.4758480773419427,
          1.5565882326240403,
          1.2318921524606865,
          2.443721122256943
         ]
        },
        {
         "marker": {
          "size": 10
         },
         "mode": "lines+markers",
         "name": "chf_usd",
         "showlegend": true,
         "type": "scatter",
         "x": [
          1,
          2,
          3,
          4,
          5,
          6,
          7,
          8,
          9,
          10,
          11,
          12
         ],
         "y": [
          1.1504539460725713,
          1.0281494812942802,
          0.9158725485646894,
          0.8002846995301379,
          0.746022715281798,
          0.8194502334114133,
          0.9810160629529772,
          2.5060266935535283,
          1.4135609726482363,
          1.035108011155411,
          1.1340401967018916,
          1.8297597050039187
         ]
        },
        {
         "marker": {
          "size": 10
         },
         "mode": "lines+markers",
         "name": "brl_usd",
         "showlegend": true,
         "type": "scatter",
         "x": [
          1,
          2,
          3,
          4,
          5,
          6,
          7,
          8,
          9,
          10,
          11,
          12
         ],
         "y": [
          1.6135445734749336,
          1.713510731661136,
          1.944109931152882,
          3.9480091593623974,
          1.5392351882715718,
          3.8315481124163426,
          5.8120628519287765,
          3.7349813526057587,
          2.670898584751216,
          16.22918586105975,
          3.243847620651098,
          5.016665282325638
         ]
        },
        {
         "marker": {
          "size": 10
         },
         "mode": "lines+markers",
         "name": "idr_usd",
         "showlegend": true,
         "type": "scatter",
         "x": [
          1,
          2,
          3,
          4,
          5,
          6,
          7,
          8,
          9,
          10,
          11,
          12
         ],
         "y": [
          1.7782156728401766,
          43.11517891949036,
          1.8834688726398778,
          0.6440466842842132,
          0.7239430682517546,
          0.9145600242788963,
          1.1128916850879453,
          1.5322392007016539,
          2.8037918067274483,
          2.404760836359014,
          3.313834825793107,
          4.093024401056842
         ]
        }
       ],
       "layout": {
        "template": {
         "data": {
          "bar": [
           {
            "error_x": {
             "color": "#2a3f5f"
            },
            "error_y": {
             "color": "#2a3f5f"
            },
            "marker": {
             "line": {
              "color": "#E5ECF6",
              "width": 0.5
             },
             "pattern": {
              "fillmode": "overlay",
              "size": 10,
              "solidity": 0.2
             }
            },
            "type": "bar"
           }
          ],
          "barpolar": [
           {
            "marker": {
             "line": {
              "color": "#E5ECF6",
              "width": 0.5
             },
             "pattern": {
              "fillmode": "overlay",
              "size": 10,
              "solidity": 0.2
             }
            },
            "type": "barpolar"
           }
          ],
          "carpet": [
           {
            "aaxis": {
             "endlinecolor": "#2a3f5f",
             "gridcolor": "white",
             "linecolor": "white",
             "minorgridcolor": "white",
             "startlinecolor": "#2a3f5f"
            },
            "baxis": {
             "endlinecolor": "#2a3f5f",
             "gridcolor": "white",
             "linecolor": "white",
             "minorgridcolor": "white",
             "startlinecolor": "#2a3f5f"
            },
            "type": "carpet"
           }
          ],
          "choropleth": [
           {
            "colorbar": {
             "outlinewidth": 0,
             "ticks": ""
            },
            "type": "choropleth"
           }
          ],
          "contour": [
           {
            "colorbar": {
             "outlinewidth": 0,
             "ticks": ""
            },
            "colorscale": [
             [
              0,
              "#0d0887"
             ],
             [
              0.1111111111111111,
              "#46039f"
             ],
             [
              0.2222222222222222,
              "#7201a8"
             ],
             [
              0.3333333333333333,
              "#9c179e"
             ],
             [
              0.4444444444444444,
              "#bd3786"
             ],
             [
              0.5555555555555556,
              "#d8576b"
             ],
             [
              0.6666666666666666,
              "#ed7953"
             ],
             [
              0.7777777777777778,
              "#fb9f3a"
             ],
             [
              0.8888888888888888,
              "#fdca26"
             ],
             [
              1,
              "#f0f921"
             ]
            ],
            "type": "contour"
           }
          ],
          "contourcarpet": [
           {
            "colorbar": {
             "outlinewidth": 0,
             "ticks": ""
            },
            "type": "contourcarpet"
           }
          ],
          "heatmap": [
           {
            "colorbar": {
             "outlinewidth": 0,
             "ticks": ""
            },
            "colorscale": [
             [
              0,
              "#0d0887"
             ],
             [
              0.1111111111111111,
              "#46039f"
             ],
             [
              0.2222222222222222,
              "#7201a8"
             ],
             [
              0.3333333333333333,
              "#9c179e"
             ],
             [
              0.4444444444444444,
              "#bd3786"
             ],
             [
              0.5555555555555556,
              "#d8576b"
             ],
             [
              0.6666666666666666,
              "#ed7953"
             ],
             [
              0.7777777777777778,
              "#fb9f3a"
             ],
             [
              0.8888888888888888,
              "#fdca26"
             ],
             [
              1,
              "#f0f921"
             ]
            ],
            "type": "heatmap"
           }
          ],
          "heatmapgl": [
           {
            "colorbar": {
             "outlinewidth": 0,
             "ticks": ""
            },
            "colorscale": [
             [
              0,
              "#0d0887"
             ],
             [
              0.1111111111111111,
              "#46039f"
             ],
             [
              0.2222222222222222,
              "#7201a8"
             ],
             [
              0.3333333333333333,
              "#9c179e"
             ],
             [
              0.4444444444444444,
              "#bd3786"
             ],
             [
              0.5555555555555556,
              "#d8576b"
             ],
             [
              0.6666666666666666,
              "#ed7953"
             ],
             [
              0.7777777777777778,
              "#fb9f3a"
             ],
             [
              0.8888888888888888,
              "#fdca26"
             ],
             [
              1,
              "#f0f921"
             ]
            ],
            "type": "heatmapgl"
           }
          ],
          "histogram": [
           {
            "marker": {
             "pattern": {
              "fillmode": "overlay",
              "size": 10,
              "solidity": 0.2
             }
            },
            "type": "histogram"
           }
          ],
          "histogram2d": [
           {
            "colorbar": {
             "outlinewidth": 0,
             "ticks": ""
            },
            "colorscale": [
             [
              0,
              "#0d0887"
             ],
             [
              0.1111111111111111,
              "#46039f"
             ],
             [
              0.2222222222222222,
              "#7201a8"
             ],
             [
              0.3333333333333333,
              "#9c179e"
             ],
             [
              0.4444444444444444,
              "#bd3786"
             ],
             [
              0.5555555555555556,
              "#d8576b"
             ],
             [
              0.6666666666666666,
              "#ed7953"
             ],
             [
              0.7777777777777778,
              "#fb9f3a"
             ],
             [
              0.8888888888888888,
              "#fdca26"
             ],
             [
              1,
              "#f0f921"
             ]
            ],
            "type": "histogram2d"
           }
          ],
          "histogram2dcontour": [
           {
            "colorbar": {
             "outlinewidth": 0,
             "ticks": ""
            },
            "colorscale": [
             [
              0,
              "#0d0887"
             ],
             [
              0.1111111111111111,
              "#46039f"
             ],
             [
              0.2222222222222222,
              "#7201a8"
             ],
             [
              0.3333333333333333,
              "#9c179e"
             ],
             [
              0.4444444444444444,
              "#bd3786"
             ],
             [
              0.5555555555555556,
              "#d8576b"
             ],
             [
              0.6666666666666666,
              "#ed7953"
             ],
             [
              0.7777777777777778,
              "#fb9f3a"
             ],
             [
              0.8888888888888888,
              "#fdca26"
             ],
             [
              1,
              "#f0f921"
             ]
            ],
            "type": "histogram2dcontour"
           }
          ],
          "mesh3d": [
           {
            "colorbar": {
             "outlinewidth": 0,
             "ticks": ""
            },
            "type": "mesh3d"
           }
          ],
          "parcoords": [
           {
            "line": {
             "colorbar": {
              "outlinewidth": 0,
              "ticks": ""
             }
            },
            "type": "parcoords"
           }
          ],
          "pie": [
           {
            "automargin": true,
            "type": "pie"
           }
          ],
          "scatter": [
           {
            "fillpattern": {
             "fillmode": "overlay",
             "size": 10,
             "solidity": 0.2
            },
            "type": "scatter"
           }
          ],
          "scatter3d": [
           {
            "line": {
             "colorbar": {
              "outlinewidth": 0,
              "ticks": ""
             }
            },
            "marker": {
             "colorbar": {
              "outlinewidth": 0,
              "ticks": ""
             }
            },
            "type": "scatter3d"
           }
          ],
          "scattercarpet": [
           {
            "marker": {
             "colorbar": {
              "outlinewidth": 0,
              "ticks": ""
             }
            },
            "type": "scattercarpet"
           }
          ],
          "scattergeo": [
           {
            "marker": {
             "colorbar": {
              "outlinewidth": 0,
              "ticks": ""
             }
            },
            "type": "scattergeo"
           }
          ],
          "scattergl": [
           {
            "marker": {
             "colorbar": {
              "outlinewidth": 0,
              "ticks": ""
             }
            },
            "type": "scattergl"
           }
          ],
          "scattermapbox": [
           {
            "marker": {
             "colorbar": {
              "outlinewidth": 0,
              "ticks": ""
             }
            },
            "type": "scattermapbox"
           }
          ],
          "scatterpolar": [
           {
            "marker": {
             "colorbar": {
              "outlinewidth": 0,
              "ticks": ""
             }
            },
            "type": "scatterpolar"
           }
          ],
          "scatterpolargl": [
           {
            "marker": {
             "colorbar": {
              "outlinewidth": 0,
              "ticks": ""
             }
            },
            "type": "scatterpolargl"
           }
          ],
          "scatterternary": [
           {
            "marker": {
             "colorbar": {
              "outlinewidth": 0,
              "ticks": ""
             }
            },
            "type": "scatterternary"
           }
          ],
          "surface": [
           {
            "colorbar": {
             "outlinewidth": 0,
             "ticks": ""
            },
            "colorscale": [
             [
              0,
              "#0d0887"
             ],
             [
              0.1111111111111111,
              "#46039f"
             ],
             [
              0.2222222222222222,
              "#7201a8"
             ],
             [
              0.3333333333333333,
              "#9c179e"
             ],
             [
              0.4444444444444444,
              "#bd3786"
             ],
             [
              0.5555555555555556,
              "#d8576b"
             ],
             [
              0.6666666666666666,
              "#ed7953"
             ],
             [
              0.7777777777777778,
              "#fb9f3a"
             ],
             [
              0.8888888888888888,
              "#fdca26"
             ],
             [
              1,
              "#f0f921"
             ]
            ],
            "type": "surface"
           }
          ],
          "table": [
           {
            "cells": {
             "fill": {
              "color": "#EBF0F8"
             },
             "line": {
              "color": "white"
             }
            },
            "header": {
             "fill": {
              "color": "#C8D4E3"
             },
             "line": {
              "color": "white"
             }
            },
            "type": "table"
           }
          ]
         },
         "layout": {
          "annotationdefaults": {
           "arrowcolor": "#2a3f5f",
           "arrowhead": 0,
           "arrowwidth": 1
          },
          "autotypenumbers": "strict",
          "coloraxis": {
           "colorbar": {
            "outlinewidth": 0,
            "ticks": ""
           }
          },
          "colorscale": {
           "diverging": [
            [
             0,
             "#8e0152"
            ],
            [
             0.1,
             "#c51b7d"
            ],
            [
             0.2,
             "#de77ae"
            ],
            [
             0.3,
             "#f1b6da"
            ],
            [
             0.4,
             "#fde0ef"
            ],
            [
             0.5,
             "#f7f7f7"
            ],
            [
             0.6,
             "#e6f5d0"
            ],
            [
             0.7,
             "#b8e186"
            ],
            [
             0.8,
             "#7fbc41"
            ],
            [
             0.9,
             "#4d9221"
            ],
            [
             1,
             "#276419"
            ]
           ],
           "sequential": [
            [
             0,
             "#0d0887"
            ],
            [
             0.1111111111111111,
             "#46039f"
            ],
            [
             0.2222222222222222,
             "#7201a8"
            ],
            [
             0.3333333333333333,
             "#9c179e"
            ],
            [
             0.4444444444444444,
             "#bd3786"
            ],
            [
             0.5555555555555556,
             "#d8576b"
            ],
            [
             0.6666666666666666,
             "#ed7953"
            ],
            [
             0.7777777777777778,
             "#fb9f3a"
            ],
            [
             0.8888888888888888,
             "#fdca26"
            ],
            [
             1,
             "#f0f921"
            ]
           ],
           "sequentialminus": [
            [
             0,
             "#0d0887"
            ],
            [
             0.1111111111111111,
             "#46039f"
            ],
            [
             0.2222222222222222,
             "#7201a8"
            ],
            [
             0.3333333333333333,
             "#9c179e"
            ],
            [
             0.4444444444444444,
             "#bd3786"
            ],
            [
             0.5555555555555556,
             "#d8576b"
            ],
            [
             0.6666666666666666,
             "#ed7953"
            ],
            [
             0.7777777777777778,
             "#fb9f3a"
            ],
            [
             0.8888888888888888,
             "#fdca26"
            ],
            [
             1,
             "#f0f921"
            ]
           ]
          },
          "colorway": [
           "#636efa",
           "#EF553B",
           "#00cc96",
           "#ab63fa",
           "#FFA15A",
           "#19d3f3",
           "#FF6692",
           "#B6E880",
           "#FF97FF",
           "#FECB52"
          ],
          "font": {
           "color": "#2a3f5f"
          },
          "geo": {
           "bgcolor": "white",
           "lakecolor": "white",
           "landcolor": "#E5ECF6",
           "showlakes": true,
           "showland": true,
           "subunitcolor": "white"
          },
          "hoverlabel": {
           "align": "left"
          },
          "hovermode": "closest",
          "mapbox": {
           "style": "light"
          },
          "paper_bgcolor": "white",
          "plot_bgcolor": "#E5ECF6",
          "polar": {
           "angularaxis": {
            "gridcolor": "white",
            "linecolor": "white",
            "ticks": ""
           },
           "bgcolor": "#E5ECF6",
           "radialaxis": {
            "gridcolor": "white",
            "linecolor": "white",
            "ticks": ""
           }
          },
          "scene": {
           "xaxis": {
            "backgroundcolor": "#E5ECF6",
            "gridcolor": "white",
            "gridwidth": 2,
            "linecolor": "white",
            "showbackground": true,
            "ticks": "",
            "zerolinecolor": "white"
           },
           "yaxis": {
            "backgroundcolor": "#E5ECF6",
            "gridcolor": "white",
            "gridwidth": 2,
            "linecolor": "white",
            "showbackground": true,
            "ticks": "",
            "zerolinecolor": "white"
           },
           "zaxis": {
            "backgroundcolor": "#E5ECF6",
            "gridcolor": "white",
            "gridwidth": 2,
            "linecolor": "white",
            "showbackground": true,
            "ticks": "",
            "zerolinecolor": "white"
           }
          },
          "shapedefaults": {
           "line": {
            "color": "#2a3f5f"
           }
          },
          "ternary": {
           "aaxis": {
            "gridcolor": "white",
            "linecolor": "white",
            "ticks": ""
           },
           "baxis": {
            "gridcolor": "white",
            "linecolor": "white",
            "ticks": ""
           },
           "bgcolor": "#E5ECF6",
           "caxis": {
            "gridcolor": "white",
            "linecolor": "white",
            "ticks": ""
           }
          },
          "title": {
           "x": 0.05
          },
          "xaxis": {
           "automargin": true,
           "gridcolor": "white",
           "linecolor": "white",
           "ticks": "",
           "title": {
            "standoff": 15
           },
           "zerolinecolor": "white",
           "zerolinewidth": 2
          },
          "yaxis": {
           "automargin": true,
           "gridcolor": "white",
           "linecolor": "white",
           "ticks": "",
           "title": {
            "standoff": 15
           },
           "zerolinecolor": "white",
           "zerolinewidth": 2
          }
         }
        },
        "title": {
         "text": "Отношение MAE модели к MAE наивного прогноза"
        },
        "xaxis": {
         "title": {
          "text": "Временной горизонт прогноза"
         }
        },
        "yaxis": {
         "title": {
          "text": "Значение метрики"
         }
        }
       }
      }
     },
     "metadata": {},
     "output_type": "display_data"
    }
   ],
   "source": [
    "fig = go.Figure()\n",
    "\n",
    "metrics_2 = pd.DataFrame()\n",
    "\n",
    "for feat in relative_cross_val_score.columns:\n",
    "\n",
    "    line = relative_cross_val_score[feat]\n",
    "\n",
    "    metrics_2.loc[0, feat] = sum(line < 1)\n",
    "\n",
    "    y = np.arange(1, len(line) + 1)\n",
    "\n",
    "    fig.add_trace(go.Scatter(x=y, y=line, mode='lines+markers', name=feat, showlegend=True, marker=dict(size=10)))\n",
    "\n",
    "fig.update_layout(\n",
    "    title='Отношение MAE модели к MAE наивного прогноза',\n",
    "    xaxis_title='Временной горизонт прогноза',\n",
    "    yaxis_title='Значение метрики'\n",
    ")\n",
    "\n",
    "fig.show()"
   ]
  },
  {
   "attachments": {},
   "cell_type": "markdown",
   "metadata": {},
   "source": [
    "> #### В качестве метрики, с помощью которой можно сравнивать, я решил использовать количество точек для каждой валюты в каждый промежуток времени, которые < 1. Поскольку мы рисуем на графике отношение ошибки прогноза модели к ошибке наивной модели, то значения < 1 означают, что наша модель оказалсь лучше наивной $\\Rightarrow$ чем больше таких точек, тем лучше качество модели"
   ]
  },
  {
   "cell_type": "code",
   "execution_count": 36,
   "metadata": {},
   "outputs": [
    {
     "data": {
      "text/html": [
       "<div>\n",
       "<style scoped>\n",
       "    .dataframe tbody tr th:only-of-type {\n",
       "        vertical-align: middle;\n",
       "    }\n",
       "\n",
       "    .dataframe tbody tr th {\n",
       "        vertical-align: top;\n",
       "    }\n",
       "\n",
       "    .dataframe thead th {\n",
       "        text-align: right;\n",
       "    }\n",
       "</style>\n",
       "<table border=\"1\" class=\"dataframe\">\n",
       "  <thead>\n",
       "    <tr style=\"text-align: right;\">\n",
       "      <th></th>\n",
       "      <th>eur_usd</th>\n",
       "      <th>cny_usd</th>\n",
       "      <th>inr_usd</th>\n",
       "      <th>jpy_usd</th>\n",
       "      <th>gbr_usd</th>\n",
       "      <th>chf_usd</th>\n",
       "      <th>brl_usd</th>\n",
       "      <th>idr_usd</th>\n",
       "    </tr>\n",
       "  </thead>\n",
       "  <tbody>\n",
       "    <tr>\n",
       "      <th>0</th>\n",
       "      <td>8.0</td>\n",
       "      <td>7.0</td>\n",
       "      <td>0.0</td>\n",
       "      <td>10.0</td>\n",
       "      <td>3.0</td>\n",
       "      <td>9.0</td>\n",
       "      <td>0.0</td>\n",
       "      <td>3.0</td>\n",
       "    </tr>\n",
       "  </tbody>\n",
       "</table>\n",
       "</div>"
      ],
      "text/plain": [
       "   eur_usd  cny_usd  inr_usd  jpy_usd  gbr_usd  chf_usd  brl_usd  idr_usd\n",
       "0      8.0      7.0      0.0     10.0      3.0      9.0      0.0      3.0"
      ]
     },
     "metadata": {},
     "output_type": "display_data"
    },
    {
     "data": {
      "text/plain": [
       "'sum: 40.0'"
      ]
     },
     "metadata": {},
     "output_type": "display_data"
    },
    {
     "data": {
      "text/html": [
       "<div>\n",
       "<style scoped>\n",
       "    .dataframe tbody tr th:only-of-type {\n",
       "        vertical-align: middle;\n",
       "    }\n",
       "\n",
       "    .dataframe tbody tr th {\n",
       "        vertical-align: top;\n",
       "    }\n",
       "\n",
       "    .dataframe thead th {\n",
       "        text-align: right;\n",
       "    }\n",
       "</style>\n",
       "<table border=\"1\" class=\"dataframe\">\n",
       "  <thead>\n",
       "    <tr style=\"text-align: right;\">\n",
       "      <th></th>\n",
       "      <th>eur_usd</th>\n",
       "      <th>cny_usd</th>\n",
       "      <th>inr_usd</th>\n",
       "      <th>jpy_usd</th>\n",
       "      <th>gbr_usd</th>\n",
       "      <th>chf_usd</th>\n",
       "      <th>brl_usd</th>\n",
       "      <th>idr_usd</th>\n",
       "    </tr>\n",
       "  </thead>\n",
       "  <tbody>\n",
       "    <tr>\n",
       "      <th>0</th>\n",
       "      <td>7.0</td>\n",
       "      <td>1.0</td>\n",
       "      <td>0.0</td>\n",
       "      <td>3.0</td>\n",
       "      <td>4.0</td>\n",
       "      <td>5.0</td>\n",
       "      <td>0.0</td>\n",
       "      <td>3.0</td>\n",
       "    </tr>\n",
       "  </tbody>\n",
       "</table>\n",
       "</div>"
      ],
      "text/plain": [
       "   eur_usd  cny_usd  inr_usd  jpy_usd  gbr_usd  chf_usd  brl_usd  idr_usd\n",
       "0      7.0      1.0      0.0      3.0      4.0      5.0      0.0      3.0"
      ]
     },
     "metadata": {},
     "output_type": "display_data"
    },
    {
     "data": {
      "text/plain": [
       "'sum: 23.0'"
      ]
     },
     "metadata": {},
     "output_type": "display_data"
    }
   ],
   "source": [
    "display(metrics_1, f'sum: {metrics_1.sum(axis=1).values[0]}')\n",
    "display(metrics_2, f'sum: {metrics_2.sum(axis=1).values[0]}')"
   ]
  },
  {
   "attachments": {},
   "cell_type": "markdown",
   "metadata": {},
   "source": [
    "# Расширения модели (2 балла)\n",
    "\n",
    "Придумайте способ добавить в PCA (t-sne или любой другой кросс-секционный метод) зависимость от времени. Либо найдите метод понижения размерности специально для временных рядов. Кратко опишите суть и примените его для обоих классов выше вместо PCA. Получилось ли улучшить качество модели?\n",
    "\n",
    "1. (1 балл) Ваше краткое описание методики и почему она подходит для рядов. Если есть статьи, можете приложить ссылки.\n",
    "\n",
    "2. (1 балл) Реализация для обеих вариантов, подсчёт метрик и анализ результата."
   ]
  },
  {
   "attachments": {},
   "cell_type": "markdown",
   "metadata": {},
   "source": [
    "> ### **<div style='color:cyan'> Добавление лагов </div>**\n",
    ">\n",
    "> #### Одним из способов учета зависимости от времени может быть добавление лагов для каждой котировки валют. Количество лагов для каждой котировки можно регулировать, но для простоты можно просто взять последние 10 значений для каждой котировки. Основная идея заключается в том, что поскольку результатом применения <code>PCA</code> является линейная комбинация исходных признаков, то в компонентах учтется зависимость от предыдущих значений целевой переменной, таким образом учитывая время"
   ]
  },
  {
   "cell_type": "code",
   "execution_count": 37,
   "metadata": {},
   "outputs": [],
   "source": [
    "df_add_lags = df[currency]\n",
    "\n",
    "for lag in range(1, 11):\n",
    "\n",
    "    df_add_lags = pd.concat([df_add_lags, df[currency].shift(lag).rename(columns={i: f'{i}_{str(lag)}' for i in currency})], axis=1)\n",
    "\n",
    "df_add_lags = df_add_lags.iloc[10:]"
   ]
  },
  {
   "cell_type": "code",
   "execution_count": 38,
   "metadata": {},
   "outputs": [
    {
     "data": {
      "application/vnd.plotly.v1+json": {
       "config": {
        "plotlyServerURL": "https://plot.ly"
       },
       "data": [
        {
         "marker": {
          "size": 10
         },
         "mode": "lines+markers",
         "name": "eur_usd",
         "showlegend": true,
         "type": "scatter",
         "x": [
          1,
          2,
          3,
          4,
          5,
          6,
          7,
          8,
          9,
          10,
          11,
          12
         ],
         "y": [
          0.8994143166772637,
          0.3402925211461283,
          0.1555016148222189,
          0.3474653133919401,
          0.5682277667178326,
          0.713613729971251,
          6.745827404198272,
          0.47645782340682874,
          0.5443168872012243,
          0.51549176229015,
          0.6539057471359345,
          0.6363514459853745
         ]
        },
        {
         "marker": {
          "size": 10
         },
         "mode": "lines+markers",
         "name": "cny_usd",
         "showlegend": true,
         "type": "scatter",
         "x": [
          1,
          2,
          3,
          4,
          5,
          6,
          7,
          8,
          9,
          10,
          11,
          12
         ],
         "y": [
          30.851898326203667,
          2.740999248221009,
          1.545477808853815,
          1.0394338951237108,
          2.91051392818704,
          1.1541175495860385,
          1.0075470351452993,
          1.3541455332157502,
          1.1968265429457978,
          1.2240307911698758,
          33.81935569461134,
          0.19225214061750903
         ]
        },
        {
         "marker": {
          "size": 10
         },
         "mode": "lines+markers",
         "name": "inr_usd",
         "showlegend": true,
         "type": "scatter",
         "x": [
          1,
          2,
          3,
          4,
          5,
          6,
          7,
          8,
          9,
          10,
          11,
          12
         ],
         "y": [
          2.4586540612259027,
          9.160508992510275,
          16.942275325480665,
          8.626342886387135,
          5.371230410031369,
          40.47922688296531,
          2.8914445194914866,
          0.5525417461613165,
          0.5637203657151146,
          0.6511013910185391,
          0.692737137818418,
          0.6877232616235469
         ]
        },
        {
         "marker": {
          "size": 10
         },
         "mode": "lines+markers",
         "name": "jpy_usd",
         "showlegend": true,
         "type": "scatter",
         "x": [
          1,
          2,
          3,
          4,
          5,
          6,
          7,
          8,
          9,
          10,
          11,
          12
         ],
         "y": [
          1.2332179370164171,
          0.6774986802470332,
          0.9013014490304103,
          0.49198616658043337,
          0.7555023209600438,
          0.8191960554768973,
          1.032463173384649,
          1.9658941070674025,
          0.9706870055454166,
          0.887339033341929,
          0.9080764165481234,
          0.7959310199059682
         ]
        },
        {
         "marker": {
          "size": 10
         },
         "mode": "lines+markers",
         "name": "gbr_usd",
         "showlegend": true,
         "type": "scatter",
         "x": [
          1,
          2,
          3,
          4,
          5,
          6,
          7,
          8,
          9,
          10,
          11,
          12
         ],
         "y": [
          1.4010969349056177,
          1.4544968916788312,
          1.8225061809152923,
          1.2510687711923036,
          1.2872293925022613,
          1.3024399294182143,
          1.70772505492089,
          2.0707571302909598,
          1.756167624454649,
          1.6789439432290143,
          67.60862449707425,
          6.575609326429503
         ]
        },
        {
         "marker": {
          "size": 10
         },
         "mode": "lines+markers",
         "name": "chf_usd",
         "showlegend": true,
         "type": "scatter",
         "x": [
          1,
          2,
          3,
          4,
          5,
          6,
          7,
          8,
          9,
          10,
          11,
          12
         ],
         "y": [
          0.6313503766978504,
          0.48239097147502685,
          1.4425082052484166,
          0.194878693778115,
          0.9064064448927469,
          0.5922567527408376,
          0.5945727035622225,
          0.7169431583543582,
          0.6314405145213866,
          0.5094232811176619,
          0.6376812135276316,
          0.7187740209273143
         ]
        },
        {
         "marker": {
          "size": 10
         },
         "mode": "lines+markers",
         "name": "brl_usd",
         "showlegend": true,
         "type": "scatter",
         "x": [
          1,
          2,
          3,
          4,
          5,
          6,
          7,
          8,
          9,
          10,
          11,
          12
         ],
         "y": [
          0.8096463770182643,
          1.7683000834957272,
          3.9579015787426335,
          9.199945169566652,
          0.7669237964522908,
          0.5921887699552217,
          0.4043234800086405,
          0.6594502933723628,
          1.7731585527244003,
          0.9053032986394098,
          2.4058704409096943,
          3.6167479482635985
         ]
        },
        {
         "marker": {
          "size": 10
         },
         "mode": "lines+markers",
         "name": "idr_usd",
         "showlegend": true,
         "type": "scatter",
         "x": [
          1,
          2,
          3,
          4,
          5,
          6,
          7,
          8,
          9,
          10,
          11,
          12
         ],
         "y": [
          1.3572254603865799,
          4.263691249400681,
          6.184245668991959,
          8.769103953653852,
          3.8739490272734707,
          10.082679124022366,
          121.15802659028145,
          36.889572708508844,
          19.17325083210881,
          30.599584137371703,
          5.211474020522827,
          1.3788547793593144
         ]
        }
       ],
       "layout": {
        "template": {
         "data": {
          "bar": [
           {
            "error_x": {
             "color": "#2a3f5f"
            },
            "error_y": {
             "color": "#2a3f5f"
            },
            "marker": {
             "line": {
              "color": "#E5ECF6",
              "width": 0.5
             },
             "pattern": {
              "fillmode": "overlay",
              "size": 10,
              "solidity": 0.2
             }
            },
            "type": "bar"
           }
          ],
          "barpolar": [
           {
            "marker": {
             "line": {
              "color": "#E5ECF6",
              "width": 0.5
             },
             "pattern": {
              "fillmode": "overlay",
              "size": 10,
              "solidity": 0.2
             }
            },
            "type": "barpolar"
           }
          ],
          "carpet": [
           {
            "aaxis": {
             "endlinecolor": "#2a3f5f",
             "gridcolor": "white",
             "linecolor": "white",
             "minorgridcolor": "white",
             "startlinecolor": "#2a3f5f"
            },
            "baxis": {
             "endlinecolor": "#2a3f5f",
             "gridcolor": "white",
             "linecolor": "white",
             "minorgridcolor": "white",
             "startlinecolor": "#2a3f5f"
            },
            "type": "carpet"
           }
          ],
          "choropleth": [
           {
            "colorbar": {
             "outlinewidth": 0,
             "ticks": ""
            },
            "type": "choropleth"
           }
          ],
          "contour": [
           {
            "colorbar": {
             "outlinewidth": 0,
             "ticks": ""
            },
            "colorscale": [
             [
              0,
              "#0d0887"
             ],
             [
              0.1111111111111111,
              "#46039f"
             ],
             [
              0.2222222222222222,
              "#7201a8"
             ],
             [
              0.3333333333333333,
              "#9c179e"
             ],
             [
              0.4444444444444444,
              "#bd3786"
             ],
             [
              0.5555555555555556,
              "#d8576b"
             ],
             [
              0.6666666666666666,
              "#ed7953"
             ],
             [
              0.7777777777777778,
              "#fb9f3a"
             ],
             [
              0.8888888888888888,
              "#fdca26"
             ],
             [
              1,
              "#f0f921"
             ]
            ],
            "type": "contour"
           }
          ],
          "contourcarpet": [
           {
            "colorbar": {
             "outlinewidth": 0,
             "ticks": ""
            },
            "type": "contourcarpet"
           }
          ],
          "heatmap": [
           {
            "colorbar": {
             "outlinewidth": 0,
             "ticks": ""
            },
            "colorscale": [
             [
              0,
              "#0d0887"
             ],
             [
              0.1111111111111111,
              "#46039f"
             ],
             [
              0.2222222222222222,
              "#7201a8"
             ],
             [
              0.3333333333333333,
              "#9c179e"
             ],
             [
              0.4444444444444444,
              "#bd3786"
             ],
             [
              0.5555555555555556,
              "#d8576b"
             ],
             [
              0.6666666666666666,
              "#ed7953"
             ],
             [
              0.7777777777777778,
              "#fb9f3a"
             ],
             [
              0.8888888888888888,
              "#fdca26"
             ],
             [
              1,
              "#f0f921"
             ]
            ],
            "type": "heatmap"
           }
          ],
          "heatmapgl": [
           {
            "colorbar": {
             "outlinewidth": 0,
             "ticks": ""
            },
            "colorscale": [
             [
              0,
              "#0d0887"
             ],
             [
              0.1111111111111111,
              "#46039f"
             ],
             [
              0.2222222222222222,
              "#7201a8"
             ],
             [
              0.3333333333333333,
              "#9c179e"
             ],
             [
              0.4444444444444444,
              "#bd3786"
             ],
             [
              0.5555555555555556,
              "#d8576b"
             ],
             [
              0.6666666666666666,
              "#ed7953"
             ],
             [
              0.7777777777777778,
              "#fb9f3a"
             ],
             [
              0.8888888888888888,
              "#fdca26"
             ],
             [
              1,
              "#f0f921"
             ]
            ],
            "type": "heatmapgl"
           }
          ],
          "histogram": [
           {
            "marker": {
             "pattern": {
              "fillmode": "overlay",
              "size": 10,
              "solidity": 0.2
             }
            },
            "type": "histogram"
           }
          ],
          "histogram2d": [
           {
            "colorbar": {
             "outlinewidth": 0,
             "ticks": ""
            },
            "colorscale": [
             [
              0,
              "#0d0887"
             ],
             [
              0.1111111111111111,
              "#46039f"
             ],
             [
              0.2222222222222222,
              "#7201a8"
             ],
             [
              0.3333333333333333,
              "#9c179e"
             ],
             [
              0.4444444444444444,
              "#bd3786"
             ],
             [
              0.5555555555555556,
              "#d8576b"
             ],
             [
              0.6666666666666666,
              "#ed7953"
             ],
             [
              0.7777777777777778,
              "#fb9f3a"
             ],
             [
              0.8888888888888888,
              "#fdca26"
             ],
             [
              1,
              "#f0f921"
             ]
            ],
            "type": "histogram2d"
           }
          ],
          "histogram2dcontour": [
           {
            "colorbar": {
             "outlinewidth": 0,
             "ticks": ""
            },
            "colorscale": [
             [
              0,
              "#0d0887"
             ],
             [
              0.1111111111111111,
              "#46039f"
             ],
             [
              0.2222222222222222,
              "#7201a8"
             ],
             [
              0.3333333333333333,
              "#9c179e"
             ],
             [
              0.4444444444444444,
              "#bd3786"
             ],
             [
              0.5555555555555556,
              "#d8576b"
             ],
             [
              0.6666666666666666,
              "#ed7953"
             ],
             [
              0.7777777777777778,
              "#fb9f3a"
             ],
             [
              0.8888888888888888,
              "#fdca26"
             ],
             [
              1,
              "#f0f921"
             ]
            ],
            "type": "histogram2dcontour"
           }
          ],
          "mesh3d": [
           {
            "colorbar": {
             "outlinewidth": 0,
             "ticks": ""
            },
            "type": "mesh3d"
           }
          ],
          "parcoords": [
           {
            "line": {
             "colorbar": {
              "outlinewidth": 0,
              "ticks": ""
             }
            },
            "type": "parcoords"
           }
          ],
          "pie": [
           {
            "automargin": true,
            "type": "pie"
           }
          ],
          "scatter": [
           {
            "fillpattern": {
             "fillmode": "overlay",
             "size": 10,
             "solidity": 0.2
            },
            "type": "scatter"
           }
          ],
          "scatter3d": [
           {
            "line": {
             "colorbar": {
              "outlinewidth": 0,
              "ticks": ""
             }
            },
            "marker": {
             "colorbar": {
              "outlinewidth": 0,
              "ticks": ""
             }
            },
            "type": "scatter3d"
           }
          ],
          "scattercarpet": [
           {
            "marker": {
             "colorbar": {
              "outlinewidth": 0,
              "ticks": ""
             }
            },
            "type": "scattercarpet"
           }
          ],
          "scattergeo": [
           {
            "marker": {
             "colorbar": {
              "outlinewidth": 0,
              "ticks": ""
             }
            },
            "type": "scattergeo"
           }
          ],
          "scattergl": [
           {
            "marker": {
             "colorbar": {
              "outlinewidth": 0,
              "ticks": ""
             }
            },
            "type": "scattergl"
           }
          ],
          "scattermapbox": [
           {
            "marker": {
             "colorbar": {
              "outlinewidth": 0,
              "ticks": ""
             }
            },
            "type": "scattermapbox"
           }
          ],
          "scatterpolar": [
           {
            "marker": {
             "colorbar": {
              "outlinewidth": 0,
              "ticks": ""
             }
            },
            "type": "scatterpolar"
           }
          ],
          "scatterpolargl": [
           {
            "marker": {
             "colorbar": {
              "outlinewidth": 0,
              "ticks": ""
             }
            },
            "type": "scatterpolargl"
           }
          ],
          "scatterternary": [
           {
            "marker": {
             "colorbar": {
              "outlinewidth": 0,
              "ticks": ""
             }
            },
            "type": "scatterternary"
           }
          ],
          "surface": [
           {
            "colorbar": {
             "outlinewidth": 0,
             "ticks": ""
            },
            "colorscale": [
             [
              0,
              "#0d0887"
             ],
             [
              0.1111111111111111,
              "#46039f"
             ],
             [
              0.2222222222222222,
              "#7201a8"
             ],
             [
              0.3333333333333333,
              "#9c179e"
             ],
             [
              0.4444444444444444,
              "#bd3786"
             ],
             [
              0.5555555555555556,
              "#d8576b"
             ],
             [
              0.6666666666666666,
              "#ed7953"
             ],
             [
              0.7777777777777778,
              "#fb9f3a"
             ],
             [
              0.8888888888888888,
              "#fdca26"
             ],
             [
              1,
              "#f0f921"
             ]
            ],
            "type": "surface"
           }
          ],
          "table": [
           {
            "cells": {
             "fill": {
              "color": "#EBF0F8"
             },
             "line": {
              "color": "white"
             }
            },
            "header": {
             "fill": {
              "color": "#C8D4E3"
             },
             "line": {
              "color": "white"
             }
            },
            "type": "table"
           }
          ]
         },
         "layout": {
          "annotationdefaults": {
           "arrowcolor": "#2a3f5f",
           "arrowhead": 0,
           "arrowwidth": 1
          },
          "autotypenumbers": "strict",
          "coloraxis": {
           "colorbar": {
            "outlinewidth": 0,
            "ticks": ""
           }
          },
          "colorscale": {
           "diverging": [
            [
             0,
             "#8e0152"
            ],
            [
             0.1,
             "#c51b7d"
            ],
            [
             0.2,
             "#de77ae"
            ],
            [
             0.3,
             "#f1b6da"
            ],
            [
             0.4,
             "#fde0ef"
            ],
            [
             0.5,
             "#f7f7f7"
            ],
            [
             0.6,
             "#e6f5d0"
            ],
            [
             0.7,
             "#b8e186"
            ],
            [
             0.8,
             "#7fbc41"
            ],
            [
             0.9,
             "#4d9221"
            ],
            [
             1,
             "#276419"
            ]
           ],
           "sequential": [
            [
             0,
             "#0d0887"
            ],
            [
             0.1111111111111111,
             "#46039f"
            ],
            [
             0.2222222222222222,
             "#7201a8"
            ],
            [
             0.3333333333333333,
             "#9c179e"
            ],
            [
             0.4444444444444444,
             "#bd3786"
            ],
            [
             0.5555555555555556,
             "#d8576b"
            ],
            [
             0.6666666666666666,
             "#ed7953"
            ],
            [
             0.7777777777777778,
             "#fb9f3a"
            ],
            [
             0.8888888888888888,
             "#fdca26"
            ],
            [
             1,
             "#f0f921"
            ]
           ],
           "sequentialminus": [
            [
             0,
             "#0d0887"
            ],
            [
             0.1111111111111111,
             "#46039f"
            ],
            [
             0.2222222222222222,
             "#7201a8"
            ],
            [
             0.3333333333333333,
             "#9c179e"
            ],
            [
             0.4444444444444444,
             "#bd3786"
            ],
            [
             0.5555555555555556,
             "#d8576b"
            ],
            [
             0.6666666666666666,
             "#ed7953"
            ],
            [
             0.7777777777777778,
             "#fb9f3a"
            ],
            [
             0.8888888888888888,
             "#fdca26"
            ],
            [
             1,
             "#f0f921"
            ]
           ]
          },
          "colorway": [
           "#636efa",
           "#EF553B",
           "#00cc96",
           "#ab63fa",
           "#FFA15A",
           "#19d3f3",
           "#FF6692",
           "#B6E880",
           "#FF97FF",
           "#FECB52"
          ],
          "font": {
           "color": "#2a3f5f"
          },
          "geo": {
           "bgcolor": "white",
           "lakecolor": "white",
           "landcolor": "#E5ECF6",
           "showlakes": true,
           "showland": true,
           "subunitcolor": "white"
          },
          "hoverlabel": {
           "align": "left"
          },
          "hovermode": "closest",
          "mapbox": {
           "style": "light"
          },
          "paper_bgcolor": "white",
          "plot_bgcolor": "#E5ECF6",
          "polar": {
           "angularaxis": {
            "gridcolor": "white",
            "linecolor": "white",
            "ticks": ""
           },
           "bgcolor": "#E5ECF6",
           "radialaxis": {
            "gridcolor": "white",
            "linecolor": "white",
            "ticks": ""
           }
          },
          "scene": {
           "xaxis": {
            "backgroundcolor": "#E5ECF6",
            "gridcolor": "white",
            "gridwidth": 2,
            "linecolor": "white",
            "showbackground": true,
            "ticks": "",
            "zerolinecolor": "white"
           },
           "yaxis": {
            "backgroundcolor": "#E5ECF6",
            "gridcolor": "white",
            "gridwidth": 2,
            "linecolor": "white",
            "showbackground": true,
            "ticks": "",
            "zerolinecolor": "white"
           },
           "zaxis": {
            "backgroundcolor": "#E5ECF6",
            "gridcolor": "white",
            "gridwidth": 2,
            "linecolor": "white",
            "showbackground": true,
            "ticks": "",
            "zerolinecolor": "white"
           }
          },
          "shapedefaults": {
           "line": {
            "color": "#2a3f5f"
           }
          },
          "ternary": {
           "aaxis": {
            "gridcolor": "white",
            "linecolor": "white",
            "ticks": ""
           },
           "baxis": {
            "gridcolor": "white",
            "linecolor": "white",
            "ticks": ""
           },
           "bgcolor": "#E5ECF6",
           "caxis": {
            "gridcolor": "white",
            "linecolor": "white",
            "ticks": ""
           }
          },
          "title": {
           "x": 0.05
          },
          "xaxis": {
           "automargin": true,
           "gridcolor": "white",
           "linecolor": "white",
           "ticks": "",
           "title": {
            "standoff": 15
           },
           "zerolinecolor": "white",
           "zerolinewidth": 2
          },
          "yaxis": {
           "automargin": true,
           "gridcolor": "white",
           "linecolor": "white",
           "ticks": "",
           "title": {
            "standoff": 15
           },
           "zerolinecolor": "white",
           "zerolinewidth": 2
          }
         }
        },
        "title": {
         "text": "Отношение MAE модели к MAE наивного прогноза"
        },
        "xaxis": {
         "title": {
          "text": "Временной горизонт прогноза"
         }
        },
        "yaxis": {
         "title": {
          "text": "Значение метрики"
         }
        }
       }
      }
     },
     "metadata": {},
     "output_type": "display_data"
    }
   ],
   "source": [
    "import plotly.graph_objects as go\n",
    "\n",
    "fig = go.Figure()\n",
    "\n",
    "metrics_3 = pd.DataFrame()\n",
    "\n",
    "for cur in currency:\n",
    "\n",
    "    line = relative_score_partial(df_add_lags, cur, PartialForecaster)\n",
    "    y = np.arange(1, len(line) + 1)\n",
    "\n",
    "    metrics_3.loc[0, cur] = sum(line < 1)\n",
    "\n",
    "    fig.add_trace(go.Scatter(x=y, y=line, mode='lines+markers', name=cur, showlegend=True, marker=dict(size=10)))\n",
    "\n",
    "fig.update_layout(\n",
    "    title='Отношение MAE модели к MAE наивного прогноза',\n",
    "    xaxis_title='Временной горизонт прогноза',\n",
    "    yaxis_title='Значение метрики'\n",
    ")\n",
    "\n",
    "fig.show()\n"
   ]
  },
  {
   "cell_type": "code",
   "execution_count": 39,
   "metadata": {},
   "outputs": [
    {
     "data": {
      "application/vnd.plotly.v1+json": {
       "config": {
        "plotlyServerURL": "https://plot.ly"
       },
       "data": [
        {
         "marker": {
          "size": 10
         },
         "mode": "lines+markers",
         "name": "eur_usd",
         "showlegend": true,
         "type": "scatter",
         "x": [
          1,
          2,
          3,
          4,
          5,
          6,
          7,
          8,
          9,
          10,
          11,
          12
         ],
         "y": [
          4.3815146243923495,
          1.2095163133286018,
          1.1984925400215207,
          0.8257551178808761,
          0.8272484177014858,
          1.0630883097923542,
          21.107131506816373,
          1.0844078745902817,
          1.9053610565126757,
          2.105587125605217,
          0.7935366777219063,
          1.0251891221954261
         ]
        },
        {
         "marker": {
          "size": 10
         },
         "mode": "lines+markers",
         "name": "cny_usd",
         "showlegend": true,
         "type": "scatter",
         "x": [
          1,
          2,
          3,
          4,
          5,
          6,
          7,
          8,
          9,
          10,
          11,
          12
         ],
         "y": [
          20.65003752618797,
          1.8246895949664854,
          1.771620837995007,
          4.0083743257934925,
          12.864993231998193,
          3.4859098484975655,
          2.58928570196697,
          1.9866632061338239,
          2.009130354749271,
          2.129764331934744,
          53.0016170380293,
          0.6473481164714069
         ]
        },
        {
         "marker": {
          "size": 10
         },
         "mode": "lines+markers",
         "name": "inr_usd",
         "showlegend": true,
         "type": "scatter",
         "x": [
          1,
          2,
          3,
          4,
          5,
          6,
          7,
          8,
          9,
          10,
          11,
          12
         ],
         "y": [
          10.609512348137487,
          25.463238972504953,
          81.40216486712531,
          41.4797103176915,
          27.08428189496615,
          320.57940839810436,
          22.071699490970474,
          2.6428728370572845,
          2.750106836942859,
          2.9523251155151775,
          3.0058055307345612,
          2.8373795639958175
         ]
        },
        {
         "marker": {
          "size": 10
         },
         "mode": "lines+markers",
         "name": "jpy_usd",
         "showlegend": true,
         "type": "scatter",
         "x": [
          1,
          2,
          3,
          4,
          5,
          6,
          7,
          8,
          9,
          10,
          11,
          12
         ],
         "y": [
          5.244374558159712,
          2.976441944620666,
          3.951877833637503,
          2.489956670405632,
          1.6718472162413105,
          1.8148497456958406,
          2.235625408282433,
          5.759575720676932,
          2.8691545799193823,
          2.70172114472223,
          2.6803102983152454,
          1.9427895584410457
         ]
        },
        {
         "marker": {
          "size": 10
         },
         "mode": "lines+markers",
         "name": "gbr_usd",
         "showlegend": true,
         "type": "scatter",
         "x": [
          1,
          2,
          3,
          4,
          5,
          6,
          7,
          8,
          9,
          10,
          11,
          12
         ],
         "y": [
          2.3776459816447812,
          0.8764139796259931,
          0.8387477716037891,
          0.9512536716513051,
          0.9062605345399554,
          1.098454086198214,
          1.5486113950241263,
          1.8160457836748025,
          1.4025744366996635,
          1.8859958981066143,
          148.04918573425056,
          14.699715479242693
         ]
        },
        {
         "marker": {
          "size": 10
         },
         "mode": "lines+markers",
         "name": "chf_usd",
         "showlegend": true,
         "type": "scatter",
         "x": [
          1,
          2,
          3,
          4,
          5,
          6,
          7,
          8,
          9,
          10,
          11,
          12
         ],
         "y": [
          2.687996607736965,
          1.9017164885734472,
          13.327172182375334,
          1.5509287900598325,
          1.072270942849783,
          1.1222639070816955,
          1.24908221788617,
          1.5438822498481837,
          1.2700101228740124,
          0.9508947910461177,
          0.6515402254547354,
          0.3157813345385866
         ]
        },
        {
         "marker": {
          "size": 10
         },
         "mode": "lines+markers",
         "name": "brl_usd",
         "showlegend": true,
         "type": "scatter",
         "x": [
          1,
          2,
          3,
          4,
          5,
          6,
          7,
          8,
          9,
          10,
          11,
          12
         ],
         "y": [
          6.039285834694046,
          10.344190350939611,
          11.028534226670432,
          28.47860912806232,
          5.743562966688458,
          5.971372422993778,
          6.149603120344781,
          10.662589366848204,
          11.376913869523962,
          6.784491696019518,
          12.724402793092887,
          22.029834113147036
         ]
        },
        {
         "marker": {
          "size": 10
         },
         "mode": "lines+markers",
         "name": "idr_usd",
         "showlegend": true,
         "type": "scatter",
         "x": [
          1,
          2,
          3,
          4,
          5,
          6,
          7,
          8,
          9,
          10,
          11,
          12
         ],
         "y": [
          5.427285401365705,
          3.6096204029970966,
          6.050981643595795,
          8.670759905333613,
          4.139759485586578,
          10.002127838568692,
          118.829665531846,
          31.091058785796935,
          16.62912269954012,
          31.558512473465637,
          8.057785938128035,
          4.049916898304493
         ]
        },
        {
         "marker": {
          "size": 10
         },
         "mode": "lines+markers",
         "name": "eur_usd_1",
         "showlegend": true,
         "type": "scatter",
         "x": [
          1,
          2,
          3,
          4,
          5,
          6,
          7,
          8,
          9,
          10,
          11,
          12
         ],
         "y": [
          1.2471612387917055,
          1.9036690511874121,
          0.7126612201822095,
          0.7691340777632295,
          0.925168174507729,
          0.6622721830450281,
          0.6924009029674897,
          0.9330214252786472,
          3.619930979182376,
          1.657243460036346,
          1.9187490529402016,
          0.7210596609387457
         ]
        },
        {
         "marker": {
          "size": 10
         },
         "mode": "lines+markers",
         "name": "cny_usd_1",
         "showlegend": true,
         "type": "scatter",
         "x": [
          1,
          2,
          3,
          4,
          5,
          6,
          7,
          8,
          9,
          10,
          11,
          12
         ],
         "y": [
          1.5643545135381292,
          1.4402279726406324,
          1.77475798867233,
          2.607760578282559,
          2.8540692436631385,
          6.679771141077087,
          1.2630384432574078,
          1.1549089784523372,
          1.0248084819379517,
          1.0503411477506643,
          1.1031114337285055,
          1.548918767963018
         ]
        },
        {
         "marker": {
          "size": 10
         },
         "mode": "lines+markers",
         "name": "inr_usd_1",
         "showlegend": true,
         "type": "scatter",
         "x": [
          1,
          2,
          3,
          4,
          5,
          6,
          7,
          8,
          9,
          10,
          11,
          12
         ],
         "y": [
          10.487448997232626,
          14.648221807099645,
          11.95474568803776,
          14.969494396153676,
          19.93060019971596,
          30.27047616431354,
          30.021634412065257,
          14.639053642014977,
          2.7508767155744205,
          2.88841119389526,
          3.014720290877603,
          2.9509715245784567
         ]
        },
        {
         "marker": {
          "size": 10
         },
         "mode": "lines+markers",
         "name": "jpy_usd_1",
         "showlegend": true,
         "type": "scatter",
         "x": [
          1,
          2,
          3,
          4,
          5,
          6,
          7,
          8,
          9,
          10,
          11,
          12
         ],
         "y": [
          10.611607571597684,
          2.6019625840314062,
          2.400007103251381,
          2.9942600905264825,
          2.298496998975082,
          1.5542312679536663,
          1.5243001776957394,
          1.6780263274132823,
          2.624003803940741,
          2.033473542019473,
          1.9018918311259156,
          1.884072419522674
         ]
        },
        {
         "marker": {
          "size": 10
         },
         "mode": "lines+markers",
         "name": "gbr_usd_1",
         "showlegend": true,
         "type": "scatter",
         "x": [
          1,
          2,
          3,
          4,
          5,
          6,
          7,
          8,
          9,
          10,
          11,
          12
         ],
         "y": [
          1.131206602890349,
          1.2490393608592354,
          1.269886776155679,
          1.7078342530436454,
          0.7146687506475468,
          0.771657857839573,
          0.9143856607262796,
          1.0227503840978815,
          1.0358217868641666,
          1.1337549179611461,
          1.293709023455517,
          1.4462728431066318
         ]
        },
        {
         "marker": {
          "size": 10
         },
         "mode": "lines+markers",
         "name": "chf_usd_1",
         "showlegend": true,
         "type": "scatter",
         "x": [
          1,
          2,
          3,
          4,
          5,
          6,
          7,
          8,
          9,
          10,
          11,
          12
         ],
         "y": [
          3.4754704058147983,
          2.9329498227448716,
          4.142140749917473,
          25.742178998545494,
          16.067738862469614,
          15.211561317306128,
          57.22893120844814,
          22.482816702692926,
          11.6670067836853,
          33.87369298293094,
          3.558247986354969,
          1.2086339421731167
         ]
        },
        {
         "marker": {
          "size": 10
         },
         "mode": "lines+markers",
         "name": "brl_usd_1",
         "showlegend": true,
         "type": "scatter",
         "x": [
          1,
          2,
          3,
          4,
          5,
          6,
          7,
          8,
          9,
          10,
          11,
          12
         ],
         "y": [
          13.415278429762717,
          4.5064984578757565,
          26.770027907882483,
          4.23663854133341,
          4.647189038764588,
          36.731559667644795,
          122.68426909604585,
          14.819903465736468,
          29.311665817841327,
          4.822447299794699,
          4.344609266868077,
          4.464170920763588
         ]
        },
        {
         "marker": {
          "size": 10
         },
         "mode": "lines+markers",
         "name": "idr_usd_1",
         "showlegend": true,
         "type": "scatter",
         "x": [
          1,
          2,
          3,
          4,
          5,
          6,
          7,
          8,
          9,
          10,
          11,
          12
         ],
         "y": [
          1.821401674213868,
          1.9249302728217288,
          9.617280057988308,
          3.0390969332678464,
          2.3945520385976886,
          1.9355919936269055,
          2.344221777877291,
          2.4588567638840058,
          2.6952144632535338,
          3.1800320198668253,
          3.0480943190611547,
          3.9896899587187353
         ]
        },
        {
         "marker": {
          "size": 10
         },
         "mode": "lines+markers",
         "name": "eur_usd_2",
         "showlegend": true,
         "type": "scatter",
         "x": [
          1,
          2,
          3,
          4,
          5,
          6,
          7,
          8,
          9,
          10,
          11,
          12
         ],
         "y": [
          0.6947708158420133,
          0.976847132379993,
          1.1039139850036779,
          1.2898346057836398,
          1.0198568507854946,
          1.1005948540432315,
          0.6690932570936002,
          0.6260786021994998,
          0.6407325061543226,
          0.7735252959871116,
          0.8432441867227108,
          0.9530059496429454
         ]
        },
        {
         "marker": {
          "size": 10
         },
         "mode": "lines+markers",
         "name": "cny_usd_2",
         "showlegend": true,
         "type": "scatter",
         "x": [
          1,
          2,
          3,
          4,
          5,
          6,
          7,
          8,
          9,
          10,
          11,
          12
         ],
         "y": [
          2.3723820364540757,
          1.360651531678297,
          1.422769664361671,
          2.272435671583862,
          2.8524334805107725,
          2.2737764698470646,
          3.4733105109290006,
          1.2662197925035465,
          1.109273186363845,
          0.9737331330208869,
          1.004293650092776,
          1.1069793680096822
         ]
        },
        {
         "marker": {
          "size": 10
         },
         "mode": "lines+markers",
         "name": "inr_usd_2",
         "showlegend": true,
         "type": "scatter",
         "x": [
          1,
          2,
          3,
          4,
          5,
          6,
          7,
          8,
          9,
          10,
          11,
          12
         ],
         "y": [
          18.006522507388237,
          13.728916115392707,
          9.50300306842537,
          7.987420574926829,
          9.726685059951027,
          13.398449275995404,
          31.330539226913704,
          20.726606073998543,
          11.092443159810083,
          2.596650319814532,
          2.669594296987715,
          2.6818383022331687
         ]
        },
        {
         "marker": {
          "size": 10
         },
         "mode": "lines+markers",
         "name": "jpy_usd_2",
         "showlegend": true,
         "type": "scatter",
         "x": [
          1,
          2,
          3,
          4,
          5,
          6,
          7,
          8,
          9,
          10,
          11,
          12
         ],
         "y": [
          2.758997445754438,
          1.7730236549948373,
          1.398698963016609,
          1.2369926765987243,
          1.2891568513798646,
          1.0864515081948063,
          1.011034481212685,
          0.9893106821011775,
          1.0776980752624397,
          1.167896286997084,
          1.090571051639526,
          1.0868129027384283
         ]
        },
        {
         "marker": {
          "size": 10
         },
         "mode": "lines+markers",
         "name": "gbr_usd_2",
         "showlegend": true,
         "type": "scatter",
         "x": [
          1,
          2,
          3,
          4,
          5,
          6,
          7,
          8,
          9,
          10,
          11,
          12
         ],
         "y": [
          2.2159147917617825,
          1.1434594690564641,
          1.1455668177549798,
          1.5941262575105999,
          0.7089302648950828,
          0.9309020056993549,
          1.0164011746666912,
          1.0945506283135407,
          1.1014725763668676,
          1.2296775633037849,
          1.3516662143464393,
          1.2616000838924597
         ]
        },
        {
         "marker": {
          "size": 10
         },
         "mode": "lines+markers",
         "name": "chf_usd_2",
         "showlegend": true,
         "type": "scatter",
         "x": [
          1,
          2,
          3,
          4,
          5,
          6,
          7,
          8,
          9,
          10,
          11,
          12
         ],
         "y": [
          38.070117228071986,
          4.201871559244702,
          2.935555274491002,
          4.032158766758481,
          25.547880006082135,
          5.068289470447348,
          4.039997889370427,
          4.1406678019004035,
          8.339825101412636,
          5.411973297048518,
          6.968842403814935,
          69.39939570694533
         ]
        },
        {
         "marker": {
          "size": 10
         },
         "mode": "lines+markers",
         "name": "brl_usd_2",
         "showlegend": true,
         "type": "scatter",
         "x": [
          1,
          2,
          3,
          4,
          5,
          6,
          7,
          8,
          9,
          10,
          11,
          12
         ],
         "y": [
          3.2529886168209075,
          18.85447338480221,
          7.249569408143695,
          4.8964666770897525,
          10.525474771380695,
          6.208257945668483,
          11.579275347463744,
          14.610298630278175,
          116.0501482135739,
          17.411444349686064,
          9.107148876039943,
          19.39246084086792
         ]
        },
        {
         "marker": {
          "size": 10
         },
         "mode": "lines+markers",
         "name": "idr_usd_2",
         "showlegend": true,
         "type": "scatter",
         "x": [
          1,
          2,
          3,
          4,
          5,
          6,
          7,
          8,
          9,
          10,
          11,
          12
         ],
         "y": [
          3.8327115247228867,
          5.095582148184487,
          8.873230488056484,
          4.656525675359172,
          162.14524236893152,
          5.7792584888302665,
          3.9293296662380004,
          5.981623221515787,
          8.31820835529996,
          9.775803572280877,
          12.019703132198744,
          9.209518566059142
         ]
        },
        {
         "marker": {
          "size": 10
         },
         "mode": "lines+markers",
         "name": "eur_usd_3",
         "showlegend": true,
         "type": "scatter",
         "x": [
          1,
          2,
          3,
          4,
          5,
          6,
          7,
          8,
          9,
          10,
          11,
          12
         ],
         "y": [
          0.5202551203827672,
          0.6987302862013851,
          1.770795324856491,
          1.784160529638793,
          0.4504423562170225,
          0.35158213442774056,
          0.4655615238363882,
          0.48900425315794976,
          0.5626540217102023,
          0.576829781533186,
          0.5876914260001286,
          0.6336129435957302
         ]
        },
        {
         "marker": {
          "size": 10
         },
         "mode": "lines+markers",
         "name": "cny_usd_3",
         "showlegend": true,
         "type": "scatter",
         "x": [
          1,
          2,
          3,
          4,
          5,
          6,
          7,
          8,
          9,
          10,
          11,
          12
         ],
         "y": [
          29.765951457709075,
          1.6928288801423321,
          1.9384653690660982,
          2.5491566774281256,
          5.110697738895559,
          4.917080587489082,
          20.570461007861592,
          3.94925644061939,
          1.674632091480948,
          1.3451188587796514,
          1.2288238126331705,
          1.1505976925683934
         ]
        },
        {
         "marker": {
          "size": 10
         },
         "mode": "lines+markers",
         "name": "inr_usd_3",
         "showlegend": true,
         "type": "scatter",
         "x": [
          1,
          2,
          3,
          4,
          5,
          6,
          7,
          8,
          9,
          10,
          11,
          12
         ],
         "y": [
          5.145604327471671,
          22.299022688066884,
          32.445851519676886,
          61.37540934201888,
          48.19807428933785,
          29.72720735336361,
          42.66745796517295,
          65.50485590657847,
          110.04561976698157,
          19.65876127893519,
          3.075185071449322,
          3.1166602210779835
         ]
        },
        {
         "marker": {
          "size": 10
         },
         "mode": "lines+markers",
         "name": "jpy_usd_3",
         "showlegend": true,
         "type": "scatter",
         "x": [
          1,
          2,
          3,
          4,
          5,
          6,
          7,
          8,
          9,
          10,
          11,
          12
         ],
         "y": [
          1.3415602918780187,
          0.934321294236396,
          1.0102910843909692,
          1.0656146022152653,
          0.9943212097045754,
          0.9494727104811048,
          0.736912786179939,
          0.8009386007922625,
          0.8173216127778636,
          0.8701606688049264,
          0.8932934216087606,
          0.8540843646154421
         ]
        },
        {
         "marker": {
          "size": 10
         },
         "mode": "lines+markers",
         "name": "gbr_usd_3",
         "showlegend": true,
         "type": "scatter",
         "x": [
          1,
          2,
          3,
          4,
          5,
          6,
          7,
          8,
          9,
          10,
          11,
          12
         ],
         "y": [
          2.261289991043669,
          0.6150652750574639,
          0.786227226903982,
          0.6822988622031362,
          1.228297369858985,
          0.8015181276131722,
          0.9482804655177542,
          1.085272966143326,
          1.0863863030349712,
          1.1055132147837694,
          1.359724590745217,
          1.4469430575414688
         ]
        },
        {
         "marker": {
          "size": 10
         },
         "mode": "lines+markers",
         "name": "chf_usd_3",
         "showlegend": true,
         "type": "scatter",
         "x": [
          1,
          2,
          3,
          4,
          5,
          6,
          7,
          8,
          9,
          10,
          11,
          12
         ],
         "y": [
          1.8999532798397183,
          0.695536584637035,
          2.0874434713220116,
          2.7140652637743905,
          3.448233461600925,
          2.6613433319328785,
          1.4579353695089374,
          1.2449529255460166,
          1.1974826641542062,
          2.420765405034876,
          8.53064191168192,
          4.147019980099519
         ]
        },
        {
         "marker": {
          "size": 10
         },
         "mode": "lines+markers",
         "name": "brl_usd_3",
         "showlegend": true,
         "type": "scatter",
         "x": [
          1,
          2,
          3,
          4,
          5,
          6,
          7,
          8,
          9,
          10,
          11,
          12
         ],
         "y": [
          8.112865047048366,
          3.001291543971332,
          5.027594379309531,
          5.90783898401624,
          8.57972723987806,
          26.15608895545525,
          22.526343441345272,
          20.651920560477507,
          17.074402197398825,
          19.992590807532682,
          609.8533242071999,
          54.424669111360146
         ]
        },
        {
         "marker": {
          "size": 10
         },
         "mode": "lines+markers",
         "name": "idr_usd_3",
         "showlegend": true,
         "type": "scatter",
         "x": [
          1,
          2,
          3,
          4,
          5,
          6,
          7,
          8,
          9,
          10,
          11,
          12
         ],
         "y": [
          5.461873816487444,
          4.255828577418593,
          2.1324746983950886,
          3.473992745325772,
          3.6226916501577446,
          3.988250535191137,
          4.112012089648456,
          15.510767546399109,
          3.6048469051512932,
          3.3658693124437042,
          3.064368921949954,
          2.9279820998769055
         ]
        },
        {
         "marker": {
          "size": 10
         },
         "mode": "lines+markers",
         "name": "eur_usd_4",
         "showlegend": true,
         "type": "scatter",
         "x": [
          1,
          2,
          3,
          4,
          5,
          6,
          7,
          8,
          9,
          10,
          11,
          12
         ],
         "y": [
          2.409757080158023,
          0.7893833407403202,
          0.370608432518507,
          3.8563239275461654,
          0.8192083954469541,
          0.4262160176717933,
          0.4274924942688439,
          0.44787376024050457,
          0.540330854060003,
          0.5711292784889722,
          0.5836132966942147,
          0.6050333025547266
         ]
        },
        {
         "marker": {
          "size": 10
         },
         "mode": "lines+markers",
         "name": "cny_usd_4",
         "showlegend": true,
         "type": "scatter",
         "x": [
          1,
          2,
          3,
          4,
          5,
          6,
          7,
          8,
          9,
          10,
          11,
          12
         ],
         "y": [
          40.71500582554261,
          12.680045853051674,
          2.0814021363676596,
          1.9304645707446326,
          2.067812350821939,
          14.578350746343737,
          14.654363861818117,
          5.670651584395725,
          3.535873602442875,
          1.2630122088012488,
          1.0701697815485713,
          0.983488954768882
         ]
        },
        {
         "marker": {
          "size": 10
         },
         "mode": "lines+markers",
         "name": "inr_usd_4",
         "showlegend": true,
         "type": "scatter",
         "x": [
          1,
          2,
          3,
          4,
          5,
          6,
          7,
          8,
          9,
          10,
          11,
          12
         ],
         "y": [
          31.796071042438516,
          29.487603964579463,
          179.99353069471996,
          null,
          41.30123521235246,
          34.432175105559814,
          23.330364453343964,
          32.748343914532235,
          44.99634840828628,
          65.99647925810758,
          19.39374776144562,
          2.959167603522259
         ]
        },
        {
         "marker": {
          "size": 10
         },
         "mode": "lines+markers",
         "name": "jpy_usd_4",
         "showlegend": true,
         "type": "scatter",
         "x": [
          1,
          2,
          3,
          4,
          5,
          6,
          7,
          8,
          9,
          10,
          11,
          12
         ],
         "y": [
          1.7406055266657294,
          5.103517798252471,
          1.1713964600744753,
          1.195639172796155,
          1.0605591541240387,
          0.9566389355559143,
          0.7446783598597658,
          0.6617885909885143,
          0.7876275661802655,
          0.8159584238712729,
          0.7953858112819422,
          0.7883876924971721
         ]
        },
        {
         "marker": {
          "size": 10
         },
         "mode": "lines+markers",
         "name": "gbr_usd_4",
         "showlegend": true,
         "type": "scatter",
         "x": [
          1,
          2,
          3,
          4,
          5,
          6,
          7,
          8,
          9,
          10,
          11,
          12
         ],
         "y": [
          4.715155379002017,
          0.8478765423239637,
          0.8036394898984565,
          0.8877994414876375,
          0.7725119500430288,
          0.44182020025338714,
          0.7256540311626637,
          1.5800192305392244,
          4.048189367951669,
          2.1945712735709946,
          1.8209304598829295,
          3.787265235665482
         ]
        },
        {
         "marker": {
          "size": 10
         },
         "mode": "lines+markers",
         "name": "chf_usd_4",
         "showlegend": true,
         "type": "scatter",
         "x": [
          1,
          2,
          3,
          4,
          5,
          6,
          7,
          8,
          9,
          10,
          11,
          12
         ],
         "y": [
          4.082248886743074,
          1.883086338627643,
          1.0172620374399222,
          2.5848747422224516,
          4.795296027913056,
          7.328818259537749,
          3.3613495381661322,
          1.4604475531383285,
          0.7939232119221121,
          0.740841902688726,
          1.5749306986726577,
          3.1543345425149716
         ]
        },
        {
         "marker": {
          "size": 10
         },
         "mode": "lines+markers",
         "name": "brl_usd_4",
         "showlegend": true,
         "type": "scatter",
         "x": [
          1,
          2,
          3,
          4,
          5,
          6,
          7,
          8,
          9,
          10,
          11,
          12
         ],
         "y": [
          4.051680944592263,
          3.0786716265617433,
          2.872607106411804,
          9.286661162459472,
          4.037219442042182,
          9.638628012654811,
          22.97321336057497,
          13.584699903816954,
          7.682236670127968,
          8.955018553699226,
          9.867208128046977,
          8.491849570912162
         ]
        },
        {
         "marker": {
          "size": 10
         },
         "mode": "lines+markers",
         "name": "idr_usd_4",
         "showlegend": true,
         "type": "scatter",
         "x": [
          1,
          2,
          3,
          4,
          5,
          6,
          7,
          8,
          9,
          10,
          11,
          12
         ],
         "y": [
          9.241108625909746,
          549.0777905800294,
          6.741167756846504,
          2.531351442355118,
          2.0624293828962306,
          1.5366864868450676,
          1.7755903843654781,
          1.854682006590102,
          2.4272424556267818,
          4.788469122169956,
          2.9042585048798943,
          2.236471756789546
         ]
        },
        {
         "marker": {
          "size": 10
         },
         "mode": "lines+markers",
         "name": "eur_usd_5",
         "showlegend": true,
         "type": "scatter",
         "x": [
          1,
          2,
          3,
          4,
          5,
          6,
          7,
          8,
          9,
          10,
          11,
          12
         ],
         "y": [
          76.72129946780349,
          1.509957502549075,
          0.4654889710266629,
          0.4604616024638701,
          3.054805767741518,
          0.7581779082176254,
          0.442668215305839,
          0.4200160421970384,
          0.44413124186757375,
          0.5395140937534618,
          0.6240304351494327,
          0.5426885648985057
         ]
        },
        {
         "marker": {
          "size": 10
         },
         "mode": "lines+markers",
         "name": "cny_usd_5",
         "showlegend": true,
         "type": "scatter",
         "x": [
          1,
          2,
          3,
          4,
          5,
          6,
          7,
          8,
          9,
          10,
          11,
          12
         ],
         "y": [
          4.045707376848028,
          3.8637235748654604,
          4.383046757491363,
          9.512973843637567,
          2.087110544159414,
          2.0704585503036568,
          2.2437289361685955,
          2.20235454974796,
          2.1882744211039364,
          14.708032711612168,
          0.8274847266414721,
          0.7607937693114781
         ]
        },
        {
         "marker": {
          "size": 10
         },
         "mode": "lines+markers",
         "name": "inr_usd_5",
         "showlegend": true,
         "type": "scatter",
         "x": [
          1,
          2,
          3,
          4,
          5,
          6,
          7,
          8,
          9,
          10,
          11,
          12
         ],
         "y": [
          6.472046883161013,
          5.916889275828399,
          19.67305494906501,
          21.11795392158329,
          20.69771404152643,
          18.513256166996634,
          9.431224777580207,
          19.939245126338914,
          11.564566700162091,
          11.274194370261453,
          10.937984019556419,
          34.024517344254384
         ]
        },
        {
         "marker": {
          "size": 10
         },
         "mode": "lines+markers",
         "name": "jpy_usd_5",
         "showlegend": true,
         "type": "scatter",
         "x": [
          1,
          2,
          3,
          4,
          5,
          6,
          7,
          8,
          9,
          10,
          11,
          12
         ],
         "y": [
          12.881548513348795,
          2.617257679315166,
          29.69392935211877,
          1.1096230801821625,
          1.0509387054422712,
          0.9274887024400948,
          0.7818375891415371,
          0.5683639239591168,
          0.6214507486088848,
          0.7008460151067375,
          0.7082100723697006,
          0.6972546299072769
         ]
        },
        {
         "marker": {
          "size": 10
         },
         "mode": "lines+markers",
         "name": "gbr_usd_5",
         "showlegend": true,
         "type": "scatter",
         "x": [
          1,
          2,
          3,
          4,
          5,
          6,
          7,
          8,
          9,
          10,
          11,
          12
         ],
         "y": [
          0.5012452763734186,
          0.5101942832603389,
          0.9794393811180332,
          0.7009139156401011,
          0.5811370076540814,
          0.6541673864707901,
          0.8169253412084232,
          0.9868832778579787,
          1.5433706853001494,
          1.9061613807353834,
          563.1445555168303,
          3.0742150917917996
         ]
        },
        {
         "marker": {
          "size": 10
         },
         "mode": "lines+markers",
         "name": "chf_usd_5",
         "showlegend": true,
         "type": "scatter",
         "x": [
          1,
          2,
          3,
          4,
          5,
          6,
          7,
          8,
          9,
          10,
          11,
          12
         ],
         "y": [
          9.093608454969543,
          5.1098791175008875,
          1.2406715036317775,
          0.8913247998561903,
          1.8470601824908603,
          1.7656599394335393,
          1.7624567359370165,
          1.7477110373811648,
          1.0646055203570597,
          0.7995150546727764,
          0.7292731192885754,
          1.5278991328935658
         ]
        },
        {
         "marker": {
          "size": 10
         },
         "mode": "lines+markers",
         "name": "brl_usd_5",
         "showlegend": true,
         "type": "scatter",
         "x": [
          1,
          2,
          3,
          4,
          5,
          6,
          7,
          8,
          9,
          10,
          11,
          12
         ],
         "y": [
          3.1241944383942184,
          2.0331440951288444,
          2.3656994416130623,
          2.411437712810759,
          5.028590088496764,
          5.024238613628982,
          43.424040108511036,
          10.271259389468312,
          13.33650723936964,
          5.148442133140006,
          9.23245207778794,
          20.59850064138859
         ]
        },
        {
         "marker": {
          "size": 10
         },
         "mode": "lines+markers",
         "name": "idr_usd_5",
         "showlegend": true,
         "type": "scatter",
         "x": [
          1,
          2,
          3,
          4,
          5,
          6,
          7,
          8,
          9,
          10,
          11,
          12
         ],
         "y": [
          4.892006662230834,
          13.547317461918817,
          28.34277639894411,
          6.577354012617285,
          3.5779148991227707,
          2.7840631357152597,
          1.7559292424871842,
          3.5064758146685455,
          4.933340942106334,
          11.403668412106967,
          3.305805793139706,
          2.8847148119631405
         ]
        },
        {
         "marker": {
          "size": 10
         },
         "mode": "lines+markers",
         "name": "eur_usd_6",
         "showlegend": true,
         "type": "scatter",
         "x": [
          1,
          2,
          3,
          4,
          5,
          6,
          7,
          8,
          9,
          10,
          11,
          12
         ],
         "y": [
          1.0453082270534624,
          0.9481546544788712,
          0.6198053342767542,
          1.587041248369224,
          0.8381893093747971,
          0.8644482420361047,
          0.9316458003579803,
          6.0866602480793714,
          1.1147429981459716,
          1.2053152408385428,
          0.45719828269947665,
          0.4928788018490841
         ]
        },
        {
         "marker": {
          "size": 10
         },
         "mode": "lines+markers",
         "name": "cny_usd_6",
         "showlegend": true,
         "type": "scatter",
         "x": [
          1,
          2,
          3,
          4,
          5,
          6,
          7,
          8,
          9,
          10,
          11,
          12
         ],
         "y": [
          4.2709963842232455,
          2.9312961234712347,
          2.2998032408435107,
          3.3181464364222486,
          8.82138371397111,
          2.182871629950968,
          1.8968190222901373,
          1.7710717767450808,
          1.7385462826351832,
          1.8916744122458722,
          41.421891741939824,
          0.6669349883669305
         ]
        },
        {
         "marker": {
          "size": 10
         },
         "mode": "lines+markers",
         "name": "inr_usd_6",
         "showlegend": true,
         "type": "scatter",
         "x": [
          1,
          2,
          3,
          4,
          5,
          6,
          7,
          8,
          9,
          10,
          11,
          12
         ],
         "y": [
          8.1475483907137,
          8.485731482618181,
          7.288216696432667,
          14.841572703964438,
          22.776787611469498,
          38.06720866763938,
          40.264412657870814,
          21.29136589546967,
          86.227397286008,
          28.211836061347384,
          22.775516340818484,
          19.416076884045737
         ]
        },
        {
         "marker": {
          "size": 10
         },
         "mode": "lines+markers",
         "name": "jpy_usd_6",
         "showlegend": true,
         "type": "scatter",
         "x": [
          1,
          2,
          3,
          4,
          5,
          6,
          7,
          8,
          9,
          10,
          11,
          12
         ],
         "y": [
          8.85245479923948,
          3.8351092896832206,
          2.4194567111410756,
          1.0555707755322379,
          0.8502860388906709,
          0.7966025197789198,
          0.6741919799604282,
          0.5690797626468723,
          0.56240810502528,
          0.5867091104391225,
          0.6399792209828751,
          0.6382787584204738
         ]
        },
        {
         "marker": {
          "size": 10
         },
         "mode": "lines+markers",
         "name": "gbr_usd_6",
         "showlegend": true,
         "type": "scatter",
         "x": [
          1,
          2,
          3,
          4,
          5,
          6,
          7,
          8,
          9,
          10,
          11,
          12
         ],
         "y": [
          0.7596629396414624,
          0.7670757893218565,
          0.3077632027610537,
          0.7516957652122853,
          0.7552532930851185,
          0.6551633219663117,
          0.7682628097429642,
          0.9118462951444105,
          1.016816524910668,
          1.2013756375865368,
          1.3355270522133544,
          2.076211495999877
         ]
        },
        {
         "marker": {
          "size": 10
         },
         "mode": "lines+markers",
         "name": "chf_usd_6",
         "showlegend": true,
         "type": "scatter",
         "x": [
          1,
          2,
          3,
          4,
          5,
          6,
          7,
          8,
          9,
          10,
          11,
          12
         ],
         "y": [
          2.0154018375553147,
          2.7328281127393463,
          30.805452924633993,
          2.7358320253785666,
          2.071765616283095,
          2.513916363899657,
          6.849509442003903,
          3.27736741644984,
          5.688641429593087,
          1.8200742769564726,
          1.6473671731293782,
          1.9804487441773404
         ]
        },
        {
         "marker": {
          "size": 10
         },
         "mode": "lines+markers",
         "name": "brl_usd_6",
         "showlegend": true,
         "type": "scatter",
         "x": [
          1,
          2,
          3,
          4,
          5,
          6,
          7,
          8,
          9,
          10,
          11,
          12
         ],
         "y": [
          3.877318428301131,
          18.675557743630886,
          20.300162350712792,
          16.923249243337093,
          7.218060342421576,
          7.035552339081576,
          4.395468725749022,
          9.3946597982159,
          10.56298845843697,
          8.2208082663863,
          10.530482479091274,
          9.62621817270416
         ]
        },
        {
         "marker": {
          "size": 10
         },
         "mode": "lines+markers",
         "name": "idr_usd_6",
         "showlegend": true,
         "type": "scatter",
         "x": [
          1,
          2,
          3,
          4,
          5,
          6,
          7,
          8,
          9,
          10,
          11,
          12
         ],
         "y": [
          4.382183545441038,
          6.132433392298833,
          7.070791690570836,
          10.45743583699011,
          5.1008659409187995,
          5.046885304566003,
          26.322341935350597,
          9.638781626930976,
          9.225142948164173,
          26.955305874998857,
          29.193778853031446,
          5.871718389074382
         ]
        },
        {
         "marker": {
          "size": 10
         },
         "mode": "lines+markers",
         "name": "eur_usd_7",
         "showlegend": true,
         "type": "scatter",
         "x": [
          1,
          2,
          3,
          4,
          5,
          6,
          7,
          8,
          9,
          10,
          11,
          12
         ],
         "y": [
          0.9150921955346799,
          0.9992974412160215,
          0.5606966707766811,
          0.5201842318488753,
          0.8559332437094226,
          0.8587872633566501,
          0.8205512644138612,
          0.9824875142666033,
          2.2940114373488925,
          484.2722030212545,
          54.48804514083798,
          0.45661793860215066
         ]
        },
        {
         "marker": {
          "size": 10
         },
         "mode": "lines+markers",
         "name": "cny_usd_7",
         "showlegend": true,
         "type": "scatter",
         "x": [
          1,
          2,
          3,
          4,
          5,
          6,
          7,
          8,
          9,
          10,
          11,
          12
         ],
         "y": [
          1.2287971449805983,
          1.6929251532635423,
          1.7377444008871616,
          1.7517651381538597,
          2.13164611752438,
          7.965089263511378,
          0.8435567023067674,
          0.9598250510501263,
          1.002659990589162,
          0.9388380518315728,
          1.116733554806226,
          1.492970330618024
         ]
        },
        {
         "marker": {
          "size": 10
         },
         "mode": "lines+markers",
         "name": "inr_usd_7",
         "showlegend": true,
         "type": "scatter",
         "x": [
          1,
          2,
          3,
          4,
          5,
          6,
          7,
          8,
          9,
          10,
          11,
          12
         ],
         "y": [
          55.874541514907264,
          10.36525173667748,
          7.88916891498424,
          10.196867926192336,
          15.004928012722766,
          20.959245017157812,
          27.146456795001544,
          32.24776418449756,
          20.563296888536083,
          93.91385484013306,
          21.12129860068637,
          18.563412179470227
         ]
        },
        {
         "marker": {
          "size": 10
         },
         "mode": "lines+markers",
         "name": "jpy_usd_7",
         "showlegend": true,
         "type": "scatter",
         "x": [
          1,
          2,
          3,
          4,
          5,
          6,
          7,
          8,
          9,
          10,
          11,
          12
         ],
         "y": [
          3.1756077449320137,
          2.796626393677688,
          1.7625410850274228,
          3.778017804059836,
          0.6583237887489831,
          0.7265476200815185,
          0.7983110836622768,
          0.5581615192962703,
          0.5369631688630577,
          0.5152305632974715,
          0.5287916682953006,
          0.6357767633161414
         ]
        },
        {
         "marker": {
          "size": 10
         },
         "mode": "lines+markers",
         "name": "gbr_usd_7",
         "showlegend": true,
         "type": "scatter",
         "x": [
          1,
          2,
          3,
          4,
          5,
          6,
          7,
          8,
          9,
          10,
          11,
          12
         ],
         "y": [
          1.0401352798821508,
          0.5777162952957844,
          2.2532873224778354,
          2.0910218783457064,
          1.0896392945869005,
          0.7918406837747932,
          0.7364577977227046,
          0.8031660602600049,
          1.039629367999009,
          1.3124272876436889,
          1.2099085742407023,
          1.1957758256954867
         ]
        },
        {
         "marker": {
          "size": 10
         },
         "mode": "lines+markers",
         "name": "chf_usd_7",
         "showlegend": true,
         "type": "scatter",
         "x": [
          1,
          2,
          3,
          4,
          5,
          6,
          7,
          8,
          9,
          10,
          11,
          12
         ],
         "y": [
          6.115452272258324,
          4.707330669379105,
          5.660944811930371,
          33.617797369912694,
          6.279950489167757,
          5.209106399414816,
          17.88231089142656,
          10.458255430161545,
          7.435025143172918,
          26.301343713456603,
          3.010112061994912,
          2.0238149113261885
         ]
        },
        {
         "marker": {
          "size": 10
         },
         "mode": "lines+markers",
         "name": "brl_usd_7",
         "showlegend": true,
         "type": "scatter",
         "x": [
          1,
          2,
          3,
          4,
          5,
          6,
          7,
          8,
          9,
          10,
          11,
          12
         ],
         "y": [
          17.84459028163076,
          4.682065472415888,
          44.33637326592413,
          4.40853738114539,
          55.61474992321505,
          28.424395966026964,
          75.66759950797505,
          9.74879764720242,
          22.58090735966067,
          5.040053284787214,
          5.020693702277261,
          10.859796794036052
         ]
        },
        {
         "marker": {
          "size": 10
         },
         "mode": "lines+markers",
         "name": "idr_usd_7",
         "showlegend": true,
         "type": "scatter",
         "x": [
          1,
          2,
          3,
          4,
          5,
          6,
          7,
          8,
          9,
          10,
          11,
          12
         ],
         "y": [
          0.8399782648590829,
          1.7281058132603213,
          2.65479453327339,
          2.06981667115802,
          3.31980081438928,
          4.78741755547391,
          1.8452594796320405,
          2.2384908139826396,
          3.7659197623469587,
          2.5084623769943595,
          1.9867662573172502,
          1.655183125490514
         ]
        },
        {
         "marker": {
          "size": 10
         },
         "mode": "lines+markers",
         "name": "eur_usd_8",
         "showlegend": true,
         "type": "scatter",
         "x": [
          1,
          2,
          3,
          4,
          5,
          6,
          7,
          8,
          9,
          10,
          11,
          12
         ],
         "y": [
          1.1769052614904807,
          1.185604356771452,
          1.1425521723194885,
          0.8075430815969776,
          0.8627858730045777,
          1.5011356422333086,
          1.061533667877222,
          0.8026197076927885,
          0.9401062142203331,
          3.5110930816560333,
          5.432986471455944,
          7.098693987544512
         ]
        },
        {
         "marker": {
          "size": 10
         },
         "mode": "lines+markers",
         "name": "cny_usd_8",
         "showlegend": true,
         "type": "scatter",
         "x": [
          1,
          2,
          3,
          4,
          5,
          6,
          7,
          8,
          9,
          10,
          11,
          12
         ],
         "y": [
          1.7131261214502855,
          1.068163973678332,
          1.339383339329874,
          1.1952945749821544,
          1.651897610783393,
          2.1187435756687045,
          4.2070619688552435,
          0.8517755324559247,
          1.0014993539115484,
          0.9296056054759249,
          0.8812669986518015,
          0.9777031247800663
         ]
        },
        {
         "marker": {
          "size": 10
         },
         "mode": "lines+markers",
         "name": "inr_usd_8",
         "showlegend": true,
         "type": "scatter",
         "x": [
          1,
          2,
          3,
          4,
          5,
          6,
          7,
          8,
          9,
          10,
          11,
          12
         ],
         "y": [
          50.7435286624951,
          41.29458261384777,
          18.852201203989996,
          20.413509239913378,
          38.25860612945863,
          21.383100670409586,
          25.64825788243846,
          43.34398471549262,
          100.48192697631738,
          167.79398170649355,
          23.79565655401453,
          1274.735594487605
         ]
        },
        {
         "marker": {
          "size": 10
         },
         "mode": "lines+markers",
         "name": "jpy_usd_8",
         "showlegend": true,
         "type": "scatter",
         "x": [
          1,
          2,
          3,
          4,
          5,
          6,
          7,
          8,
          9,
          10,
          11,
          12
         ],
         "y": [
          1.9843641819075095,
          1.5672997954052246,
          1.4506781575803924,
          1.4112403171201107,
          5.049363188783538,
          0.4946444556543175,
          0.5734452620591858,
          0.5757827775112029,
          0.5263992721064091,
          0.5125301995246425,
          0.5244804639167363,
          0.5935808128201274
         ]
        },
        {
         "marker": {
          "size": 10
         },
         "mode": "lines+markers",
         "name": "gbr_usd_8",
         "showlegend": true,
         "type": "scatter",
         "x": [
          1,
          2,
          3,
          4,
          5,
          6,
          7,
          8,
          9,
          10,
          11,
          12
         ],
         "y": [
          6.850384328253582,
          0.8994339772064895,
          0.9064645716709542,
          2.7791863936773935,
          1.9460156498504817,
          0.9495769861494848,
          0.867128085795517,
          0.5857302948807522,
          0.6995319673996586,
          1.0426503595618015,
          1.0592885211927183,
          0.9783198751584745
         ]
        },
        {
         "marker": {
          "size": 10
         },
         "mode": "lines+markers",
         "name": "chf_usd_8",
         "showlegend": true,
         "type": "scatter",
         "x": [
          1,
          2,
          3,
          4,
          5,
          6,
          7,
          8,
          9,
          10,
          11,
          12
         ],
         "y": [
          57.93999975343811,
          9.847011876422462,
          5.55770104792494,
          5.154757225167508,
          33.133011536975445,
          4.257778307052469,
          4.40632736638258,
          3.5349817529391885,
          4.986260608963081,
          12.024908343956037,
          61.04617366368641,
          41.99307397841847
         ]
        },
        {
         "marker": {
          "size": 10
         },
         "mode": "lines+markers",
         "name": "brl_usd_8",
         "showlegend": true,
         "type": "scatter",
         "x": [
          1,
          2,
          3,
          4,
          5,
          6,
          7,
          8,
          9,
          10,
          11,
          12
         ],
         "y": [
          5.480696010013415,
          11.900891544041473,
          3.323042942985461,
          12.076251777253832,
          63.83972068207492,
          5.991513890573766,
          11.182623063242657,
          16.06777490979893,
          96.85627512759305,
          17.890731734703422,
          11.172385022560013,
          25.141494089325203
         ]
        },
        {
         "marker": {
          "size": 10
         },
         "mode": "lines+markers",
         "name": "idr_usd_8",
         "showlegend": true,
         "type": "scatter",
         "x": [
          1,
          2,
          3,
          4,
          5,
          6,
          7,
          8,
          9,
          10,
          11,
          12
         ],
         "y": [
          1.7829180876450232,
          6.059308211874764,
          5.817203682591939,
          4.053866953536475,
          67.95750061241078,
          4.594807711625964,
          3.493918372911206,
          1.9488526657504417,
          1.7087275440410201,
          3.322838576535108,
          3.589735544422151,
          2.758743084025672
         ]
        },
        {
         "marker": {
          "size": 10
         },
         "mode": "lines+markers",
         "name": "eur_usd_9",
         "showlegend": true,
         "type": "scatter",
         "x": [
          1,
          2,
          3,
          4,
          5,
          6,
          7,
          8,
          9,
          10,
          11,
          12
         ],
         "y": [
          29.748245600306515,
          2.3013619577117423,
          24.1336227814658,
          1.7581639941734188,
          0.8872071903037709,
          1.067019707098011,
          3.092042931345619,
          1.8832707474268278,
          1.2190205324815853,
          1.5072305025571178,
          38.34992899547668,
          3.3675597590845943
         ]
        },
        {
         "marker": {
          "size": 10
         },
         "mode": "lines+markers",
         "name": "cny_usd_9",
         "showlegend": true,
         "type": "scatter",
         "x": [
          1,
          2,
          3,
          4,
          5,
          6,
          7,
          8,
          9,
          10,
          11,
          12
         ],
         "y": [
          0.6957003537395904,
          0.7752059279332273,
          1.1026045833118079,
          1.182725762501758,
          1.1006071698110802,
          1.9338121657557874,
          6.177896252780637,
          2.9157689447307007,
          1.0705144528151516,
          1.1454302833523535,
          0.9853400548994248,
          1.022109452551811
         ]
        },
        {
         "marker": {
          "size": 10
         },
         "mode": "lines+markers",
         "name": "inr_usd_9",
         "showlegend": true,
         "type": "scatter",
         "x": [
          1,
          2,
          3,
          4,
          5,
          6,
          7,
          8,
          9,
          10,
          11,
          12
         ],
         "y": [
          11.216599353992287,
          15.357464275640623,
          37.06036678154684,
          88.95768709487619,
          28.79478755977982,
          15.390240435228238,
          31.08554097254125,
          47.382707211810036,
          76.83715988686316,
          20.3649232461813,
          10.271024165960917,
          18.462403019466915
         ]
        },
        {
         "marker": {
          "size": 10
         },
         "mode": "lines+markers",
         "name": "jpy_usd_9",
         "showlegend": true,
         "type": "scatter",
         "x": [
          1,
          2,
          3,
          4,
          5,
          6,
          7,
          8,
          9,
          10,
          11,
          12
         ],
         "y": [
          1.2400914192295343,
          1.051186322062425,
          0.942583461165515,
          0.9811494660248862,
          1.1608445243559566,
          2.079380750918311,
          0.6415869603340136,
          0.6249313920778079,
          0.7436340155389815,
          0.5473910521648561,
          0.5281519159154818,
          0.545232241680046
         ]
        },
        {
         "marker": {
          "size": 10
         },
         "mode": "lines+markers",
         "name": "gbr_usd_9",
         "showlegend": true,
         "type": "scatter",
         "x": [
          1,
          2,
          3,
          4,
          5,
          6,
          7,
          8,
          9,
          10,
          11,
          12
         ],
         "y": [
          6.9736212631011965,
          3.8267284541340474,
          1.7918861117005438,
          1.1654046393330029,
          2.0660323680197794,
          1.468491413360194,
          1.3338416515170408,
          1.0588541282441175,
          0.799028713180142,
          0.8542072933695981,
          1.044465130621351,
          1.0744555238318239
         ]
        },
        {
         "marker": {
          "size": 10
         },
         "mode": "lines+markers",
         "name": "chf_usd_9",
         "showlegend": true,
         "type": "scatter",
         "x": [
          1,
          2,
          3,
          4,
          5,
          6,
          7,
          8,
          9,
          10,
          11,
          12
         ],
         "y": [
          1.6773598703569779,
          3.033619700313496,
          11.969660276668156,
          2.952381283286187,
          3.701699353702344,
          3.1941016929278487,
          1.4303307952491224,
          2.1649982376492396,
          3.666909123471807,
          13.084226778795431,
          3.77395491242615,
          5.7769635021318955
         ]
        },
        {
         "marker": {
          "size": 10
         },
         "mode": "lines+markers",
         "name": "brl_usd_9",
         "showlegend": true,
         "type": "scatter",
         "x": [
          1,
          2,
          3,
          4,
          5,
          6,
          7,
          8,
          9,
          10,
          11,
          12
         ],
         "y": [
          9.725433871205842,
          4.607743012733519,
          14.266010001440469,
          3.452193419354245,
          9.102860072158057,
          25.493251017545276,
          9.866224290685517,
          13.4580951681966,
          11.122104554638168,
          8.308537242653507,
          16.767151997513743,
          13.109041531963213
         ]
        },
        {
         "marker": {
          "size": 10
         },
         "mode": "lines+markers",
         "name": "idr_usd_9",
         "showlegend": true,
         "type": "scatter",
         "x": [
          1,
          2,
          3,
          4,
          5,
          6,
          7,
          8,
          9,
          10,
          11,
          12
         ],
         "y": [
          1.5371888654744816,
          5.0917111774897945,
          1.3545334256371921,
          3.0079535739268928,
          3.424430755078941,
          5.869514149933514,
          5.518590983038309,
          28.509925687692114,
          3.1224036949534697,
          3.1362244835457456,
          5.232969511097729,
          2.8753763035745794
         ]
        },
        {
         "marker": {
          "size": 10
         },
         "mode": "lines+markers",
         "name": "eur_usd_10",
         "showlegend": true,
         "type": "scatter",
         "x": [
          1,
          2,
          3,
          4,
          5,
          6,
          7,
          8,
          9,
          10,
          11,
          12
         ],
         "y": [
          0.6526401128689844,
          1.1700430329420108,
          0.7756412246277332,
          3.3873065115018943,
          0.9416398629088398,
          0.6256482037269385,
          0.5916034624496598,
          0.7583065647359559,
          0.7850679529123267,
          0.7968819076477088,
          0.8568342529778731,
          1.049536990943132
         ]
        },
        {
         "marker": {
          "size": 10
         },
         "mode": "lines+markers",
         "name": "cny_usd_10",
         "showlegend": true,
         "type": "scatter",
         "x": [
          1,
          2,
          3,
          4,
          5,
          6,
          7,
          8,
          9,
          10,
          11,
          12
         ],
         "y": [
          10.6598127128783,
          1.3428388736140995,
          1.2123016593318419,
          1.1475042837656344,
          1.5162300753823015,
          2.5934444457735473,
          1.8044223767882324,
          1.592856625467616,
          2.5405048415658857,
          0.7664076132006876,
          0.7678069266819253,
          0.8121232969369206
         ]
        },
        {
         "marker": {
          "size": 10
         },
         "mode": "lines+markers",
         "name": "inr_usd_10",
         "showlegend": true,
         "type": "scatter",
         "x": [
          1,
          2,
          3,
          4,
          5,
          6,
          7,
          8,
          9,
          10,
          11,
          12
         ],
         "y": [
          21.063423875684876,
          63.6809912280782,
          510.7995423011277,
          null,
          38.35950858966138,
          23.767102225803225,
          16.405687493348314,
          21.593949263555093,
          28.408460281202732,
          45.50704108558258,
          30.5746930130672,
          18.127876862636867
         ]
        },
        {
         "marker": {
          "size": 10
         },
         "mode": "lines+markers",
         "name": "jpy_usd_10",
         "showlegend": true,
         "type": "scatter",
         "x": [
          1,
          2,
          3,
          4,
          5,
          6,
          7,
          8,
          9,
          10,
          11,
          12
         ],
         "y": [
          2.7982075616327484,
          6.1047776209232465,
          0.8944788948766785,
          0.7958455552111343,
          0.7965440349642791,
          0.9225934044969254,
          1.6208990352061141,
          0.9557665591428214,
          0.9778880513136693,
          0.9979243481781307,
          0.6686119597077284,
          0.5991191757109204
         ]
        },
        {
         "marker": {
          "size": 10
         },
         "mode": "lines+markers",
         "name": "gbr_usd_10",
         "showlegend": true,
         "type": "scatter",
         "x": [
          1,
          2,
          3,
          4,
          5,
          6,
          7,
          8,
          9,
          10,
          11,
          12
         ],
         "y": [
          10.029085929027415,
          2.9575301809926473,
          1.6994359945545927,
          0.9773059668736094,
          0.9326851089335867,
          1.332619982952071,
          1.8513152907200245,
          2.0730758067098596,
          3.587370940043226,
          1.8797914835786296,
          1.4810765755763555,
          3.682518168332129
         ]
        },
        {
         "marker": {
          "size": 10
         },
         "mode": "lines+markers",
         "name": "chf_usd_10",
         "showlegend": true,
         "type": "scatter",
         "x": [
          1,
          2,
          3,
          4,
          5,
          6,
          7,
          8,
          9,
          10,
          11,
          12
         ],
         "y": [
          1.3504466094557868,
          1.1302764018191465,
          1.7435688029456713,
          2.7904476184535447,
          4.535007121814812,
          8.512653098865197,
          3.553064281273245,
          6.28630739249405,
          2.258415963809861,
          1.1222909517211106,
          1.3037020033824909,
          1.855328553730045
         ]
        },
        {
         "marker": {
          "size": 10
         },
         "mode": "lines+markers",
         "name": "brl_usd_10",
         "showlegend": true,
         "type": "scatter",
         "x": [
          1,
          2,
          3,
          4,
          5,
          6,
          7,
          8,
          9,
          10,
          11,
          12
         ],
         "y": [
          5.974749430624674,
          6.239638695998941,
          4.819610419650702,
          12.887610177025087,
          5.979344846044423,
          12.315846130241631,
          32.50536977925491,
          13.12349115865432,
          7.591745277651138,
          45.01834852404869,
          12.07697339408746,
          12.720358007954564
         ]
        },
        {
         "marker": {
          "size": 10
         },
         "mode": "lines+markers",
         "name": "idr_usd_10",
         "showlegend": true,
         "type": "scatter",
         "x": [
          1,
          2,
          3,
          4,
          5,
          6,
          7,
          8,
          9,
          10,
          11,
          12
         ],
         "y": [
          1.058332044362021,
          0.8354661592929377,
          1.29049402282569,
          1.2109806930822966,
          1.3387066153134757,
          1.5379734969561787,
          2.0450051271641962,
          5.3550135440255575,
          8.553503028534044,
          10.75963641239205,
          6.124397039464859,
          12.765752256753018
         ]
        }
       ],
       "layout": {
        "template": {
         "data": {
          "bar": [
           {
            "error_x": {
             "color": "#2a3f5f"
            },
            "error_y": {
             "color": "#2a3f5f"
            },
            "marker": {
             "line": {
              "color": "#E5ECF6",
              "width": 0.5
             },
             "pattern": {
              "fillmode": "overlay",
              "size": 10,
              "solidity": 0.2
             }
            },
            "type": "bar"
           }
          ],
          "barpolar": [
           {
            "marker": {
             "line": {
              "color": "#E5ECF6",
              "width": 0.5
             },
             "pattern": {
              "fillmode": "overlay",
              "size": 10,
              "solidity": 0.2
             }
            },
            "type": "barpolar"
           }
          ],
          "carpet": [
           {
            "aaxis": {
             "endlinecolor": "#2a3f5f",
             "gridcolor": "white",
             "linecolor": "white",
             "minorgridcolor": "white",
             "startlinecolor": "#2a3f5f"
            },
            "baxis": {
             "endlinecolor": "#2a3f5f",
             "gridcolor": "white",
             "linecolor": "white",
             "minorgridcolor": "white",
             "startlinecolor": "#2a3f5f"
            },
            "type": "carpet"
           }
          ],
          "choropleth": [
           {
            "colorbar": {
             "outlinewidth": 0,
             "ticks": ""
            },
            "type": "choropleth"
           }
          ],
          "contour": [
           {
            "colorbar": {
             "outlinewidth": 0,
             "ticks": ""
            },
            "colorscale": [
             [
              0,
              "#0d0887"
             ],
             [
              0.1111111111111111,
              "#46039f"
             ],
             [
              0.2222222222222222,
              "#7201a8"
             ],
             [
              0.3333333333333333,
              "#9c179e"
             ],
             [
              0.4444444444444444,
              "#bd3786"
             ],
             [
              0.5555555555555556,
              "#d8576b"
             ],
             [
              0.6666666666666666,
              "#ed7953"
             ],
             [
              0.7777777777777778,
              "#fb9f3a"
             ],
             [
              0.8888888888888888,
              "#fdca26"
             ],
             [
              1,
              "#f0f921"
             ]
            ],
            "type": "contour"
           }
          ],
          "contourcarpet": [
           {
            "colorbar": {
             "outlinewidth": 0,
             "ticks": ""
            },
            "type": "contourcarpet"
           }
          ],
          "heatmap": [
           {
            "colorbar": {
             "outlinewidth": 0,
             "ticks": ""
            },
            "colorscale": [
             [
              0,
              "#0d0887"
             ],
             [
              0.1111111111111111,
              "#46039f"
             ],
             [
              0.2222222222222222,
              "#7201a8"
             ],
             [
              0.3333333333333333,
              "#9c179e"
             ],
             [
              0.4444444444444444,
              "#bd3786"
             ],
             [
              0.5555555555555556,
              "#d8576b"
             ],
             [
              0.6666666666666666,
              "#ed7953"
             ],
             [
              0.7777777777777778,
              "#fb9f3a"
             ],
             [
              0.8888888888888888,
              "#fdca26"
             ],
             [
              1,
              "#f0f921"
             ]
            ],
            "type": "heatmap"
           }
          ],
          "heatmapgl": [
           {
            "colorbar": {
             "outlinewidth": 0,
             "ticks": ""
            },
            "colorscale": [
             [
              0,
              "#0d0887"
             ],
             [
              0.1111111111111111,
              "#46039f"
             ],
             [
              0.2222222222222222,
              "#7201a8"
             ],
             [
              0.3333333333333333,
              "#9c179e"
             ],
             [
              0.4444444444444444,
              "#bd3786"
             ],
             [
              0.5555555555555556,
              "#d8576b"
             ],
             [
              0.6666666666666666,
              "#ed7953"
             ],
             [
              0.7777777777777778,
              "#fb9f3a"
             ],
             [
              0.8888888888888888,
              "#fdca26"
             ],
             [
              1,
              "#f0f921"
             ]
            ],
            "type": "heatmapgl"
           }
          ],
          "histogram": [
           {
            "marker": {
             "pattern": {
              "fillmode": "overlay",
              "size": 10,
              "solidity": 0.2
             }
            },
            "type": "histogram"
           }
          ],
          "histogram2d": [
           {
            "colorbar": {
             "outlinewidth": 0,
             "ticks": ""
            },
            "colorscale": [
             [
              0,
              "#0d0887"
             ],
             [
              0.1111111111111111,
              "#46039f"
             ],
             [
              0.2222222222222222,
              "#7201a8"
             ],
             [
              0.3333333333333333,
              "#9c179e"
             ],
             [
              0.4444444444444444,
              "#bd3786"
             ],
             [
              0.5555555555555556,
              "#d8576b"
             ],
             [
              0.6666666666666666,
              "#ed7953"
             ],
             [
              0.7777777777777778,
              "#fb9f3a"
             ],
             [
              0.8888888888888888,
              "#fdca26"
             ],
             [
              1,
              "#f0f921"
             ]
            ],
            "type": "histogram2d"
           }
          ],
          "histogram2dcontour": [
           {
            "colorbar": {
             "outlinewidth": 0,
             "ticks": ""
            },
            "colorscale": [
             [
              0,
              "#0d0887"
             ],
             [
              0.1111111111111111,
              "#46039f"
             ],
             [
              0.2222222222222222,
              "#7201a8"
             ],
             [
              0.3333333333333333,
              "#9c179e"
             ],
             [
              0.4444444444444444,
              "#bd3786"
             ],
             [
              0.5555555555555556,
              "#d8576b"
             ],
             [
              0.6666666666666666,
              "#ed7953"
             ],
             [
              0.7777777777777778,
              "#fb9f3a"
             ],
             [
              0.8888888888888888,
              "#fdca26"
             ],
             [
              1,
              "#f0f921"
             ]
            ],
            "type": "histogram2dcontour"
           }
          ],
          "mesh3d": [
           {
            "colorbar": {
             "outlinewidth": 0,
             "ticks": ""
            },
            "type": "mesh3d"
           }
          ],
          "parcoords": [
           {
            "line": {
             "colorbar": {
              "outlinewidth": 0,
              "ticks": ""
             }
            },
            "type": "parcoords"
           }
          ],
          "pie": [
           {
            "automargin": true,
            "type": "pie"
           }
          ],
          "scatter": [
           {
            "fillpattern": {
             "fillmode": "overlay",
             "size": 10,
             "solidity": 0.2
            },
            "type": "scatter"
           }
          ],
          "scatter3d": [
           {
            "line": {
             "colorbar": {
              "outlinewidth": 0,
              "ticks": ""
             }
            },
            "marker": {
             "colorbar": {
              "outlinewidth": 0,
              "ticks": ""
             }
            },
            "type": "scatter3d"
           }
          ],
          "scattercarpet": [
           {
            "marker": {
             "colorbar": {
              "outlinewidth": 0,
              "ticks": ""
             }
            },
            "type": "scattercarpet"
           }
          ],
          "scattergeo": [
           {
            "marker": {
             "colorbar": {
              "outlinewidth": 0,
              "ticks": ""
             }
            },
            "type": "scattergeo"
           }
          ],
          "scattergl": [
           {
            "marker": {
             "colorbar": {
              "outlinewidth": 0,
              "ticks": ""
             }
            },
            "type": "scattergl"
           }
          ],
          "scattermapbox": [
           {
            "marker": {
             "colorbar": {
              "outlinewidth": 0,
              "ticks": ""
             }
            },
            "type": "scattermapbox"
           }
          ],
          "scatterpolar": [
           {
            "marker": {
             "colorbar": {
              "outlinewidth": 0,
              "ticks": ""
             }
            },
            "type": "scatterpolar"
           }
          ],
          "scatterpolargl": [
           {
            "marker": {
             "colorbar": {
              "outlinewidth": 0,
              "ticks": ""
             }
            },
            "type": "scatterpolargl"
           }
          ],
          "scatterternary": [
           {
            "marker": {
             "colorbar": {
              "outlinewidth": 0,
              "ticks": ""
             }
            },
            "type": "scatterternary"
           }
          ],
          "surface": [
           {
            "colorbar": {
             "outlinewidth": 0,
             "ticks": ""
            },
            "colorscale": [
             [
              0,
              "#0d0887"
             ],
             [
              0.1111111111111111,
              "#46039f"
             ],
             [
              0.2222222222222222,
              "#7201a8"
             ],
             [
              0.3333333333333333,
              "#9c179e"
             ],
             [
              0.4444444444444444,
              "#bd3786"
             ],
             [
              0.5555555555555556,
              "#d8576b"
             ],
             [
              0.6666666666666666,
              "#ed7953"
             ],
             [
              0.7777777777777778,
              "#fb9f3a"
             ],
             [
              0.8888888888888888,
              "#fdca26"
             ],
             [
              1,
              "#f0f921"
             ]
            ],
            "type": "surface"
           }
          ],
          "table": [
           {
            "cells": {
             "fill": {
              "color": "#EBF0F8"
             },
             "line": {
              "color": "white"
             }
            },
            "header": {
             "fill": {
              "color": "#C8D4E3"
             },
             "line": {
              "color": "white"
             }
            },
            "type": "table"
           }
          ]
         },
         "layout": {
          "annotationdefaults": {
           "arrowcolor": "#2a3f5f",
           "arrowhead": 0,
           "arrowwidth": 1
          },
          "autotypenumbers": "strict",
          "coloraxis": {
           "colorbar": {
            "outlinewidth": 0,
            "ticks": ""
           }
          },
          "colorscale": {
           "diverging": [
            [
             0,
             "#8e0152"
            ],
            [
             0.1,
             "#c51b7d"
            ],
            [
             0.2,
             "#de77ae"
            ],
            [
             0.3,
             "#f1b6da"
            ],
            [
             0.4,
             "#fde0ef"
            ],
            [
             0.5,
             "#f7f7f7"
            ],
            [
             0.6,
             "#e6f5d0"
            ],
            [
             0.7,
             "#b8e186"
            ],
            [
             0.8,
             "#7fbc41"
            ],
            [
             0.9,
             "#4d9221"
            ],
            [
             1,
             "#276419"
            ]
           ],
           "sequential": [
            [
             0,
             "#0d0887"
            ],
            [
             0.1111111111111111,
             "#46039f"
            ],
            [
             0.2222222222222222,
             "#7201a8"
            ],
            [
             0.3333333333333333,
             "#9c179e"
            ],
            [
             0.4444444444444444,
             "#bd3786"
            ],
            [
             0.5555555555555556,
             "#d8576b"
            ],
            [
             0.6666666666666666,
             "#ed7953"
            ],
            [
             0.7777777777777778,
             "#fb9f3a"
            ],
            [
             0.8888888888888888,
             "#fdca26"
            ],
            [
             1,
             "#f0f921"
            ]
           ],
           "sequentialminus": [
            [
             0,
             "#0d0887"
            ],
            [
             0.1111111111111111,
             "#46039f"
            ],
            [
             0.2222222222222222,
             "#7201a8"
            ],
            [
             0.3333333333333333,
             "#9c179e"
            ],
            [
             0.4444444444444444,
             "#bd3786"
            ],
            [
             0.5555555555555556,
             "#d8576b"
            ],
            [
             0.6666666666666666,
             "#ed7953"
            ],
            [
             0.7777777777777778,
             "#fb9f3a"
            ],
            [
             0.8888888888888888,
             "#fdca26"
            ],
            [
             1,
             "#f0f921"
            ]
           ]
          },
          "colorway": [
           "#636efa",
           "#EF553B",
           "#00cc96",
           "#ab63fa",
           "#FFA15A",
           "#19d3f3",
           "#FF6692",
           "#B6E880",
           "#FF97FF",
           "#FECB52"
          ],
          "font": {
           "color": "#2a3f5f"
          },
          "geo": {
           "bgcolor": "white",
           "lakecolor": "white",
           "landcolor": "#E5ECF6",
           "showlakes": true,
           "showland": true,
           "subunitcolor": "white"
          },
          "hoverlabel": {
           "align": "left"
          },
          "hovermode": "closest",
          "mapbox": {
           "style": "light"
          },
          "paper_bgcolor": "white",
          "plot_bgcolor": "#E5ECF6",
          "polar": {
           "angularaxis": {
            "gridcolor": "white",
            "linecolor": "white",
            "ticks": ""
           },
           "bgcolor": "#E5ECF6",
           "radialaxis": {
            "gridcolor": "white",
            "linecolor": "white",
            "ticks": ""
           }
          },
          "scene": {
           "xaxis": {
            "backgroundcolor": "#E5ECF6",
            "gridcolor": "white",
            "gridwidth": 2,
            "linecolor": "white",
            "showbackground": true,
            "ticks": "",
            "zerolinecolor": "white"
           },
           "yaxis": {
            "backgroundcolor": "#E5ECF6",
            "gridcolor": "white",
            "gridwidth": 2,
            "linecolor": "white",
            "showbackground": true,
            "ticks": "",
            "zerolinecolor": "white"
           },
           "zaxis": {
            "backgroundcolor": "#E5ECF6",
            "gridcolor": "white",
            "gridwidth": 2,
            "linecolor": "white",
            "showbackground": true,
            "ticks": "",
            "zerolinecolor": "white"
           }
          },
          "shapedefaults": {
           "line": {
            "color": "#2a3f5f"
           }
          },
          "ternary": {
           "aaxis": {
            "gridcolor": "white",
            "linecolor": "white",
            "ticks": ""
           },
           "baxis": {
            "gridcolor": "white",
            "linecolor": "white",
            "ticks": ""
           },
           "bgcolor": "#E5ECF6",
           "caxis": {
            "gridcolor": "white",
            "linecolor": "white",
            "ticks": ""
           }
          },
          "title": {
           "x": 0.05
          },
          "xaxis": {
           "automargin": true,
           "gridcolor": "white",
           "linecolor": "white",
           "ticks": "",
           "title": {
            "standoff": 15
           },
           "zerolinecolor": "white",
           "zerolinewidth": 2
          },
          "yaxis": {
           "automargin": true,
           "gridcolor": "white",
           "linecolor": "white",
           "ticks": "",
           "title": {
            "standoff": 15
           },
           "zerolinecolor": "white",
           "zerolinewidth": 2
          }
         }
        },
        "title": {
         "text": "Отношение MAE модели к MAE наивного прогноза"
        },
        "xaxis": {
         "title": {
          "text": "Временной горизонт прогноза"
         }
        },
        "yaxis": {
         "title": {
          "text": "Значение метрики"
         }
        }
       }
      }
     },
     "metadata": {},
     "output_type": "display_data"
    }
   ],
   "source": [
    "relative_cross_val_score_2 = relative_cross_val_score_encoder_decoder(df_add_lags, EncoderDecoderForecaster)\n",
    "\n",
    "fig = go.Figure()\n",
    "\n",
    "metrics_4 = pd.DataFrame()\n",
    "\n",
    "for feat in df_add_lags.columns:\n",
    "\n",
    "    line = relative_cross_val_score_2[feat]\n",
    "\n",
    "    metrics_4.loc[0, feat] = sum(line < 1)\n",
    "\n",
    "    y = np.arange(1, len(line) + 1)\n",
    "\n",
    "    fig.add_trace(go.Scatter(x=y, y=line, mode='lines+markers', name=feat, showlegend=True, marker=dict(size=10)))\n",
    "\n",
    "fig.update_layout(\n",
    "    title='Отношение MAE модели к MAE наивного прогноза',\n",
    "    xaxis_title='Временной горизонт прогноза',\n",
    "    yaxis_title='Значение метрики'\n",
    ")\n",
    "\n",
    "fig.show()"
   ]
  },
  {
   "cell_type": "code",
   "execution_count": 40,
   "metadata": {},
   "outputs": [
    {
     "data": {
      "text/html": [
       "<div>\n",
       "<style scoped>\n",
       "    .dataframe tbody tr th:only-of-type {\n",
       "        vertical-align: middle;\n",
       "    }\n",
       "\n",
       "    .dataframe tbody tr th {\n",
       "        vertical-align: top;\n",
       "    }\n",
       "\n",
       "    .dataframe thead th {\n",
       "        text-align: right;\n",
       "    }\n",
       "</style>\n",
       "<table border=\"1\" class=\"dataframe\">\n",
       "  <thead>\n",
       "    <tr style=\"text-align: right;\">\n",
       "      <th></th>\n",
       "      <th>eur_usd</th>\n",
       "      <th>cny_usd</th>\n",
       "      <th>inr_usd</th>\n",
       "      <th>jpy_usd</th>\n",
       "      <th>gbr_usd</th>\n",
       "      <th>chf_usd</th>\n",
       "      <th>brl_usd</th>\n",
       "      <th>idr_usd</th>\n",
       "    </tr>\n",
       "  </thead>\n",
       "  <tbody>\n",
       "    <tr>\n",
       "      <th>0</th>\n",
       "      <td>11.0</td>\n",
       "      <td>1.0</td>\n",
       "      <td>5.0</td>\n",
       "      <td>9.0</td>\n",
       "      <td>0.0</td>\n",
       "      <td>11.0</td>\n",
       "      <td>6.0</td>\n",
       "      <td>0.0</td>\n",
       "    </tr>\n",
       "  </tbody>\n",
       "</table>\n",
       "</div>"
      ],
      "text/plain": [
       "   eur_usd  cny_usd  inr_usd  jpy_usd  gbr_usd  chf_usd  brl_usd  idr_usd\n",
       "0     11.0      1.0      5.0      9.0      0.0     11.0      6.0      0.0"
      ]
     },
     "metadata": {},
     "output_type": "display_data"
    },
    {
     "data": {
      "text/plain": [
       "'sum: 43.0'"
      ]
     },
     "metadata": {},
     "output_type": "display_data"
    },
    {
     "data": {
      "text/html": [
       "<div>\n",
       "<style scoped>\n",
       "    .dataframe tbody tr th:only-of-type {\n",
       "        vertical-align: middle;\n",
       "    }\n",
       "\n",
       "    .dataframe tbody tr th {\n",
       "        vertical-align: top;\n",
       "    }\n",
       "\n",
       "    .dataframe thead th {\n",
       "        text-align: right;\n",
       "    }\n",
       "</style>\n",
       "<table border=\"1\" class=\"dataframe\">\n",
       "  <thead>\n",
       "    <tr style=\"text-align: right;\">\n",
       "      <th></th>\n",
       "      <th>eur_usd</th>\n",
       "      <th>cny_usd</th>\n",
       "      <th>inr_usd</th>\n",
       "      <th>jpy_usd</th>\n",
       "      <th>gbr_usd</th>\n",
       "      <th>chf_usd</th>\n",
       "      <th>brl_usd</th>\n",
       "      <th>idr_usd</th>\n",
       "    </tr>\n",
       "  </thead>\n",
       "  <tbody>\n",
       "    <tr>\n",
       "      <th>0</th>\n",
       "      <td>3.0</td>\n",
       "      <td>1.0</td>\n",
       "      <td>0.0</td>\n",
       "      <td>0.0</td>\n",
       "      <td>4.0</td>\n",
       "      <td>3.0</td>\n",
       "      <td>0.0</td>\n",
       "      <td>0.0</td>\n",
       "    </tr>\n",
       "  </tbody>\n",
       "</table>\n",
       "</div>"
      ],
      "text/plain": [
       "   eur_usd  cny_usd  inr_usd  jpy_usd  gbr_usd  chf_usd  brl_usd  idr_usd\n",
       "0      3.0      1.0      0.0      0.0      4.0      3.0      0.0      0.0"
      ]
     },
     "metadata": {},
     "output_type": "display_data"
    },
    {
     "data": {
      "text/plain": [
       "'sum: 11.0'"
      ]
     },
     "metadata": {},
     "output_type": "display_data"
    }
   ],
   "source": [
    "display(metrics_3, f'sum: {metrics_3.sum(axis=1).values[0]}')\n",
    "display(metrics_4[currency], f'sum: {metrics_4[currency].sum(axis=1).values[0]}')"
   ]
  },
  {
   "attachments": {},
   "cell_type": "markdown",
   "metadata": {},
   "source": [
    "> ### **<div style='color:cyan'> DFA (Dynamic Factor Analysis) </div>**\n",
    ">\n",
    "> #### Этот метод используется для моделирования изменений нескольких временных рядов с помощью меньшего числа ненаблюдаемых факторов. Основная идея DFA заключается в том, что несколько временных рядов можно описать с помощью небольшого числа общих факторов, которые захватывают основные движущие силы или тенденции данных, вместе с уникальными шумами или ошибками для каждого временного ряда. Данная модель работает конкретно для временных рядов\n",
    "\n"
   ]
  },
  {
   "cell_type": "code",
   "execution_count": 41,
   "metadata": {},
   "outputs": [],
   "source": [
    "import statsmodels.api as sm\n",
    "from copy import copy\n",
    "\n",
    "def fit_pca_dfa(self):\n",
    "\n",
    "    dfa = sm.tsa.DynamicFactor(self.data[currency].values, factor_order=2, k_factors=2, enforce_stationarity=False)\n",
    "    dfa_res = dfa.fit(disp=False)\n",
    "\n",
    "    self.is_pca_fitted = True\n",
    "\n",
    "    return pd.DataFrame(dfa_res.factors['filtered'].T)\n",
    "\n",
    "EncoderDecoderForecasterDFA = copy(EncoderDecoderForecaster)\n",
    "PartialForecasterDFA = copy(PartialForecaster)\n",
    "\n",
    "EncoderDecoderForecasterDFA.fit_pca = fit_pca_dfa\n",
    "PartialForecasterDFA.fit_pca = fit_pca_dfa"
   ]
  },
  {
   "cell_type": "code",
   "execution_count": 42,
   "metadata": {},
   "outputs": [
    {
     "data": {
      "application/vnd.plotly.v1+json": {
       "config": {
        "plotlyServerURL": "https://plot.ly"
       },
       "data": [
        {
         "marker": {
          "size": 10
         },
         "mode": "lines+markers",
         "name": "eur_usd",
         "showlegend": true,
         "type": "scatter",
         "x": [
          1,
          2,
          3,
          4,
          5,
          6,
          7,
          8,
          9,
          10,
          11,
          12
         ],
         "y": [
          0.6430757746048609,
          0.6345386667386874,
          0.6694954492131386,
          1.585750423152766,
          0.7131030796363312,
          0.7755187702807852,
          0.7792028679253741,
          0.8029791734402624,
          0.812361459991337,
          0.8134121338952327,
          0.8206354057383883,
          0.8506015660772667
         ]
        },
        {
         "marker": {
          "size": 10
         },
         "mode": "lines+markers",
         "name": "cny_usd",
         "showlegend": true,
         "type": "scatter",
         "x": [
          1,
          2,
          3,
          4,
          5,
          6,
          7,
          8,
          9,
          10,
          11,
          12
         ],
         "y": [
          5.028889129843885,
          1.3729080629048056,
          1.1637789165604495,
          0.8521292542044626,
          0.7932846024630048,
          5.620739384241321,
          4.592281876051576,
          1.5540140176262192,
          0.9020597692902239,
          0.5098080985186306,
          0.5123646702941502,
          0.509438128836172
         ]
        },
        {
         "marker": {
          "size": 10
         },
         "mode": "lines+markers",
         "name": "inr_usd",
         "showlegend": true,
         "type": "scatter",
         "x": [
          1,
          2,
          3,
          4,
          5,
          6,
          7,
          8,
          9,
          10,
          11,
          12
         ],
         "y": [
          2.2039914483325216,
          129.9689024441325,
          49.15870851016958,
          null,
          54.95016713305387,
          4.355936861298928,
          3.709606609363331,
          6.340230227700233,
          9.282709563132917,
          9.954367899363193,
          5.39025693449947,
          4.2762370120181465
         ]
        },
        {
         "marker": {
          "size": 10
         },
         "mode": "lines+markers",
         "name": "jpy_usd",
         "showlegend": true,
         "type": "scatter",
         "x": [
          1,
          2,
          3,
          4,
          5,
          6,
          7,
          8,
          9,
          10,
          11,
          12
         ],
         "y": [
          1.0247526937128935,
          0.9731974139289977,
          1.0699469187255193,
          1.0129450374495357,
          0.9320016224516405,
          0.9750004556173536,
          1.2327714287150513,
          0.7971277161337976,
          0.790302354537859,
          0.7466684452853127,
          0.70056322770039,
          0.6980371176267085
         ]
        },
        {
         "marker": {
          "size": 10
         },
         "mode": "lines+markers",
         "name": "gbr_usd",
         "showlegend": true,
         "type": "scatter",
         "x": [
          1,
          2,
          3,
          4,
          5,
          6,
          7,
          8,
          9,
          10,
          11,
          12
         ],
         "y": [
          1.647430594409504,
          0.654718202365481,
          0.6366588611586506,
          0.7211581501135794,
          0.7593250787079552,
          0.7405555000927349,
          0.6595102669763387,
          0.9070419402774613,
          1.2705822862431901,
          0.5796466929251474,
          0.6361192233122721,
          0.8391952548535753
         ]
        },
        {
         "marker": {
          "size": 10
         },
         "mode": "lines+markers",
         "name": "chf_usd",
         "showlegend": true,
         "type": "scatter",
         "x": [
          1,
          2,
          3,
          4,
          5,
          6,
          7,
          8,
          9,
          10,
          11,
          12
         ],
         "y": [
          0.9123470142653666,
          0.6760774399733585,
          0.6857599652814269,
          1.0250272502346325,
          0.7408534490851432,
          0.767682966150473,
          0.7755879008450927,
          0.7804027535548063,
          0.8290402530898403,
          0.8434967825439229,
          0.8043924503655875,
          0.6969732503209344
         ]
        },
        {
         "marker": {
          "size": 10
         },
         "mode": "lines+markers",
         "name": "brl_usd",
         "showlegend": true,
         "type": "scatter",
         "x": [
          1,
          2,
          3,
          4,
          5,
          6,
          7,
          8,
          9,
          10,
          11,
          12
         ],
         "y": [
          0.9708246593147559,
          1.4978036780484938,
          1.8697928606785421,
          3.0907887904940288,
          1.8516504169679697,
          2.7885507235671003,
          4.584208423087008,
          3.513198214678267,
          2.323706641904689,
          8.992369511970246,
          2.268161928032726,
          3.3542605229577913
         ]
        },
        {
         "marker": {
          "size": 10
         },
         "mode": "lines+markers",
         "name": "idr_usd",
         "showlegend": true,
         "type": "scatter",
         "x": [
          1,
          2,
          3,
          4,
          5,
          6,
          7,
          8,
          9,
          10,
          11,
          12
         ],
         "y": [
          2.639641970583463,
          108.36952284018419,
          1.3696342940959465,
          0.7605481593907569,
          0.6852856941472344,
          0.6028603019987323,
          0.6332608463750162,
          0.7433337649221828,
          1.1784955438956763,
          1.1351302175123352,
          1.6457401514603711,
          1.485671812904391
         ]
        }
       ],
       "layout": {
        "template": {
         "data": {
          "bar": [
           {
            "error_x": {
             "color": "#2a3f5f"
            },
            "error_y": {
             "color": "#2a3f5f"
            },
            "marker": {
             "line": {
              "color": "#E5ECF6",
              "width": 0.5
             },
             "pattern": {
              "fillmode": "overlay",
              "size": 10,
              "solidity": 0.2
             }
            },
            "type": "bar"
           }
          ],
          "barpolar": [
           {
            "marker": {
             "line": {
              "color": "#E5ECF6",
              "width": 0.5
             },
             "pattern": {
              "fillmode": "overlay",
              "size": 10,
              "solidity": 0.2
             }
            },
            "type": "barpolar"
           }
          ],
          "carpet": [
           {
            "aaxis": {
             "endlinecolor": "#2a3f5f",
             "gridcolor": "white",
             "linecolor": "white",
             "minorgridcolor": "white",
             "startlinecolor": "#2a3f5f"
            },
            "baxis": {
             "endlinecolor": "#2a3f5f",
             "gridcolor": "white",
             "linecolor": "white",
             "minorgridcolor": "white",
             "startlinecolor": "#2a3f5f"
            },
            "type": "carpet"
           }
          ],
          "choropleth": [
           {
            "colorbar": {
             "outlinewidth": 0,
             "ticks": ""
            },
            "type": "choropleth"
           }
          ],
          "contour": [
           {
            "colorbar": {
             "outlinewidth": 0,
             "ticks": ""
            },
            "colorscale": [
             [
              0,
              "#0d0887"
             ],
             [
              0.1111111111111111,
              "#46039f"
             ],
             [
              0.2222222222222222,
              "#7201a8"
             ],
             [
              0.3333333333333333,
              "#9c179e"
             ],
             [
              0.4444444444444444,
              "#bd3786"
             ],
             [
              0.5555555555555556,
              "#d8576b"
             ],
             [
              0.6666666666666666,
              "#ed7953"
             ],
             [
              0.7777777777777778,
              "#fb9f3a"
             ],
             [
              0.8888888888888888,
              "#fdca26"
             ],
             [
              1,
              "#f0f921"
             ]
            ],
            "type": "contour"
           }
          ],
          "contourcarpet": [
           {
            "colorbar": {
             "outlinewidth": 0,
             "ticks": ""
            },
            "type": "contourcarpet"
           }
          ],
          "heatmap": [
           {
            "colorbar": {
             "outlinewidth": 0,
             "ticks": ""
            },
            "colorscale": [
             [
              0,
              "#0d0887"
             ],
             [
              0.1111111111111111,
              "#46039f"
             ],
             [
              0.2222222222222222,
              "#7201a8"
             ],
             [
              0.3333333333333333,
              "#9c179e"
             ],
             [
              0.4444444444444444,
              "#bd3786"
             ],
             [
              0.5555555555555556,
              "#d8576b"
             ],
             [
              0.6666666666666666,
              "#ed7953"
             ],
             [
              0.7777777777777778,
              "#fb9f3a"
             ],
             [
              0.8888888888888888,
              "#fdca26"
             ],
             [
              1,
              "#f0f921"
             ]
            ],
            "type": "heatmap"
           }
          ],
          "heatmapgl": [
           {
            "colorbar": {
             "outlinewidth": 0,
             "ticks": ""
            },
            "colorscale": [
             [
              0,
              "#0d0887"
             ],
             [
              0.1111111111111111,
              "#46039f"
             ],
             [
              0.2222222222222222,
              "#7201a8"
             ],
             [
              0.3333333333333333,
              "#9c179e"
             ],
             [
              0.4444444444444444,
              "#bd3786"
             ],
             [
              0.5555555555555556,
              "#d8576b"
             ],
             [
              0.6666666666666666,
              "#ed7953"
             ],
             [
              0.7777777777777778,
              "#fb9f3a"
             ],
             [
              0.8888888888888888,
              "#fdca26"
             ],
             [
              1,
              "#f0f921"
             ]
            ],
            "type": "heatmapgl"
           }
          ],
          "histogram": [
           {
            "marker": {
             "pattern": {
              "fillmode": "overlay",
              "size": 10,
              "solidity": 0.2
             }
            },
            "type": "histogram"
           }
          ],
          "histogram2d": [
           {
            "colorbar": {
             "outlinewidth": 0,
             "ticks": ""
            },
            "colorscale": [
             [
              0,
              "#0d0887"
             ],
             [
              0.1111111111111111,
              "#46039f"
             ],
             [
              0.2222222222222222,
              "#7201a8"
             ],
             [
              0.3333333333333333,
              "#9c179e"
             ],
             [
              0.4444444444444444,
              "#bd3786"
             ],
             [
              0.5555555555555556,
              "#d8576b"
             ],
             [
              0.6666666666666666,
              "#ed7953"
             ],
             [
              0.7777777777777778,
              "#fb9f3a"
             ],
             [
              0.8888888888888888,
              "#fdca26"
             ],
             [
              1,
              "#f0f921"
             ]
            ],
            "type": "histogram2d"
           }
          ],
          "histogram2dcontour": [
           {
            "colorbar": {
             "outlinewidth": 0,
             "ticks": ""
            },
            "colorscale": [
             [
              0,
              "#0d0887"
             ],
             [
              0.1111111111111111,
              "#46039f"
             ],
             [
              0.2222222222222222,
              "#7201a8"
             ],
             [
              0.3333333333333333,
              "#9c179e"
             ],
             [
              0.4444444444444444,
              "#bd3786"
             ],
             [
              0.5555555555555556,
              "#d8576b"
             ],
             [
              0.6666666666666666,
              "#ed7953"
             ],
             [
              0.7777777777777778,
              "#fb9f3a"
             ],
             [
              0.8888888888888888,
              "#fdca26"
             ],
             [
              1,
              "#f0f921"
             ]
            ],
            "type": "histogram2dcontour"
           }
          ],
          "mesh3d": [
           {
            "colorbar": {
             "outlinewidth": 0,
             "ticks": ""
            },
            "type": "mesh3d"
           }
          ],
          "parcoords": [
           {
            "line": {
             "colorbar": {
              "outlinewidth": 0,
              "ticks": ""
             }
            },
            "type": "parcoords"
           }
          ],
          "pie": [
           {
            "automargin": true,
            "type": "pie"
           }
          ],
          "scatter": [
           {
            "fillpattern": {
             "fillmode": "overlay",
             "size": 10,
             "solidity": 0.2
            },
            "type": "scatter"
           }
          ],
          "scatter3d": [
           {
            "line": {
             "colorbar": {
              "outlinewidth": 0,
              "ticks": ""
             }
            },
            "marker": {
             "colorbar": {
              "outlinewidth": 0,
              "ticks": ""
             }
            },
            "type": "scatter3d"
           }
          ],
          "scattercarpet": [
           {
            "marker": {
             "colorbar": {
              "outlinewidth": 0,
              "ticks": ""
             }
            },
            "type": "scattercarpet"
           }
          ],
          "scattergeo": [
           {
            "marker": {
             "colorbar": {
              "outlinewidth": 0,
              "ticks": ""
             }
            },
            "type": "scattergeo"
           }
          ],
          "scattergl": [
           {
            "marker": {
             "colorbar": {
              "outlinewidth": 0,
              "ticks": ""
             }
            },
            "type": "scattergl"
           }
          ],
          "scattermapbox": [
           {
            "marker": {
             "colorbar": {
              "outlinewidth": 0,
              "ticks": ""
             }
            },
            "type": "scattermapbox"
           }
          ],
          "scatterpolar": [
           {
            "marker": {
             "colorbar": {
              "outlinewidth": 0,
              "ticks": ""
             }
            },
            "type": "scatterpolar"
           }
          ],
          "scatterpolargl": [
           {
            "marker": {
             "colorbar": {
              "outlinewidth": 0,
              "ticks": ""
             }
            },
            "type": "scatterpolargl"
           }
          ],
          "scatterternary": [
           {
            "marker": {
             "colorbar": {
              "outlinewidth": 0,
              "ticks": ""
             }
            },
            "type": "scatterternary"
           }
          ],
          "surface": [
           {
            "colorbar": {
             "outlinewidth": 0,
             "ticks": ""
            },
            "colorscale": [
             [
              0,
              "#0d0887"
             ],
             [
              0.1111111111111111,
              "#46039f"
             ],
             [
              0.2222222222222222,
              "#7201a8"
             ],
             [
              0.3333333333333333,
              "#9c179e"
             ],
             [
              0.4444444444444444,
              "#bd3786"
             ],
             [
              0.5555555555555556,
              "#d8576b"
             ],
             [
              0.6666666666666666,
              "#ed7953"
             ],
             [
              0.7777777777777778,
              "#fb9f3a"
             ],
             [
              0.8888888888888888,
              "#fdca26"
             ],
             [
              1,
              "#f0f921"
             ]
            ],
            "type": "surface"
           }
          ],
          "table": [
           {
            "cells": {
             "fill": {
              "color": "#EBF0F8"
             },
             "line": {
              "color": "white"
             }
            },
            "header": {
             "fill": {
              "color": "#C8D4E3"
             },
             "line": {
              "color": "white"
             }
            },
            "type": "table"
           }
          ]
         },
         "layout": {
          "annotationdefaults": {
           "arrowcolor": "#2a3f5f",
           "arrowhead": 0,
           "arrowwidth": 1
          },
          "autotypenumbers": "strict",
          "coloraxis": {
           "colorbar": {
            "outlinewidth": 0,
            "ticks": ""
           }
          },
          "colorscale": {
           "diverging": [
            [
             0,
             "#8e0152"
            ],
            [
             0.1,
             "#c51b7d"
            ],
            [
             0.2,
             "#de77ae"
            ],
            [
             0.3,
             "#f1b6da"
            ],
            [
             0.4,
             "#fde0ef"
            ],
            [
             0.5,
             "#f7f7f7"
            ],
            [
             0.6,
             "#e6f5d0"
            ],
            [
             0.7,
             "#b8e186"
            ],
            [
             0.8,
             "#7fbc41"
            ],
            [
             0.9,
             "#4d9221"
            ],
            [
             1,
             "#276419"
            ]
           ],
           "sequential": [
            [
             0,
             "#0d0887"
            ],
            [
             0.1111111111111111,
             "#46039f"
            ],
            [
             0.2222222222222222,
             "#7201a8"
            ],
            [
             0.3333333333333333,
             "#9c179e"
            ],
            [
             0.4444444444444444,
             "#bd3786"
            ],
            [
             0.5555555555555556,
             "#d8576b"
            ],
            [
             0.6666666666666666,
             "#ed7953"
            ],
            [
             0.7777777777777778,
             "#fb9f3a"
            ],
            [
             0.8888888888888888,
             "#fdca26"
            ],
            [
             1,
             "#f0f921"
            ]
           ],
           "sequentialminus": [
            [
             0,
             "#0d0887"
            ],
            [
             0.1111111111111111,
             "#46039f"
            ],
            [
             0.2222222222222222,
             "#7201a8"
            ],
            [
             0.3333333333333333,
             "#9c179e"
            ],
            [
             0.4444444444444444,
             "#bd3786"
            ],
            [
             0.5555555555555556,
             "#d8576b"
            ],
            [
             0.6666666666666666,
             "#ed7953"
            ],
            [
             0.7777777777777778,
             "#fb9f3a"
            ],
            [
             0.8888888888888888,
             "#fdca26"
            ],
            [
             1,
             "#f0f921"
            ]
           ]
          },
          "colorway": [
           "#636efa",
           "#EF553B",
           "#00cc96",
           "#ab63fa",
           "#FFA15A",
           "#19d3f3",
           "#FF6692",
           "#B6E880",
           "#FF97FF",
           "#FECB52"
          ],
          "font": {
           "color": "#2a3f5f"
          },
          "geo": {
           "bgcolor": "white",
           "lakecolor": "white",
           "landcolor": "#E5ECF6",
           "showlakes": true,
           "showland": true,
           "subunitcolor": "white"
          },
          "hoverlabel": {
           "align": "left"
          },
          "hovermode": "closest",
          "mapbox": {
           "style": "light"
          },
          "paper_bgcolor": "white",
          "plot_bgcolor": "#E5ECF6",
          "polar": {
           "angularaxis": {
            "gridcolor": "white",
            "linecolor": "white",
            "ticks": ""
           },
           "bgcolor": "#E5ECF6",
           "radialaxis": {
            "gridcolor": "white",
            "linecolor": "white",
            "ticks": ""
           }
          },
          "scene": {
           "xaxis": {
            "backgroundcolor": "#E5ECF6",
            "gridcolor": "white",
            "gridwidth": 2,
            "linecolor": "white",
            "showbackground": true,
            "ticks": "",
            "zerolinecolor": "white"
           },
           "yaxis": {
            "backgroundcolor": "#E5ECF6",
            "gridcolor": "white",
            "gridwidth": 2,
            "linecolor": "white",
            "showbackground": true,
            "ticks": "",
            "zerolinecolor": "white"
           },
           "zaxis": {
            "backgroundcolor": "#E5ECF6",
            "gridcolor": "white",
            "gridwidth": 2,
            "linecolor": "white",
            "showbackground": true,
            "ticks": "",
            "zerolinecolor": "white"
           }
          },
          "shapedefaults": {
           "line": {
            "color": "#2a3f5f"
           }
          },
          "ternary": {
           "aaxis": {
            "gridcolor": "white",
            "linecolor": "white",
            "ticks": ""
           },
           "baxis": {
            "gridcolor": "white",
            "linecolor": "white",
            "ticks": ""
           },
           "bgcolor": "#E5ECF6",
           "caxis": {
            "gridcolor": "white",
            "linecolor": "white",
            "ticks": ""
           }
          },
          "title": {
           "x": 0.05
          },
          "xaxis": {
           "automargin": true,
           "gridcolor": "white",
           "linecolor": "white",
           "ticks": "",
           "title": {
            "standoff": 15
           },
           "zerolinecolor": "white",
           "zerolinewidth": 2
          },
          "yaxis": {
           "automargin": true,
           "gridcolor": "white",
           "linecolor": "white",
           "ticks": "",
           "title": {
            "standoff": 15
           },
           "zerolinecolor": "white",
           "zerolinewidth": 2
          }
         }
        },
        "title": {
         "text": "Отношение MAE модели к MAE наивного прогноза"
        },
        "xaxis": {
         "title": {
          "text": "Временной горизонт прогноза"
         }
        },
        "yaxis": {
         "title": {
          "text": "Значение метрики"
         }
        }
       }
      }
     },
     "metadata": {},
     "output_type": "display_data"
    }
   ],
   "source": [
    "fig = go.Figure()\n",
    "\n",
    "metrics_5 = pd.DataFrame()\n",
    "\n",
    "for cur in currency:\n",
    "\n",
    "    line = relative_score_partial(df[currency], cur, PartialForecasterDFA)\n",
    "    y = np.arange(1, len(line) + 1)\n",
    "\n",
    "    metrics_5.loc[0, cur] = sum(line < 1)\n",
    "\n",
    "    fig.add_trace(go.Scatter(x=y, y=line, mode='lines+markers', name=cur, showlegend=True, marker=dict(size=10)))\n",
    "\n",
    "fig.update_layout(\n",
    "    title='Отношение MAE модели к MAE наивного прогноза',\n",
    "    xaxis_title='Временной горизонт прогноза',\n",
    "    yaxis_title='Значение метрики'\n",
    ")\n",
    "\n",
    "fig.show()\n"
   ]
  },
  {
   "cell_type": "code",
   "execution_count": 43,
   "metadata": {},
   "outputs": [
    {
     "data": {
      "application/vnd.plotly.v1+json": {
       "config": {
        "plotlyServerURL": "https://plot.ly"
       },
       "data": [
        {
         "marker": {
          "size": 10
         },
         "mode": "lines+markers",
         "name": "brent",
         "showlegend": true,
         "type": "scatter",
         "x": [
          1,
          2,
          3,
          4,
          5,
          6,
          7,
          8,
          9,
          10,
          11,
          12
         ],
         "y": [
          1.4917061617125744,
          24.609050695259093,
          1.500253557941956,
          2.1956335161065645,
          49.97553872514737,
          1.5245686181903493,
          1.4379305099680224,
          1.6135355096169692,
          1.431744729448004,
          1.5021910906037497,
          1.0835603160706875,
          1.3658382670207936
         ]
        },
        {
         "marker": {
          "size": 10
         },
         "mode": "lines+markers",
         "name": "gas",
         "showlegend": true,
         "type": "scatter",
         "x": [
          1,
          2,
          3,
          4,
          5,
          6,
          7,
          8,
          9,
          10,
          11,
          12
         ],
         "y": [
          0.9087584017521465,
          1.0657986972391507,
          2.8472529359103307,
          1.832534902665845,
          1.2091757312672524,
          1.1627552346308587,
          1.1426130936503125,
          1.0786007170061678,
          1.1384074987383248,
          1.1835925769037807,
          1.1375369692556605,
          0.9514828593774322
         ]
        },
        {
         "marker": {
          "size": 10
         },
         "mode": "lines+markers",
         "name": "eur_usd",
         "showlegend": true,
         "type": "scatter",
         "x": [
          1,
          2,
          3,
          4,
          5,
          6,
          7,
          8,
          9,
          10,
          11,
          12
         ],
         "y": [
          3.5997806999636515,
          1.2772125936318517,
          1.0516737113495214,
          3.695280247070535,
          0.7401253290476261,
          0.7633551586593076,
          0.7220687031035445,
          0.8317683579767756,
          0.8830068205417794,
          0.8369067941641484,
          0.811996284495321,
          0.8913170514034089
         ]
        },
        {
         "marker": {
          "size": 10
         },
         "mode": "lines+markers",
         "name": "cny_usd",
         "showlegend": true,
         "type": "scatter",
         "x": [
          1,
          2,
          3,
          4,
          5,
          6,
          7,
          8,
          9,
          10,
          11,
          12
         ],
         "y": [
          69.34568104016357,
          7.979465739107686,
          2.2677927649271266,
          2.1758069224301475,
          1.972219518085468,
          5.34382403326797,
          4.948788450958631,
          2.7664760306006473,
          2.934033922569568,
          1.1631528235844233,
          1.1489117634703798,
          1.056438846722007
         ]
        },
        {
         "marker": {
          "size": 10
         },
         "mode": "lines+markers",
         "name": "inr_usd",
         "showlegend": true,
         "type": "scatter",
         "x": [
          1,
          2,
          3,
          4,
          5,
          6,
          7,
          8,
          9,
          10,
          11,
          12
         ],
         "y": [
          7.682729432095066,
          43.14853092085151,
          15.717381574694215,
          null,
          4.993930607025965,
          2.1927718484068164,
          2.57465323465495,
          2.396050690450018,
          2.924854551050077,
          5.561285290764577,
          3.099927168511047,
          1.891262216950162
         ]
        },
        {
         "marker": {
          "size": 10
         },
         "mode": "lines+markers",
         "name": "jpy_usd",
         "showlegend": true,
         "type": "scatter",
         "x": [
          1,
          2,
          3,
          4,
          5,
          6,
          7,
          8,
          9,
          10,
          11,
          12
         ],
         "y": [
          2.0426365214555484,
          6.39802387180967,
          1.3252598634526183,
          1.2952068105760803,
          1.0960942907100653,
          1.0042725278258153,
          0.8580223926192196,
          0.8475203746324904,
          0.7778235910382575,
          1.9894208677952059,
          1.0542991396127845,
          1.0657916199205535
         ]
        },
        {
         "marker": {
          "size": 10
         },
         "mode": "lines+markers",
         "name": "gbr_usd",
         "showlegend": true,
         "type": "scatter",
         "x": [
          1,
          2,
          3,
          4,
          5,
          6,
          7,
          8,
          9,
          10,
          11,
          12
         ],
         "y": [
          14.897310705207733,
          2.6875206589987397,
          2.0891892897601116,
          1.5970657033971096,
          1.3702371653561038,
          1.4592404861366304,
          2.7246998524470945,
          2.083120156794602,
          1.9543964638793745,
          0.7401528385013104,
          0.5790315267648536,
          1.3096694030152207
         ]
        },
        {
         "marker": {
          "size": 10
         },
         "mode": "lines+markers",
         "name": "chf_usd",
         "showlegend": true,
         "type": "scatter",
         "x": [
          1,
          2,
          3,
          4,
          5,
          6,
          7,
          8,
          9,
          10,
          11,
          12
         ],
         "y": [
          1.5912133187521564,
          0.8643835797861323,
          1.0696239019422706,
          1.5831956197935555,
          1.720387503037306,
          2.701336074739004,
          1.3560694165255527,
          1.4308830628799296,
          0.9450722832636014,
          0.8877491714357758,
          0.9323453351814548,
          1.5541920031372918
         ]
        },
        {
         "marker": {
          "size": 10
         },
         "mode": "lines+markers",
         "name": "brl_usd",
         "showlegend": true,
         "type": "scatter",
         "x": [
          1,
          2,
          3,
          4,
          5,
          6,
          7,
          8,
          9,
          10,
          11,
          12
         ],
         "y": [
          1.8249308375976423,
          1.4545948587350774,
          1.383150605746073,
          1.3771206147810737,
          1.0382908220603067,
          1.3457826536751383,
          1.441649966740833,
          1.5847804178454457,
          1.3195246553623818,
          2.4625944707140848,
          0.87694707770273,
          1.1778793850711562
         ]
        },
        {
         "marker": {
          "size": 10
         },
         "mode": "lines+markers",
         "name": "idr_usd",
         "showlegend": true,
         "type": "scatter",
         "x": [
          1,
          2,
          3,
          4,
          5,
          6,
          7,
          8,
          9,
          10,
          11,
          12
         ],
         "y": [
          1.8063762094792797,
          34.22662684516048,
          1.4360210507830986,
          0.9348581587596702,
          0.9682668555787505,
          1.1777297380104919,
          1.2659171608668025,
          1.1412650133032867,
          1.562963450015566,
          0.9166088634296964,
          1.7569672708131414,
          2.2708749784207938
         ]
        },
        {
         "marker": {
          "size": 10
         },
         "mode": "lines+markers",
         "name": "ff_rate",
         "showlegend": true,
         "type": "scatter",
         "x": [
          1,
          2,
          3,
          4,
          5,
          6,
          7,
          8,
          9,
          10,
          11,
          12
         ],
         "y": [
          null,
          null,
          null,
          null,
          null,
          null,
          null,
          1.9917504286591439,
          1.9736069987949663,
          1.591602097083738,
          6.621958171928846,
          11.09694536778306
         ]
        }
       ],
       "layout": {
        "template": {
         "data": {
          "bar": [
           {
            "error_x": {
             "color": "#2a3f5f"
            },
            "error_y": {
             "color": "#2a3f5f"
            },
            "marker": {
             "line": {
              "color": "#E5ECF6",
              "width": 0.5
             },
             "pattern": {
              "fillmode": "overlay",
              "size": 10,
              "solidity": 0.2
             }
            },
            "type": "bar"
           }
          ],
          "barpolar": [
           {
            "marker": {
             "line": {
              "color": "#E5ECF6",
              "width": 0.5
             },
             "pattern": {
              "fillmode": "overlay",
              "size": 10,
              "solidity": 0.2
             }
            },
            "type": "barpolar"
           }
          ],
          "carpet": [
           {
            "aaxis": {
             "endlinecolor": "#2a3f5f",
             "gridcolor": "white",
             "linecolor": "white",
             "minorgridcolor": "white",
             "startlinecolor": "#2a3f5f"
            },
            "baxis": {
             "endlinecolor": "#2a3f5f",
             "gridcolor": "white",
             "linecolor": "white",
             "minorgridcolor": "white",
             "startlinecolor": "#2a3f5f"
            },
            "type": "carpet"
           }
          ],
          "choropleth": [
           {
            "colorbar": {
             "outlinewidth": 0,
             "ticks": ""
            },
            "type": "choropleth"
           }
          ],
          "contour": [
           {
            "colorbar": {
             "outlinewidth": 0,
             "ticks": ""
            },
            "colorscale": [
             [
              0,
              "#0d0887"
             ],
             [
              0.1111111111111111,
              "#46039f"
             ],
             [
              0.2222222222222222,
              "#7201a8"
             ],
             [
              0.3333333333333333,
              "#9c179e"
             ],
             [
              0.4444444444444444,
              "#bd3786"
             ],
             [
              0.5555555555555556,
              "#d8576b"
             ],
             [
              0.6666666666666666,
              "#ed7953"
             ],
             [
              0.7777777777777778,
              "#fb9f3a"
             ],
             [
              0.8888888888888888,
              "#fdca26"
             ],
             [
              1,
              "#f0f921"
             ]
            ],
            "type": "contour"
           }
          ],
          "contourcarpet": [
           {
            "colorbar": {
             "outlinewidth": 0,
             "ticks": ""
            },
            "type": "contourcarpet"
           }
          ],
          "heatmap": [
           {
            "colorbar": {
             "outlinewidth": 0,
             "ticks": ""
            },
            "colorscale": [
             [
              0,
              "#0d0887"
             ],
             [
              0.1111111111111111,
              "#46039f"
             ],
             [
              0.2222222222222222,
              "#7201a8"
             ],
             [
              0.3333333333333333,
              "#9c179e"
             ],
             [
              0.4444444444444444,
              "#bd3786"
             ],
             [
              0.5555555555555556,
              "#d8576b"
             ],
             [
              0.6666666666666666,
              "#ed7953"
             ],
             [
              0.7777777777777778,
              "#fb9f3a"
             ],
             [
              0.8888888888888888,
              "#fdca26"
             ],
             [
              1,
              "#f0f921"
             ]
            ],
            "type": "heatmap"
           }
          ],
          "heatmapgl": [
           {
            "colorbar": {
             "outlinewidth": 0,
             "ticks": ""
            },
            "colorscale": [
             [
              0,
              "#0d0887"
             ],
             [
              0.1111111111111111,
              "#46039f"
             ],
             [
              0.2222222222222222,
              "#7201a8"
             ],
             [
              0.3333333333333333,
              "#9c179e"
             ],
             [
              0.4444444444444444,
              "#bd3786"
             ],
             [
              0.5555555555555556,
              "#d8576b"
             ],
             [
              0.6666666666666666,
              "#ed7953"
             ],
             [
              0.7777777777777778,
              "#fb9f3a"
             ],
             [
              0.8888888888888888,
              "#fdca26"
             ],
             [
              1,
              "#f0f921"
             ]
            ],
            "type": "heatmapgl"
           }
          ],
          "histogram": [
           {
            "marker": {
             "pattern": {
              "fillmode": "overlay",
              "size": 10,
              "solidity": 0.2
             }
            },
            "type": "histogram"
           }
          ],
          "histogram2d": [
           {
            "colorbar": {
             "outlinewidth": 0,
             "ticks": ""
            },
            "colorscale": [
             [
              0,
              "#0d0887"
             ],
             [
              0.1111111111111111,
              "#46039f"
             ],
             [
              0.2222222222222222,
              "#7201a8"
             ],
             [
              0.3333333333333333,
              "#9c179e"
             ],
             [
              0.4444444444444444,
              "#bd3786"
             ],
             [
              0.5555555555555556,
              "#d8576b"
             ],
             [
              0.6666666666666666,
              "#ed7953"
             ],
             [
              0.7777777777777778,
              "#fb9f3a"
             ],
             [
              0.8888888888888888,
              "#fdca26"
             ],
             [
              1,
              "#f0f921"
             ]
            ],
            "type": "histogram2d"
           }
          ],
          "histogram2dcontour": [
           {
            "colorbar": {
             "outlinewidth": 0,
             "ticks": ""
            },
            "colorscale": [
             [
              0,
              "#0d0887"
             ],
             [
              0.1111111111111111,
              "#46039f"
             ],
             [
              0.2222222222222222,
              "#7201a8"
             ],
             [
              0.3333333333333333,
              "#9c179e"
             ],
             [
              0.4444444444444444,
              "#bd3786"
             ],
             [
              0.5555555555555556,
              "#d8576b"
             ],
             [
              0.6666666666666666,
              "#ed7953"
             ],
             [
              0.7777777777777778,
              "#fb9f3a"
             ],
             [
              0.8888888888888888,
              "#fdca26"
             ],
             [
              1,
              "#f0f921"
             ]
            ],
            "type": "histogram2dcontour"
           }
          ],
          "mesh3d": [
           {
            "colorbar": {
             "outlinewidth": 0,
             "ticks": ""
            },
            "type": "mesh3d"
           }
          ],
          "parcoords": [
           {
            "line": {
             "colorbar": {
              "outlinewidth": 0,
              "ticks": ""
             }
            },
            "type": "parcoords"
           }
          ],
          "pie": [
           {
            "automargin": true,
            "type": "pie"
           }
          ],
          "scatter": [
           {
            "fillpattern": {
             "fillmode": "overlay",
             "size": 10,
             "solidity": 0.2
            },
            "type": "scatter"
           }
          ],
          "scatter3d": [
           {
            "line": {
             "colorbar": {
              "outlinewidth": 0,
              "ticks": ""
             }
            },
            "marker": {
             "colorbar": {
              "outlinewidth": 0,
              "ticks": ""
             }
            },
            "type": "scatter3d"
           }
          ],
          "scattercarpet": [
           {
            "marker": {
             "colorbar": {
              "outlinewidth": 0,
              "ticks": ""
             }
            },
            "type": "scattercarpet"
           }
          ],
          "scattergeo": [
           {
            "marker": {
             "colorbar": {
              "outlinewidth": 0,
              "ticks": ""
             }
            },
            "type": "scattergeo"
           }
          ],
          "scattergl": [
           {
            "marker": {
             "colorbar": {
              "outlinewidth": 0,
              "ticks": ""
             }
            },
            "type": "scattergl"
           }
          ],
          "scattermapbox": [
           {
            "marker": {
             "colorbar": {
              "outlinewidth": 0,
              "ticks": ""
             }
            },
            "type": "scattermapbox"
           }
          ],
          "scatterpolar": [
           {
            "marker": {
             "colorbar": {
              "outlinewidth": 0,
              "ticks": ""
             }
            },
            "type": "scatterpolar"
           }
          ],
          "scatterpolargl": [
           {
            "marker": {
             "colorbar": {
              "outlinewidth": 0,
              "ticks": ""
             }
            },
            "type": "scatterpolargl"
           }
          ],
          "scatterternary": [
           {
            "marker": {
             "colorbar": {
              "outlinewidth": 0,
              "ticks": ""
             }
            },
            "type": "scatterternary"
           }
          ],
          "surface": [
           {
            "colorbar": {
             "outlinewidth": 0,
             "ticks": ""
            },
            "colorscale": [
             [
              0,
              "#0d0887"
             ],
             [
              0.1111111111111111,
              "#46039f"
             ],
             [
              0.2222222222222222,
              "#7201a8"
             ],
             [
              0.3333333333333333,
              "#9c179e"
             ],
             [
              0.4444444444444444,
              "#bd3786"
             ],
             [
              0.5555555555555556,
              "#d8576b"
             ],
             [
              0.6666666666666666,
              "#ed7953"
             ],
             [
              0.7777777777777778,
              "#fb9f3a"
             ],
             [
              0.8888888888888888,
              "#fdca26"
             ],
             [
              1,
              "#f0f921"
             ]
            ],
            "type": "surface"
           }
          ],
          "table": [
           {
            "cells": {
             "fill": {
              "color": "#EBF0F8"
             },
             "line": {
              "color": "white"
             }
            },
            "header": {
             "fill": {
              "color": "#C8D4E3"
             },
             "line": {
              "color": "white"
             }
            },
            "type": "table"
           }
          ]
         },
         "layout": {
          "annotationdefaults": {
           "arrowcolor": "#2a3f5f",
           "arrowhead": 0,
           "arrowwidth": 1
          },
          "autotypenumbers": "strict",
          "coloraxis": {
           "colorbar": {
            "outlinewidth": 0,
            "ticks": ""
           }
          },
          "colorscale": {
           "diverging": [
            [
             0,
             "#8e0152"
            ],
            [
             0.1,
             "#c51b7d"
            ],
            [
             0.2,
             "#de77ae"
            ],
            [
             0.3,
             "#f1b6da"
            ],
            [
             0.4,
             "#fde0ef"
            ],
            [
             0.5,
             "#f7f7f7"
            ],
            [
             0.6,
             "#e6f5d0"
            ],
            [
             0.7,
             "#b8e186"
            ],
            [
             0.8,
             "#7fbc41"
            ],
            [
             0.9,
             "#4d9221"
            ],
            [
             1,
             "#276419"
            ]
           ],
           "sequential": [
            [
             0,
             "#0d0887"
            ],
            [
             0.1111111111111111,
             "#46039f"
            ],
            [
             0.2222222222222222,
             "#7201a8"
            ],
            [
             0.3333333333333333,
             "#9c179e"
            ],
            [
             0.4444444444444444,
             "#bd3786"
            ],
            [
             0.5555555555555556,
             "#d8576b"
            ],
            [
             0.6666666666666666,
             "#ed7953"
            ],
            [
             0.7777777777777778,
             "#fb9f3a"
            ],
            [
             0.8888888888888888,
             "#fdca26"
            ],
            [
             1,
             "#f0f921"
            ]
           ],
           "sequentialminus": [
            [
             0,
             "#0d0887"
            ],
            [
             0.1111111111111111,
             "#46039f"
            ],
            [
             0.2222222222222222,
             "#7201a8"
            ],
            [
             0.3333333333333333,
             "#9c179e"
            ],
            [
             0.4444444444444444,
             "#bd3786"
            ],
            [
             0.5555555555555556,
             "#d8576b"
            ],
            [
             0.6666666666666666,
             "#ed7953"
            ],
            [
             0.7777777777777778,
             "#fb9f3a"
            ],
            [
             0.8888888888888888,
             "#fdca26"
            ],
            [
             1,
             "#f0f921"
            ]
           ]
          },
          "colorway": [
           "#636efa",
           "#EF553B",
           "#00cc96",
           "#ab63fa",
           "#FFA15A",
           "#19d3f3",
           "#FF6692",
           "#B6E880",
           "#FF97FF",
           "#FECB52"
          ],
          "font": {
           "color": "#2a3f5f"
          },
          "geo": {
           "bgcolor": "white",
           "lakecolor": "white",
           "landcolor": "#E5ECF6",
           "showlakes": true,
           "showland": true,
           "subunitcolor": "white"
          },
          "hoverlabel": {
           "align": "left"
          },
          "hovermode": "closest",
          "mapbox": {
           "style": "light"
          },
          "paper_bgcolor": "white",
          "plot_bgcolor": "#E5ECF6",
          "polar": {
           "angularaxis": {
            "gridcolor": "white",
            "linecolor": "white",
            "ticks": ""
           },
           "bgcolor": "#E5ECF6",
           "radialaxis": {
            "gridcolor": "white",
            "linecolor": "white",
            "ticks": ""
           }
          },
          "scene": {
           "xaxis": {
            "backgroundcolor": "#E5ECF6",
            "gridcolor": "white",
            "gridwidth": 2,
            "linecolor": "white",
            "showbackground": true,
            "ticks": "",
            "zerolinecolor": "white"
           },
           "yaxis": {
            "backgroundcolor": "#E5ECF6",
            "gridcolor": "white",
            "gridwidth": 2,
            "linecolor": "white",
            "showbackground": true,
            "ticks": "",
            "zerolinecolor": "white"
           },
           "zaxis": {
            "backgroundcolor": "#E5ECF6",
            "gridcolor": "white",
            "gridwidth": 2,
            "linecolor": "white",
            "showbackground": true,
            "ticks": "",
            "zerolinecolor": "white"
           }
          },
          "shapedefaults": {
           "line": {
            "color": "#2a3f5f"
           }
          },
          "ternary": {
           "aaxis": {
            "gridcolor": "white",
            "linecolor": "white",
            "ticks": ""
           },
           "baxis": {
            "gridcolor": "white",
            "linecolor": "white",
            "ticks": ""
           },
           "bgcolor": "#E5ECF6",
           "caxis": {
            "gridcolor": "white",
            "linecolor": "white",
            "ticks": ""
           }
          },
          "title": {
           "x": 0.05
          },
          "xaxis": {
           "automargin": true,
           "gridcolor": "white",
           "linecolor": "white",
           "ticks": "",
           "title": {
            "standoff": 15
           },
           "zerolinecolor": "white",
           "zerolinewidth": 2
          },
          "yaxis": {
           "automargin": true,
           "gridcolor": "white",
           "linecolor": "white",
           "ticks": "",
           "title": {
            "standoff": 15
           },
           "zerolinecolor": "white",
           "zerolinewidth": 2
          }
         }
        },
        "title": {
         "text": "Отношение MAE модели к MAE наивного прогноза"
        },
        "xaxis": {
         "title": {
          "text": "Временной горизонт прогноза"
         }
        },
        "yaxis": {
         "title": {
          "text": "Значение метрики"
         }
        }
       }
      }
     },
     "metadata": {},
     "output_type": "display_data"
    }
   ],
   "source": [
    "relative_cross_val_score_3 = relative_cross_val_score_encoder_decoder(df[feats], EncoderDecoderForecasterDFA)\n",
    "\n",
    "fig = go.Figure()\n",
    "\n",
    "metrics_6 = pd.DataFrame()\n",
    "\n",
    "for feat in relative_cross_val_score_3.columns:\n",
    "\n",
    "    line = relative_cross_val_score_3[feat]\n",
    "\n",
    "    metrics_6.loc[0, feat] = sum(line < 1)\n",
    "\n",
    "    y = np.arange(1, len(line) + 1)\n",
    "\n",
    "    fig.add_trace(go.Scatter(x=y, y=line, mode='lines+markers', name=feat, showlegend=True, marker=dict(size=10)))\n",
    "\n",
    "fig.update_layout(\n",
    "    title='Отношение MAE модели к MAE наивного прогноза',\n",
    "    xaxis_title='Временной горизонт прогноза',\n",
    "    yaxis_title='Значение метрики'\n",
    ")\n",
    "\n",
    "fig.show()"
   ]
  },
  {
   "cell_type": "code",
   "execution_count": 44,
   "metadata": {},
   "outputs": [
    {
     "data": {
      "text/html": [
       "<div>\n",
       "<style scoped>\n",
       "    .dataframe tbody tr th:only-of-type {\n",
       "        vertical-align: middle;\n",
       "    }\n",
       "\n",
       "    .dataframe tbody tr th {\n",
       "        vertical-align: top;\n",
       "    }\n",
       "\n",
       "    .dataframe thead th {\n",
       "        text-align: right;\n",
       "    }\n",
       "</style>\n",
       "<table border=\"1\" class=\"dataframe\">\n",
       "  <thead>\n",
       "    <tr style=\"text-align: right;\">\n",
       "      <th></th>\n",
       "      <th>eur_usd</th>\n",
       "      <th>cny_usd</th>\n",
       "      <th>inr_usd</th>\n",
       "      <th>jpy_usd</th>\n",
       "      <th>gbr_usd</th>\n",
       "      <th>chf_usd</th>\n",
       "      <th>brl_usd</th>\n",
       "      <th>idr_usd</th>\n",
       "    </tr>\n",
       "  </thead>\n",
       "  <tbody>\n",
       "    <tr>\n",
       "      <th>0</th>\n",
       "      <td>11.0</td>\n",
       "      <td>6.0</td>\n",
       "      <td>0.0</td>\n",
       "      <td>8.0</td>\n",
       "      <td>10.0</td>\n",
       "      <td>11.0</td>\n",
       "      <td>1.0</td>\n",
       "      <td>5.0</td>\n",
       "    </tr>\n",
       "  </tbody>\n",
       "</table>\n",
       "</div>"
      ],
      "text/plain": [
       "   eur_usd  cny_usd  inr_usd  jpy_usd  gbr_usd  chf_usd  brl_usd  idr_usd\n",
       "0     11.0      6.0      0.0      8.0     10.0     11.0      1.0      5.0"
      ]
     },
     "metadata": {},
     "output_type": "display_data"
    },
    {
     "data": {
      "text/plain": [
       "'sum: 52.0'"
      ]
     },
     "metadata": {},
     "output_type": "display_data"
    },
    {
     "data": {
      "text/html": [
       "<div>\n",
       "<style scoped>\n",
       "    .dataframe tbody tr th:only-of-type {\n",
       "        vertical-align: middle;\n",
       "    }\n",
       "\n",
       "    .dataframe tbody tr th {\n",
       "        vertical-align: top;\n",
       "    }\n",
       "\n",
       "    .dataframe thead th {\n",
       "        text-align: right;\n",
       "    }\n",
       "</style>\n",
       "<table border=\"1\" class=\"dataframe\">\n",
       "  <thead>\n",
       "    <tr style=\"text-align: right;\">\n",
       "      <th></th>\n",
       "      <th>brent</th>\n",
       "      <th>gas</th>\n",
       "      <th>eur_usd</th>\n",
       "      <th>cny_usd</th>\n",
       "      <th>inr_usd</th>\n",
       "      <th>jpy_usd</th>\n",
       "      <th>gbr_usd</th>\n",
       "      <th>chf_usd</th>\n",
       "      <th>brl_usd</th>\n",
       "      <th>idr_usd</th>\n",
       "      <th>ff_rate</th>\n",
       "    </tr>\n",
       "  </thead>\n",
       "  <tbody>\n",
       "    <tr>\n",
       "      <th>0</th>\n",
       "      <td>0.0</td>\n",
       "      <td>2.0</td>\n",
       "      <td>8.0</td>\n",
       "      <td>0.0</td>\n",
       "      <td>0.0</td>\n",
       "      <td>3.0</td>\n",
       "      <td>2.0</td>\n",
       "      <td>4.0</td>\n",
       "      <td>1.0</td>\n",
       "      <td>3.0</td>\n",
       "      <td>0.0</td>\n",
       "    </tr>\n",
       "  </tbody>\n",
       "</table>\n",
       "</div>"
      ],
      "text/plain": [
       "   brent  gas  eur_usd  cny_usd  inr_usd  jpy_usd  gbr_usd  chf_usd  brl_usd  \\\n",
       "0    0.0  2.0      8.0      0.0      0.0      3.0      2.0      4.0      1.0   \n",
       "\n",
       "   idr_usd  ff_rate  \n",
       "0      3.0      0.0  "
      ]
     },
     "metadata": {},
     "output_type": "display_data"
    },
    {
     "data": {
      "text/plain": [
       "'sum: 23.0'"
      ]
     },
     "metadata": {},
     "output_type": "display_data"
    }
   ],
   "source": [
    "display(metrics_5, f'sum: {metrics_5.sum(axis=1).values[0]}')\n",
    "display(metrics_6, f'sum: {metrics_6.sum(axis=1).values[0]}')\n"
   ]
  },
  {
   "attachments": {},
   "cell_type": "markdown",
   "metadata": {},
   "source": [
    "##### Рубрика \"как вам домашка?\" (0.1 балла)\n",
    "\n",
    "Пройдите короткий опрос. Это действительно важно. https://forms.gle/w3sV453spERTbGvr7"
   ]
  }
 ],
 "metadata": {
  "kernelspec": {
   "display_name": "venv",
   "language": "python",
   "name": "python3"
  },
  "language_info": {
   "codemirror_mode": {
    "name": "ipython",
    "version": 3
   },
   "file_extension": ".py",
   "mimetype": "text/x-python",
   "name": "python",
   "nbconvert_exporter": "python",
   "pygments_lexer": "ipython3",
   "version": "3.11.4"
  },
  "orig_nbformat": 4
 },
 "nbformat": 4,
 "nbformat_minor": 2
}
